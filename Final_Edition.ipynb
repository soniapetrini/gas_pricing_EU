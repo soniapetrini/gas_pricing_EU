{
  "nbformat": 4,
  "nbformat_minor": 0,
  "metadata": {
    "colab": {
      "name": "Final Edition.ipynb",
      "provenance": [],
      "collapsed_sections": [],
      "authorship_tag": "ABX9TyNSkWFNP/2hVYHf+5Wa+kM8",
      "include_colab_link": true
    },
    "kernelspec": {
      "name": "python3",
      "display_name": "Python 3"
    },
    "language_info": {
      "name": "python"
    }
  },
  "cells": [
    {
      "cell_type": "markdown",
      "metadata": {
        "id": "view-in-github",
        "colab_type": "text"
      },
      "source": [
        "<a href=\"https://colab.research.google.com/github/soniapetrini/gas_pricing_EU/blob/main/Final_Edition.ipynb\" target=\"_parent\"><img src=\"https://colab.research.google.com/assets/colab-badge.svg\" alt=\"Open In Colab\"/></a>"
      ]
    },
    {
      "cell_type": "markdown",
      "metadata": {
        "id": "9mVlSHMRumC6"
      },
      "source": [
        "# **Data Loading**"
      ]
    },
    {
      "cell_type": "code",
      "metadata": {
        "id": "bScbNPKAPqqa"
      },
      "source": [
        "import numpy as np\n",
        "import pandas as pd\n",
        "from google.colab import files\n",
        "import matplotlib\n",
        "import matplotlib.pyplot as plt\n",
        "%matplotlib inline\n",
        "import seaborn as sns"
      ],
      "execution_count": 5,
      "outputs": []
    },
    {
      "cell_type": "code",
      "metadata": {
        "colab": {
          "base_uri": "https://localhost:8080/"
        },
        "id": "3eMgNHGMQZVb",
        "outputId": "5181e96b-d5de-4556-cb6f-41e451321f87"
      },
      "source": [
        "from google.colab import drive\n",
        "drive.mount('/content/drive')\n",
        "!git clone https://github.com/soniapetrini/gas_pricing_EU.git\n",
        "path = '/content/'\n",
        "%cd gas_pricing_EU"
      ],
      "execution_count": 6,
      "outputs": [
        {
          "output_type": "stream",
          "text": [
            "Drive already mounted at /content/drive; to attempt to forcibly remount, call drive.mount(\"/content/drive\", force_remount=True).\n",
            "fatal: destination path 'gas_pricing_EU' already exists and is not an empty directory.\n",
            "[Errno 2] No such file or directory: 'gas_pricing_EUgas_pricing_EU'\n",
            "/content\n"
          ],
          "name": "stdout"
        }
      ]
    },
    {
      "cell_type": "code",
      "metadata": {
        "id": "gbcAzHrXdzhq",
        "colab": {
          "base_uri": "https://localhost:8080/"
        },
        "outputId": "d95fafd7-82d6-4852-9276-817db8d1ff77"
      },
      "source": [
        "!git pull"
      ],
      "execution_count": 7,
      "outputs": [
        {
          "output_type": "stream",
          "text": [
            "fatal: not a git repository (or any of the parent directories): .git\n"
          ],
          "name": "stdout"
        }
      ]
    },
    {
      "cell_type": "markdown",
      "metadata": {
        "id": "PzQcvIPSPfom"
      },
      "source": [
        "# **Price Data**"
      ]
    },
    {
      "cell_type": "code",
      "metadata": {
        "id": "L1l_MSoBerlt"
      },
      "source": [
        "brent = pd.read_csv(\"/content/gas_pricing_EU/Data/brent_oil_all.csv\")"
      ],
      "execution_count": 4,
      "outputs": []
    },
    {
      "cell_type": "code",
      "metadata": {
        "id": "T5ycLPA0eyBY"
      },
      "source": [
        "brent['month']= pd.to_datetime(brent['Date']).dt.to_period(\"M\")"
      ],
      "execution_count": null,
      "outputs": []
    },
    {
      "cell_type": "code",
      "metadata": {
        "id": "gL4JYoxffPz6"
      },
      "source": [
        "brent = brent.groupby('month').mean()"
      ],
      "execution_count": null,
      "outputs": []
    },
    {
      "cell_type": "code",
      "metadata": {
        "colab": {
          "base_uri": "https://localhost:8080/",
          "height": 450
        },
        "id": "TvicbaEDgNHx",
        "outputId": "7cd2edda-9019-428b-de61-56b155ea2093"
      },
      "source": [
        "brent"
      ],
      "execution_count": null,
      "outputs": [
        {
          "output_type": "execute_result",
          "data": {
            "text/html": [
              "<div>\n",
              "<style scoped>\n",
              "    .dataframe tbody tr th:only-of-type {\n",
              "        vertical-align: middle;\n",
              "    }\n",
              "\n",
              "    .dataframe tbody tr th {\n",
              "        vertical-align: top;\n",
              "    }\n",
              "\n",
              "    .dataframe thead th {\n",
              "        text-align: right;\n",
              "    }\n",
              "</style>\n",
              "<table border=\"1\" class=\"dataframe\">\n",
              "  <thead>\n",
              "    <tr style=\"text-align: right;\">\n",
              "      <th></th>\n",
              "      <th>Open</th>\n",
              "      <th>High</th>\n",
              "      <th>Low</th>\n",
              "      <th>Close</th>\n",
              "      <th>Volume</th>\n",
              "      <th>Dividends</th>\n",
              "      <th>Stock Splits</th>\n",
              "    </tr>\n",
              "    <tr>\n",
              "      <th>month</th>\n",
              "      <th></th>\n",
              "      <th></th>\n",
              "      <th></th>\n",
              "      <th></th>\n",
              "      <th></th>\n",
              "      <th></th>\n",
              "      <th></th>\n",
              "    </tr>\n",
              "  </thead>\n",
              "  <tbody>\n",
              "    <tr>\n",
              "      <th>2007-07</th>\n",
              "      <td>75.775000</td>\n",
              "      <td>76.850000</td>\n",
              "      <td>75.555000</td>\n",
              "      <td>76.395000</td>\n",
              "      <td>3044.000000</td>\n",
              "      <td>0.0</td>\n",
              "      <td>0.0</td>\n",
              "    </tr>\n",
              "    <tr>\n",
              "      <th>2007-08</th>\n",
              "      <td>71.391304</td>\n",
              "      <td>72.037826</td>\n",
              "      <td>70.489130</td>\n",
              "      <td>71.258696</td>\n",
              "      <td>4436.173913</td>\n",
              "      <td>0.0</td>\n",
              "      <td>0.0</td>\n",
              "    </tr>\n",
              "    <tr>\n",
              "      <th>2007-09</th>\n",
              "      <td>76.680526</td>\n",
              "      <td>77.599474</td>\n",
              "      <td>76.128947</td>\n",
              "      <td>77.135263</td>\n",
              "      <td>3265.368421</td>\n",
              "      <td>0.0</td>\n",
              "      <td>0.0</td>\n",
              "    </tr>\n",
              "    <tr>\n",
              "      <th>2007-10</th>\n",
              "      <td>81.946522</td>\n",
              "      <td>82.999130</td>\n",
              "      <td>81.205652</td>\n",
              "      <td>82.456957</td>\n",
              "      <td>3216.260870</td>\n",
              "      <td>0.0</td>\n",
              "      <td>0.0</td>\n",
              "    </tr>\n",
              "    <tr>\n",
              "      <th>2007-11</th>\n",
              "      <td>92.202500</td>\n",
              "      <td>93.004000</td>\n",
              "      <td>90.880500</td>\n",
              "      <td>91.876000</td>\n",
              "      <td>2011.700000</td>\n",
              "      <td>0.0</td>\n",
              "      <td>0.0</td>\n",
              "    </tr>\n",
              "    <tr>\n",
              "      <th>...</th>\n",
              "      <td>...</td>\n",
              "      <td>...</td>\n",
              "      <td>...</td>\n",
              "      <td>...</td>\n",
              "      <td>...</td>\n",
              "      <td>...</td>\n",
              "      <td>...</td>\n",
              "    </tr>\n",
              "    <tr>\n",
              "      <th>2020-11</th>\n",
              "      <td>43.002105</td>\n",
              "      <td>44.049474</td>\n",
              "      <td>42.529474</td>\n",
              "      <td>43.478421</td>\n",
              "      <td>33261.000000</td>\n",
              "      <td>0.0</td>\n",
              "      <td>0.0</td>\n",
              "    </tr>\n",
              "    <tr>\n",
              "      <th>2020-12</th>\n",
              "      <td>49.883500</td>\n",
              "      <td>50.609500</td>\n",
              "      <td>49.309500</td>\n",
              "      <td>50.095000</td>\n",
              "      <td>25824.400000</td>\n",
              "      <td>0.0</td>\n",
              "      <td>0.0</td>\n",
              "    </tr>\n",
              "    <tr>\n",
              "      <th>2021-01</th>\n",
              "      <td>55.077895</td>\n",
              "      <td>55.982632</td>\n",
              "      <td>54.490526</td>\n",
              "      <td>55.351579</td>\n",
              "      <td>30851.842105</td>\n",
              "      <td>0.0</td>\n",
              "      <td>0.0</td>\n",
              "    </tr>\n",
              "    <tr>\n",
              "      <th>2021-02</th>\n",
              "      <td>61.775789</td>\n",
              "      <td>62.756316</td>\n",
              "      <td>61.218947</td>\n",
              "      <td>62.203158</td>\n",
              "      <td>32176.736842</td>\n",
              "      <td>0.0</td>\n",
              "      <td>0.0</td>\n",
              "    </tr>\n",
              "    <tr>\n",
              "      <th>2021-03</th>\n",
              "      <td>65.858571</td>\n",
              "      <td>67.554286</td>\n",
              "      <td>65.094286</td>\n",
              "      <td>66.341429</td>\n",
              "      <td>40982.714286</td>\n",
              "      <td>0.0</td>\n",
              "      <td>0.0</td>\n",
              "    </tr>\n",
              "  </tbody>\n",
              "</table>\n",
              "<p>165 rows × 7 columns</p>\n",
              "</div>"
            ],
            "text/plain": [
              "              Open       High        Low  ...        Volume  Dividends  Stock Splits\n",
              "month                                     ...                                       \n",
              "2007-07  75.775000  76.850000  75.555000  ...   3044.000000        0.0           0.0\n",
              "2007-08  71.391304  72.037826  70.489130  ...   4436.173913        0.0           0.0\n",
              "2007-09  76.680526  77.599474  76.128947  ...   3265.368421        0.0           0.0\n",
              "2007-10  81.946522  82.999130  81.205652  ...   3216.260870        0.0           0.0\n",
              "2007-11  92.202500  93.004000  90.880500  ...   2011.700000        0.0           0.0\n",
              "...            ...        ...        ...  ...           ...        ...           ...\n",
              "2020-11  43.002105  44.049474  42.529474  ...  33261.000000        0.0           0.0\n",
              "2020-12  49.883500  50.609500  49.309500  ...  25824.400000        0.0           0.0\n",
              "2021-01  55.077895  55.982632  54.490526  ...  30851.842105        0.0           0.0\n",
              "2021-02  61.775789  62.756316  61.218947  ...  32176.736842        0.0           0.0\n",
              "2021-03  65.858571  67.554286  65.094286  ...  40982.714286        0.0           0.0\n",
              "\n",
              "[165 rows x 7 columns]"
            ]
          },
          "metadata": {
            "tags": []
          },
          "execution_count": 7
        }
      ]
    },
    {
      "cell_type": "code",
      "metadata": {
        "id": "aFd8nqoVfETt"
      },
      "source": [
        "ttf = pd.read_csv('/content/gas_pricing_EU/Data/TTF_Quandl.csv')"
      ],
      "execution_count": null,
      "outputs": []
    },
    {
      "cell_type": "code",
      "metadata": {
        "id": "nAmE78x4fKsu"
      },
      "source": [
        "ttf['month'] = pd.to_datetime(ttf['Date']).dt.to_period(\"M\")"
      ],
      "execution_count": null,
      "outputs": []
    },
    {
      "cell_type": "code",
      "metadata": {
        "id": "rbe0BYfUfgG4"
      },
      "source": [
        "ttf = ttf.groupby(\"month\").mean()"
      ],
      "execution_count": null,
      "outputs": []
    },
    {
      "cell_type": "code",
      "metadata": {
        "id": "t7XlUkCsgKOG"
      },
      "source": [
        "import_price = pd.read_csv(\"/content/gas_pricing_EU/Data/import_price_month.csv\")"
      ],
      "execution_count": null,
      "outputs": []
    },
    {
      "cell_type": "code",
      "metadata": {
        "id": "kO1ytIgWhFjd"
      },
      "source": [
        "import_price['month'] = pd.to_datetime(import_price['month']).dt.to_period(\"M\")"
      ],
      "execution_count": null,
      "outputs": []
    },
    {
      "cell_type": "code",
      "metadata": {
        "id": "rdvQSZppiPSw"
      },
      "source": [
        "import_price.index = import_price['month']"
      ],
      "execution_count": null,
      "outputs": []
    },
    {
      "cell_type": "code",
      "metadata": {
        "id": "h1GizLEsi1lq"
      },
      "source": [
        "coal = pd.read_csv('coal.csv')"
      ],
      "execution_count": null,
      "outputs": []
    },
    {
      "cell_type": "code",
      "metadata": {
        "id": "GUf1fVmOjKNT"
      },
      "source": [
        "coal['month'] = pd.to_datetime(coal['Date']).dt.to_period(\"M\")"
      ],
      "execution_count": null,
      "outputs": []
    },
    {
      "cell_type": "code",
      "metadata": {
        "id": "6VcdPvIFjaxO"
      },
      "source": [
        "coal.index = coal['month']"
      ],
      "execution_count": null,
      "outputs": []
    },
    {
      "cell_type": "code",
      "metadata": {
        "id": "qjK2SIh2TvVo"
      },
      "source": [
        "exchange = pd.read_csv(\"/content/gas_pricing_EU/Data/eurusd.csv\")"
      ],
      "execution_count": null,
      "outputs": []
    },
    {
      "cell_type": "code",
      "metadata": {
        "id": "-UmCP8B2TvVp"
      },
      "source": [
        "exchange['month']= pd.to_datetime(exchange['Date']).dt.to_period(\"M\")"
      ],
      "execution_count": null,
      "outputs": []
    },
    {
      "cell_type": "code",
      "metadata": {
        "id": "oRvU_Oe1TvVp"
      },
      "source": [
        "exchange = exchange.groupby('month').mean()"
      ],
      "execution_count": null,
      "outputs": []
    },
    {
      "cell_type": "code",
      "metadata": {
        "colab": {
          "base_uri": "https://localhost:8080/",
          "height": 450
        },
        "id": "qgHPBXioTvVq",
        "outputId": "b315737b-fbed-4b73-ba38-f9941cc2f2e2"
      },
      "source": [
        "exchange"
      ],
      "execution_count": null,
      "outputs": [
        {
          "output_type": "execute_result",
          "data": {
            "text/html": [
              "<div>\n",
              "<style scoped>\n",
              "    .dataframe tbody tr th:only-of-type {\n",
              "        vertical-align: middle;\n",
              "    }\n",
              "\n",
              "    .dataframe tbody tr th {\n",
              "        vertical-align: top;\n",
              "    }\n",
              "\n",
              "    .dataframe thead th {\n",
              "        text-align: right;\n",
              "    }\n",
              "</style>\n",
              "<table border=\"1\" class=\"dataframe\">\n",
              "  <thead>\n",
              "    <tr style=\"text-align: right;\">\n",
              "      <th></th>\n",
              "      <th>eurusd_close</th>\n",
              "    </tr>\n",
              "    <tr>\n",
              "      <th>month</th>\n",
              "      <th></th>\n",
              "    </tr>\n",
              "  </thead>\n",
              "  <tbody>\n",
              "    <tr>\n",
              "      <th>2014-02</th>\n",
              "      <td>1.365286</td>\n",
              "    </tr>\n",
              "    <tr>\n",
              "      <th>2014-03</th>\n",
              "      <td>1.382566</td>\n",
              "    </tr>\n",
              "    <tr>\n",
              "      <th>2014-04</th>\n",
              "      <td>1.380623</td>\n",
              "    </tr>\n",
              "    <tr>\n",
              "      <th>2014-05</th>\n",
              "      <td>1.374598</td>\n",
              "    </tr>\n",
              "    <tr>\n",
              "      <th>2014-06</th>\n",
              "      <td>1.359689</td>\n",
              "    </tr>\n",
              "    <tr>\n",
              "      <th>...</th>\n",
              "      <td>...</td>\n",
              "    </tr>\n",
              "    <tr>\n",
              "      <th>2020-10</th>\n",
              "      <td>1.176977</td>\n",
              "    </tr>\n",
              "    <tr>\n",
              "      <th>2020-11</th>\n",
              "      <td>1.182952</td>\n",
              "    </tr>\n",
              "    <tr>\n",
              "      <th>2020-12</th>\n",
              "      <td>1.216249</td>\n",
              "    </tr>\n",
              "    <tr>\n",
              "      <th>2021-01</th>\n",
              "      <td>1.217785</td>\n",
              "    </tr>\n",
              "    <tr>\n",
              "      <th>2021-02</th>\n",
              "      <td>1.212386</td>\n",
              "    </tr>\n",
              "  </tbody>\n",
              "</table>\n",
              "<p>85 rows × 1 columns</p>\n",
              "</div>"
            ],
            "text/plain": [
              "         eurusd_close\n",
              "month                \n",
              "2014-02      1.365286\n",
              "2014-03      1.382566\n",
              "2014-04      1.380623\n",
              "2014-05      1.374598\n",
              "2014-06      1.359689\n",
              "...               ...\n",
              "2020-10      1.176977\n",
              "2020-11      1.182952\n",
              "2020-12      1.216249\n",
              "2021-01      1.217785\n",
              "2021-02      1.212386\n",
              "\n",
              "[85 rows x 1 columns]"
            ]
          },
          "metadata": {
            "tags": []
          },
          "execution_count": 108
        }
      ]
    },
    {
      "cell_type": "code",
      "metadata": {
        "id": "lYKw48XcRlup"
      },
      "source": [
        "data_p = pd.concat([ttf['Settle'], brent['Close'], import_price['import_price_gas'],coal['coal'],exchange['eurusd_close']], axis =1)\n",
        "data_p.columns = ['ttf', 'brent', 'import_price_gas', 'coal_price', 'exchange_rate']"
      ],
      "execution_count": null,
      "outputs": []
    },
    {
      "cell_type": "code",
      "metadata": {
        "colab": {
          "base_uri": "https://localhost:8080/",
          "height": 450
        },
        "id": "dNUg74mDRu7R",
        "outputId": "6f809e1b-b91e-42a5-82da-3fb94454e1af"
      },
      "source": [
        "data_p"
      ],
      "execution_count": null,
      "outputs": [
        {
          "output_type": "execute_result",
          "data": {
            "text/html": [
              "<div>\n",
              "<style scoped>\n",
              "    .dataframe tbody tr th:only-of-type {\n",
              "        vertical-align: middle;\n",
              "    }\n",
              "\n",
              "    .dataframe tbody tr th {\n",
              "        vertical-align: top;\n",
              "    }\n",
              "\n",
              "    .dataframe thead th {\n",
              "        text-align: right;\n",
              "    }\n",
              "</style>\n",
              "<table border=\"1\" class=\"dataframe\">\n",
              "  <thead>\n",
              "    <tr style=\"text-align: right;\">\n",
              "      <th></th>\n",
              "      <th>ttf</th>\n",
              "      <th>brent</th>\n",
              "      <th>import_price_gas</th>\n",
              "      <th>coal_price</th>\n",
              "    </tr>\n",
              "    <tr>\n",
              "      <th>month</th>\n",
              "      <th></th>\n",
              "      <th></th>\n",
              "      <th></th>\n",
              "      <th></th>\n",
              "    </tr>\n",
              "  </thead>\n",
              "  <tbody>\n",
              "    <tr>\n",
              "      <th>1960-01</th>\n",
              "      <td>NaN</td>\n",
              "      <td>NaN</td>\n",
              "      <td>0.4048</td>\n",
              "      <td>NaN</td>\n",
              "    </tr>\n",
              "    <tr>\n",
              "      <th>1960-02</th>\n",
              "      <td>NaN</td>\n",
              "      <td>NaN</td>\n",
              "      <td>0.4048</td>\n",
              "      <td>NaN</td>\n",
              "    </tr>\n",
              "    <tr>\n",
              "      <th>1960-03</th>\n",
              "      <td>NaN</td>\n",
              "      <td>NaN</td>\n",
              "      <td>0.4048</td>\n",
              "      <td>NaN</td>\n",
              "    </tr>\n",
              "    <tr>\n",
              "      <th>1960-04</th>\n",
              "      <td>NaN</td>\n",
              "      <td>NaN</td>\n",
              "      <td>0.4048</td>\n",
              "      <td>NaN</td>\n",
              "    </tr>\n",
              "    <tr>\n",
              "      <th>1960-05</th>\n",
              "      <td>NaN</td>\n",
              "      <td>NaN</td>\n",
              "      <td>0.4048</td>\n",
              "      <td>NaN</td>\n",
              "    </tr>\n",
              "    <tr>\n",
              "      <th>...</th>\n",
              "      <td>...</td>\n",
              "      <td>...</td>\n",
              "      <td>...</td>\n",
              "      <td>...</td>\n",
              "    </tr>\n",
              "    <tr>\n",
              "      <th>2021-01</th>\n",
              "      <td>20.34480</td>\n",
              "      <td>55.351579</td>\n",
              "      <td>7.2683</td>\n",
              "      <td>68.392105</td>\n",
              "    </tr>\n",
              "    <tr>\n",
              "      <th>2021-02</th>\n",
              "      <td>17.36515</td>\n",
              "      <td>62.203158</td>\n",
              "      <td>6.1585</td>\n",
              "      <td>65.239474</td>\n",
              "    </tr>\n",
              "    <tr>\n",
              "      <th>2021-03</th>\n",
              "      <td>15.82600</td>\n",
              "      <td>66.341429</td>\n",
              "      <td>6.1271</td>\n",
              "      <td>NaN</td>\n",
              "    </tr>\n",
              "    <tr>\n",
              "      <th>2021-04</th>\n",
              "      <td>NaN</td>\n",
              "      <td>NaN</td>\n",
              "      <td>7.1468</td>\n",
              "      <td>NaN</td>\n",
              "    </tr>\n",
              "    <tr>\n",
              "      <th>2021-05</th>\n",
              "      <td>NaN</td>\n",
              "      <td>NaN</td>\n",
              "      <td>8.9088</td>\n",
              "      <td>NaN</td>\n",
              "    </tr>\n",
              "  </tbody>\n",
              "</table>\n",
              "<p>737 rows × 4 columns</p>\n",
              "</div>"
            ],
            "text/plain": [
              "              ttf      brent  import_price_gas  coal_price\n",
              "month                                                     \n",
              "1960-01       NaN        NaN            0.4048         NaN\n",
              "1960-02       NaN        NaN            0.4048         NaN\n",
              "1960-03       NaN        NaN            0.4048         NaN\n",
              "1960-04       NaN        NaN            0.4048         NaN\n",
              "1960-05       NaN        NaN            0.4048         NaN\n",
              "...           ...        ...               ...         ...\n",
              "2021-01  20.34480  55.351579            7.2683   68.392105\n",
              "2021-02  17.36515  62.203158            6.1585   65.239474\n",
              "2021-03  15.82600  66.341429            6.1271         NaN\n",
              "2021-04       NaN        NaN            7.1468         NaN\n",
              "2021-05       NaN        NaN            8.9088         NaN\n",
              "\n",
              "[737 rows x 4 columns]"
            ]
          },
          "metadata": {
            "tags": []
          },
          "execution_count": 18
        }
      ]
    },
    {
      "cell_type": "markdown",
      "metadata": {
        "id": "Es819AD3RXRF"
      },
      "source": [
        "# **Seasonal Data**"
      ]
    },
    {
      "cell_type": "code",
      "metadata": {
        "id": "TNyJerwHAk0k"
      },
      "source": [
        "def country_name(a):\n",
        "  if a == \"BE\":\n",
        "    return \"Belgium\"\n",
        "  if a == \"BG\":\n",
        "    return \"Bulgaria\"\n",
        "  if a == \"CZ\":\n",
        "    return \"Czechia\"\n",
        "  if a == \"DK\":\n",
        "    return \"Denmark\"\n",
        "  if a == \"DE\":\n",
        "    return \"Germany\"\n",
        "  if a == \"EE\":\n",
        "    return \"Estonia\"\n",
        "  if a == \"IE\":\n",
        "    return \"Ireland\"\n",
        "  if a == \"EL\":\n",
        "    return \"Greece\"\n",
        "  if a == \"FR\":\n",
        "    return \"France\"\n",
        "  if a == \"ES\":\n",
        "    return \"Spain\"\n",
        "  if a == \"HR\":\n",
        "    return \"Croatia\"\n",
        "  if a == \"IT\":\n",
        "    return \"Italy\"\n",
        "  if a == \"LV\":\n",
        "    return \"Latvia\"\n",
        "  if a == \"LT\":\n",
        "    return \"Lithuania\"\n",
        "  if a == \"HU\":\n",
        "    return \"Hungary\"\n",
        "  if a == \"NL\":\n",
        "    return \"Netherlands\"\n",
        "  if a == \"AT\":\n",
        "    return \"Austria\"\n",
        "  if a == \"PL\":\n",
        "    return \"Poland\"\n",
        "  if a == \"PT\":\n",
        "    return \"Portugal\"\n",
        "  if a == \"RO\":\n",
        "    return \"Romania\"\n",
        "  if a == \"SI\":\n",
        "    return \"Slovenia\"\n",
        "  if a == \"SK\":\n",
        "    return \"Slovakia\"\n",
        "  if a == \"FI\":\n",
        "    return \"Finland\"\n",
        "  if a == \"SE\":\n",
        "    return \"Sweden\"\n",
        "  if a == \"UK\":\n",
        "    return \"United Kingdom\"\n",
        "  if a == \"TR\":\n",
        "    return \"Turkey\"\n",
        "  else:\n",
        "    return \"Others\""
      ],
      "execution_count": null,
      "outputs": []
    },
    {
      "cell_type": "code",
      "metadata": {
        "id": "p124M8qhTKiA"
      },
      "source": [
        "def clean_mean(df):\n",
        "  df['geo'] = df['geo'].apply(country_name) # select 26 countries\n",
        "  df['month'] = pd.to_datetime(df['TIME_PERIOD']).dt.to_period(\"M\")\n",
        "  df = df[df['geo']!= 'Others']\n",
        "  df = df.groupby(\"month\").mean()\n",
        "  df['month'] = df.index\n",
        "  return df"
      ],
      "execution_count": null,
      "outputs": []
    },
    {
      "cell_type": "code",
      "metadata": {
        "id": "hhk1fzfDWvGT"
      },
      "source": [
        "def clean_sum(df):\n",
        "  df['geo'] = df['geo'].apply(country_name) # select 26 countries\n",
        "  df['month'] = pd.to_datetime(df['TIME_PERIOD']).dt.to_period(\"M\")\n",
        "  df = df[df['geo']!= 'Others']\n",
        "  df = df.groupby(\"month\").sum()\n",
        "  df['month'] = df.index\n",
        "  return df"
      ],
      "execution_count": null,
      "outputs": []
    },
    {
      "cell_type": "markdown",
      "metadata": {
        "id": "oRvkFxSdeGcW"
      },
      "source": [
        "## Heating Data"
      ]
    },
    {
      "cell_type": "code",
      "metadata": {
        "id": "Du3g1kMynBbn"
      },
      "source": [
        "from dateutil.parser import parse\n",
        "heating = pd.read_csv(\"/content/gas_pricing_EU/Data/heating_degree.csv\")"
      ],
      "execution_count": null,
      "outputs": []
    },
    {
      "cell_type": "code",
      "metadata": {
        "id": "qCU6eH8xTxyr"
      },
      "source": [
        "heating = clean_mean(heating)"
      ],
      "execution_count": null,
      "outputs": []
    },
    {
      "cell_type": "code",
      "metadata": {
        "id": "4FHtpF8rYVvj"
      },
      "source": [
        "heating.to_csv(\"heating.csv\")"
      ],
      "execution_count": null,
      "outputs": []
    },
    {
      "cell_type": "code",
      "metadata": {
        "id": "wCzct3QopqbT"
      },
      "source": [
        "from dateutil.parser import parse\n",
        "heating = pd.read_csv('heating.csv', parse_dates=['month'], index_col='month')"
      ],
      "execution_count": null,
      "outputs": []
    },
    {
      "cell_type": "code",
      "metadata": {
        "id": "-1cgPuWlnBqC"
      },
      "source": [
        "from statsmodels.tsa.seasonal import seasonal_decompose\n",
        "result_add_heating = seasonal_decompose(heating['OBS_VALUE'], model='additive', extrapolate_trend='freq') # Additive Decomposition\n",
        "des_heating = pd.DataFrame(heating.OBS_VALUE.values - result_add_heating.seasonal)"
      ],
      "execution_count": null,
      "outputs": []
    },
    {
      "cell_type": "code",
      "metadata": {
        "colab": {
          "base_uri": "https://localhost:8080/",
          "height": 729
        },
        "id": "0AAOMBhMfrCP",
        "outputId": "b2d2d2ab-4294-40eb-8d59-9985c159d37b"
      },
      "source": [
        "import matplotlib.pyplot as plt\n",
        "plt.rcParams.update({'figure.figsize': (10,10)})\n",
        "result_add_heating.plot().suptitle('Additive Decompose', fontsize=22)\n",
        "plt.show()"
      ],
      "execution_count": null,
      "outputs": [
        {
          "output_type": "display_data",
          "data": {
            "image/png": "[encoded data removed]",
            "text/plain": [
              "<Figure size 720x720 with 4 Axes>"
            ]
          },
          "metadata": {
            "tags": [],
            "needs_background": "light"
          }
        }
      ]
    },
    {
      "cell_type": "code",
      "metadata": {
        "id": "CIwk_T6GZpLp"
      },
      "source": [
        "des_heating = des_heating.reset_index()\n",
        "des_heating['month'] = des_heating['month'].dt.to_period(\"M\")"
      ],
      "execution_count": null,
      "outputs": []
    },
    {
      "cell_type": "code",
      "metadata": {
        "id": "4yd4U9eJaYvL"
      },
      "source": [
        "des_heating.columns = ['month', 'des_heating']\n",
        "des_heating.index = des_heating['month']"
      ],
      "execution_count": null,
      "outputs": []
    },
    {
      "cell_type": "code",
      "metadata": {
        "id": "xVzjWFnLrkTE"
      },
      "source": [
        "heating.index = des_heating.index"
      ],
      "execution_count": null,
      "outputs": []
    },
    {
      "cell_type": "code",
      "metadata": {
        "id": "zxhjSd-krFrw"
      },
      "source": [
        "des_heating['heating'] = heating['OBS_VALUE']"
      ],
      "execution_count": null,
      "outputs": []
    },
    {
      "cell_type": "markdown",
      "metadata": {
        "id": "eoS1UhQdePBw"
      },
      "source": [
        "## Storage Data"
      ]
    },
    {
      "cell_type": "code",
      "metadata": {
        "id": "DJYtnYV5eTQx"
      },
      "source": [
        "storage = pd.read_csv(\"storage.csv\")"
      ],
      "execution_count": null,
      "outputs": []
    },
    {
      "cell_type": "code",
      "metadata": {
        "id": "z-ystpNjeTVi"
      },
      "source": [
        "storage = clean_sum(storage)"
      ],
      "execution_count": null,
      "outputs": []
    },
    {
      "cell_type": "code",
      "metadata": {
        "id": "gnZjAzytfCgp"
      },
      "source": [
        "storage.to_csv(\"for_storage.csv\")\n",
        "storage = pd.read_csv('for_storage.csv', parse_dates=['month'], index_col='month')"
      ],
      "execution_count": null,
      "outputs": []
    },
    {
      "cell_type": "code",
      "metadata": {
        "id": "osVrbOeteTcL"
      },
      "source": [
        "result_add_storage = seasonal_decompose(storage['OBS_VALUE'], model='additive', extrapolate_trend='freq') # Additive Decomposition\n",
        "des_storage = pd.DataFrame(storage.OBS_VALUE.values - result_add_storage.seasonal)"
      ],
      "execution_count": null,
      "outputs": []
    },
    {
      "cell_type": "code",
      "metadata": {
        "colab": {
          "base_uri": "https://localhost:8080/",
          "height": 729
        },
        "id": "8vlbt_YefyUa",
        "outputId": "dae89c86-d053-41f8-aaca-5a7a6a680ccf"
      },
      "source": [
        "plt.rcParams.update({'figure.figsize': (10,10)})\n",
        "result_add_storage.plot().suptitle('Additive Decompose', fontsize=22)\n",
        "plt.show()"
      ],
      "execution_count": null,
      "outputs": [
        {
          "output_type": "display_data",
          "data": {
            "image/png": "[encoded data removed]",
            "text/plain": [
              "<Figure size 720x720 with 4 Axes>"
            ]
          },
          "metadata": {
            "tags": [],
            "needs_background": "light"
          }
        }
      ]
    },
    {
      "cell_type": "code",
      "metadata": {
        "id": "XhczNsCAeTfo"
      },
      "source": [
        "des_storage = des_storage.reset_index()\n",
        "des_storage['month'] = des_storage['month'].dt.to_period(\"M\")\n",
        "des_storage.columns = ['month', 'des_storage']"
      ],
      "execution_count": null,
      "outputs": []
    },
    {
      "cell_type": "code",
      "metadata": {
        "collapsed": true,
        "id": "0aMdvtx8fWy8"
      },
      "source": [
        "des_storage.index = des_storage['month']"
      ],
      "execution_count": null,
      "outputs": []
    },
    {
      "cell_type": "code",
      "metadata": {
        "id": "GPW6szWwr2M_"
      },
      "source": [
        "storage.index = des_storage.index"
      ],
      "execution_count": null,
      "outputs": []
    },
    {
      "cell_type": "code",
      "metadata": {
        "id": "4OuSHoEMsAl_"
      },
      "source": [
        "des_storage['storage'] = storage['OBS_VALUE']"
      ],
      "execution_count": null,
      "outputs": []
    },
    {
      "cell_type": "markdown",
      "metadata": {
        "id": "bSMWOsKOffd0"
      },
      "source": [
        "## Demand Data"
      ]
    },
    {
      "cell_type": "code",
      "metadata": {
        "id": "OFFk0So8gCYL"
      },
      "source": [
        "c = pd.read_csv(\"/content/gas_pricing_EU/Data/supply, transformation and consumption.csv\")\n",
        "e = pd.read_csv(\"/content/gas_pricing_EU/Data/export.csv\")\n",
        "i = pd.read_csv(\"/content/gas_pricing_EU/Data/import.csv\")"
      ],
      "execution_count": null,
      "outputs": []
    },
    {
      "cell_type": "code",
      "metadata": {
        "id": "ElBsxncBgCcm"
      },
      "source": [
        "c = clean_sum(c)\n",
        "e = clean_sum(e)\n",
        "i = clean_sum(i)"
      ],
      "execution_count": null,
      "outputs": []
    },
    {
      "cell_type": "code",
      "metadata": {
        "id": "UYvl8ttXgCg-"
      },
      "source": [
        "demand = pd.concat([c['OBS_VALUE'], e['OBS_VALUE'], i['OBS_VALUE'], c['month']],axis =1)"
      ],
      "execution_count": null,
      "outputs": []
    },
    {
      "cell_type": "code",
      "metadata": {
        "id": "Ew4L9o0IgC91"
      },
      "source": [
        "demand.columns = ['consumption', 'export', 'import', 'month']"
      ],
      "execution_count": null,
      "outputs": []
    },
    {
      "cell_type": "code",
      "metadata": {
        "id": "OIdI9fYQgDLX"
      },
      "source": [
        "demand['demand'] = demand['consumption'] + demand['export'] - demand['import']"
      ],
      "execution_count": null,
      "outputs": []
    },
    {
      "cell_type": "code",
      "metadata": {
        "id": "b7_n2m6fgDYs"
      },
      "source": [
        "demand.to_csv(\"demand.csv\")\n",
        "demand = pd.read_csv('demand.csv', parse_dates=['month'], index_col='month')"
      ],
      "execution_count": null,
      "outputs": []
    },
    {
      "cell_type": "code",
      "metadata": {
        "id": "mt7d1qzBgDdG"
      },
      "source": [
        "result_add_demand = seasonal_decompose(demand['demand'], model='additive', extrapolate_trend='freq') # Additive Decomposition\n",
        "des_demand = pd.DataFrame(demand.demand.values - result_add_demand.seasonal)"
      ],
      "execution_count": null,
      "outputs": []
    },
    {
      "cell_type": "code",
      "metadata": {
        "colab": {
          "base_uri": "https://localhost:8080/",
          "height": 729
        },
        "id": "ChwGm5fKh3Jn",
        "outputId": "600c236b-ca81-43a8-b327-4509e4235590"
      },
      "source": [
        "plt.rcParams.update({'figure.figsize': (10,10)})\n",
        "result_add_demand.plot().suptitle('Additive Decompose', fontsize=22)\n",
        "plt.show()"
      ],
      "execution_count": null,
      "outputs": [
        {
          "output_type": "display_data",
          "data": {
            "image/png": "[encoded data removed]",
            "text/plain": [
              "<Figure size 720x720 with 4 Axes>"
            ]
          },
          "metadata": {
            "tags": [],
            "needs_background": "light"
          }
        }
      ]
    },
    {
      "cell_type": "code",
      "metadata": {
        "id": "L25K0UDciFJj"
      },
      "source": [
        "des_demand = des_demand.reset_index()\n",
        "des_demand['month'] = des_demand['month'].dt.to_period(\"M\")\n",
        "des_demand.columns = ['month', 'des_demand']"
      ],
      "execution_count": null,
      "outputs": []
    },
    {
      "cell_type": "code",
      "metadata": {
        "id": "9ZD8-uSejxVO"
      },
      "source": [
        "des_demand.index = des_demand['month']"
      ],
      "execution_count": null,
      "outputs": []
    },
    {
      "cell_type": "code",
      "metadata": {
        "id": "qbIp8eJUsRph"
      },
      "source": [
        "demand.index = des_demand.index"
      ],
      "execution_count": null,
      "outputs": []
    },
    {
      "cell_type": "code",
      "metadata": {
        "id": "SVs4yh5PsWOc"
      },
      "source": [
        "des_demand['demand'] = demand['demand']"
      ],
      "execution_count": null,
      "outputs": []
    },
    {
      "cell_type": "markdown",
      "metadata": {
        "id": "9RIUaJTVlJrj"
      },
      "source": [
        "# **Data Summary**"
      ]
    },
    {
      "cell_type": "code",
      "metadata": {
        "id": "_a_wxNuliR3k"
      },
      "source": [
        "data_season = pd.concat([des_heating[['des_heating', 'heating']], des_storage[['des_storage','storage']], des_demand[['des_demand', 'demand']]], axis =1)"
      ],
      "execution_count": null,
      "outputs": []
    },
    {
      "cell_type": "code",
      "metadata": {
        "id": "wfpLlqARkGnw"
      },
      "source": [
        "data_season = data_season.dropna()"
      ],
      "execution_count": null,
      "outputs": []
    },
    {
      "cell_type": "code",
      "metadata": {
        "id": "UsglAXIaihBt"
      },
      "source": [
        "data_p = data_p.dropna()"
      ],
      "execution_count": null,
      "outputs": []
    },
    {
      "cell_type": "code",
      "metadata": {
        "colab": {
          "base_uri": "https://localhost:8080/",
          "height": 450
        },
        "id": "Ds89Q0-ji6Cx",
        "outputId": "286a5649-cc84-40ad-9678-0ff516afd355"
      },
      "source": [
        "data_season"
      ],
      "execution_count": null,
      "outputs": [
        {
          "output_type": "execute_result",
          "data": {
            "text/html": [
              "<div>\n",
              "<style scoped>\n",
              "    .dataframe tbody tr th:only-of-type {\n",
              "        vertical-align: middle;\n",
              "    }\n",
              "\n",
              "    .dataframe tbody tr th {\n",
              "        vertical-align: top;\n",
              "    }\n",
              "\n",
              "    .dataframe thead th {\n",
              "        text-align: right;\n",
              "    }\n",
              "</style>\n",
              "<table border=\"1\" class=\"dataframe\">\n",
              "  <thead>\n",
              "    <tr style=\"text-align: right;\">\n",
              "      <th></th>\n",
              "      <th>des_heating</th>\n",
              "      <th>heating</th>\n",
              "      <th>des_storage</th>\n",
              "      <th>storage</th>\n",
              "      <th>des_demand</th>\n",
              "      <th>demand</th>\n",
              "    </tr>\n",
              "    <tr>\n",
              "      <th>month</th>\n",
              "      <th></th>\n",
              "      <th></th>\n",
              "      <th></th>\n",
              "      <th></th>\n",
              "      <th></th>\n",
              "      <th></th>\n",
              "    </tr>\n",
              "  </thead>\n",
              "  <tbody>\n",
              "    <tr>\n",
              "      <th>2014-01</th>\n",
              "      <td>112.136333</td>\n",
              "      <td>251.661667</td>\n",
              "      <td>61448.314207</td>\n",
              "      <td>68691.000</td>\n",
              "      <td>288.334359</td>\n",
              "      <td>1102.747692</td>\n",
              "    </tr>\n",
              "    <tr>\n",
              "      <th>2014-02</th>\n",
              "      <td>89.758708</td>\n",
              "      <td>191.655417</td>\n",
              "      <td>70578.293818</td>\n",
              "      <td>58677.000</td>\n",
              "      <td>352.489012</td>\n",
              "      <td>898.576923</td>\n",
              "    </tr>\n",
              "    <tr>\n",
              "      <th>2014-03</th>\n",
              "      <td>94.716456</td>\n",
              "      <td>165.501250</td>\n",
              "      <td>75730.837814</td>\n",
              "      <td>49656.000</td>\n",
              "      <td>364.027330</td>\n",
              "      <td>609.346154</td>\n",
              "    </tr>\n",
              "    <tr>\n",
              "      <th>2014-04</th>\n",
              "      <td>109.484086</td>\n",
              "      <td>109.102083</td>\n",
              "      <td>80780.065509</td>\n",
              "      <td>46999.000</td>\n",
              "      <td>499.223059</td>\n",
              "      <td>253.615385</td>\n",
              "    </tr>\n",
              "    <tr>\n",
              "      <th>2014-05</th>\n",
              "      <td>135.508462</td>\n",
              "      <td>71.290833</td>\n",
              "      <td>77124.449256</td>\n",
              "      <td>52790.000</td>\n",
              "      <td>546.123982</td>\n",
              "      <td>132.884615</td>\n",
              "    </tr>\n",
              "    <tr>\n",
              "      <th>...</th>\n",
              "      <td>...</td>\n",
              "      <td>...</td>\n",
              "      <td>...</td>\n",
              "      <td>...</td>\n",
              "      <td>...</td>\n",
              "      <td>...</td>\n",
              "    </tr>\n",
              "    <tr>\n",
              "      <th>2020-08</th>\n",
              "      <td>133.660994</td>\n",
              "      <td>26.067917</td>\n",
              "      <td>93277.231339</td>\n",
              "      <td>100794.186</td>\n",
              "      <td>566.492671</td>\n",
              "      <td>127.177594</td>\n",
              "    </tr>\n",
              "    <tr>\n",
              "      <th>2020-09</th>\n",
              "      <td>121.295249</td>\n",
              "      <td>38.826250</td>\n",
              "      <td>87429.251535</td>\n",
              "      <td>107954.830</td>\n",
              "      <td>500.820834</td>\n",
              "      <td>202.861537</td>\n",
              "    </tr>\n",
              "    <tr>\n",
              "      <th>2020-10</th>\n",
              "      <td>119.282031</td>\n",
              "      <td>101.838958</td>\n",
              "      <td>84745.235398</td>\n",
              "      <td>112281.744</td>\n",
              "      <td>522.992916</td>\n",
              "      <td>441.466063</td>\n",
              "    </tr>\n",
              "    <tr>\n",
              "      <th>2020-11</th>\n",
              "      <td>108.879249</td>\n",
              "      <td>164.028750</td>\n",
              "      <td>81126.482427</td>\n",
              "      <td>109806.650</td>\n",
              "      <td>340.527595</td>\n",
              "      <td>621.333029</td>\n",
              "    </tr>\n",
              "    <tr>\n",
              "      <th>2020-12</th>\n",
              "      <td>103.743673</td>\n",
              "      <td>220.888333</td>\n",
              "      <td>80624.643446</td>\n",
              "      <td>102136.638</td>\n",
              "      <td>368.983302</td>\n",
              "      <td>870.508784</td>\n",
              "    </tr>\n",
              "  </tbody>\n",
              "</table>\n",
              "<p>84 rows × 6 columns</p>\n",
              "</div>"
            ],
            "text/plain": [
              "         des_heating     heating  ...  des_demand       demand\n",
              "month                             ...                         \n",
              "2014-01   112.136333  251.661667  ...  288.334359  1102.747692\n",
              "2014-02    89.758708  191.655417  ...  352.489012   898.576923\n",
              "2014-03    94.716456  165.501250  ...  364.027330   609.346154\n",
              "2014-04   109.484086  109.102083  ...  499.223059   253.615385\n",
              "2014-05   135.508462   71.290833  ...  546.123982   132.884615\n",
              "...              ...         ...  ...         ...          ...\n",
              "2020-08   133.660994   26.067917  ...  566.492671   127.177594\n",
              "2020-09   121.295249   38.826250  ...  500.820834   202.861537\n",
              "2020-10   119.282031  101.838958  ...  522.992916   441.466063\n",
              "2020-11   108.879249  164.028750  ...  340.527595   621.333029\n",
              "2020-12   103.743673  220.888333  ...  368.983302   870.508784\n",
              "\n",
              "[84 rows x 6 columns]"
            ]
          },
          "metadata": {
            "tags": []
          },
          "execution_count": 153
        }
      ]
    },
    {
      "cell_type": "code",
      "metadata": {
        "id": "v4y1b2IdkTON"
      },
      "source": [
        "data = pd.concat([data_p, data_season], axis =1)"
      ],
      "execution_count": null,
      "outputs": []
    },
    {
      "cell_type": "code",
      "metadata": {
        "id": "y51dhu0ykfIW"
      },
      "source": [
        "data = data.dropna()"
      ],
      "execution_count": null,
      "outputs": []
    },
    {
      "cell_type": "code",
      "metadata": {
        "colab": {
          "base_uri": "https://localhost:8080/",
          "height": 450
        },
        "id": "JnUfPLgxNKRL",
        "outputId": "989141ba-cbde-4c68-dac1-14bfb3bb3d6a"
      },
      "source": [
        "data"
      ],
      "execution_count": null,
      "outputs": [
        {
          "output_type": "execute_result",
          "data": {
            "text/html": [
              "<div>\n",
              "<style scoped>\n",
              "    .dataframe tbody tr th:only-of-type {\n",
              "        vertical-align: middle;\n",
              "    }\n",
              "\n",
              "    .dataframe tbody tr th {\n",
              "        vertical-align: top;\n",
              "    }\n",
              "\n",
              "    .dataframe thead th {\n",
              "        text-align: right;\n",
              "    }\n",
              "</style>\n",
              "<table border=\"1\" class=\"dataframe\">\n",
              "  <thead>\n",
              "    <tr style=\"text-align: right;\">\n",
              "      <th></th>\n",
              "      <th>ttf</th>\n",
              "      <th>brent</th>\n",
              "      <th>import_price_gas</th>\n",
              "      <th>coal_price</th>\n",
              "      <th>exchange_rate</th>\n",
              "      <th>des_heating</th>\n",
              "      <th>heating</th>\n",
              "      <th>des_storage</th>\n",
              "      <th>storage</th>\n",
              "      <th>des_demand</th>\n",
              "      <th>demand</th>\n",
              "    </tr>\n",
              "    <tr>\n",
              "      <th>month</th>\n",
              "      <th></th>\n",
              "      <th></th>\n",
              "      <th></th>\n",
              "      <th></th>\n",
              "      <th></th>\n",
              "      <th></th>\n",
              "      <th></th>\n",
              "      <th></th>\n",
              "      <th></th>\n",
              "      <th></th>\n",
              "      <th></th>\n",
              "    </tr>\n",
              "  </thead>\n",
              "  <tbody>\n",
              "    <tr>\n",
              "      <th>2014-02</th>\n",
              "      <td>24.006737</td>\n",
              "      <td>108.706111</td>\n",
              "      <td>11.3000</td>\n",
              "      <td>73.700000</td>\n",
              "      <td>1.365286</td>\n",
              "      <td>89.758708</td>\n",
              "      <td>191.655417</td>\n",
              "      <td>70578.293818</td>\n",
              "      <td>58677.000</td>\n",
              "      <td>352.489012</td>\n",
              "      <td>898.576923</td>\n",
              "    </tr>\n",
              "    <tr>\n",
              "      <th>2014-03</th>\n",
              "      <td>23.150048</td>\n",
              "      <td>107.857619</td>\n",
              "      <td>10.8800</td>\n",
              "      <td>75.800000</td>\n",
              "      <td>1.382566</td>\n",
              "      <td>94.716456</td>\n",
              "      <td>165.501250</td>\n",
              "      <td>75730.837814</td>\n",
              "      <td>49656.000</td>\n",
              "      <td>364.027330</td>\n",
              "      <td>609.346154</td>\n",
              "    </tr>\n",
              "    <tr>\n",
              "      <th>2014-04</th>\n",
              "      <td>20.649762</td>\n",
              "      <td>108.051905</td>\n",
              "      <td>10.7300</td>\n",
              "      <td>75.592857</td>\n",
              "      <td>1.380623</td>\n",
              "      <td>109.484086</td>\n",
              "      <td>109.102083</td>\n",
              "      <td>80780.065509</td>\n",
              "      <td>46999.000</td>\n",
              "      <td>499.223059</td>\n",
              "      <td>253.615385</td>\n",
              "    </tr>\n",
              "    <tr>\n",
              "      <th>2014-05</th>\n",
              "      <td>19.502909</td>\n",
              "      <td>109.219524</td>\n",
              "      <td>10.2000</td>\n",
              "      <td>75.559524</td>\n",
              "      <td>1.374598</td>\n",
              "      <td>135.508462</td>\n",
              "      <td>71.290833</td>\n",
              "      <td>77124.449256</td>\n",
              "      <td>52790.000</td>\n",
              "      <td>546.123982</td>\n",
              "      <td>132.884615</td>\n",
              "    </tr>\n",
              "    <tr>\n",
              "      <th>2014-06</th>\n",
              "      <td>17.533000</td>\n",
              "      <td>111.980476</td>\n",
              "      <td>9.7700</td>\n",
              "      <td>73.140476</td>\n",
              "      <td>1.359689</td>\n",
              "      <td>133.200103</td>\n",
              "      <td>31.794375</td>\n",
              "      <td>75129.993531</td>\n",
              "      <td>61207.000</td>\n",
              "      <td>525.338989</td>\n",
              "      <td>56.076923</td>\n",
              "    </tr>\n",
              "    <tr>\n",
              "      <th>...</th>\n",
              "      <td>...</td>\n",
              "      <td>...</td>\n",
              "      <td>...</td>\n",
              "      <td>...</td>\n",
              "      <td>...</td>\n",
              "      <td>...</td>\n",
              "      <td>...</td>\n",
              "      <td>...</td>\n",
              "      <td>...</td>\n",
              "      <td>...</td>\n",
              "      <td>...</td>\n",
              "    </tr>\n",
              "    <tr>\n",
              "      <th>2020-08</th>\n",
              "      <td>8.321619</td>\n",
              "      <td>44.969048</td>\n",
              "      <td>2.8619</td>\n",
              "      <td>50.078571</td>\n",
              "      <td>1.182762</td>\n",
              "      <td>133.660994</td>\n",
              "      <td>26.067917</td>\n",
              "      <td>93277.231339</td>\n",
              "      <td>100794.186</td>\n",
              "      <td>566.492671</td>\n",
              "      <td>127.177594</td>\n",
              "    </tr>\n",
              "    <tr>\n",
              "      <th>2020-09</th>\n",
              "      <td>11.495636</td>\n",
              "      <td>41.681500</td>\n",
              "      <td>3.9521</td>\n",
              "      <td>53.990476</td>\n",
              "      <td>1.179660</td>\n",
              "      <td>121.295249</td>\n",
              "      <td>38.826250</td>\n",
              "      <td>87429.251535</td>\n",
              "      <td>107954.830</td>\n",
              "      <td>500.820834</td>\n",
              "      <td>202.861537</td>\n",
              "    </tr>\n",
              "    <tr>\n",
              "      <th>2020-10</th>\n",
              "      <td>14.181091</td>\n",
              "      <td>41.525455</td>\n",
              "      <td>4.8896</td>\n",
              "      <td>56.556818</td>\n",
              "      <td>1.176977</td>\n",
              "      <td>119.282031</td>\n",
              "      <td>101.838958</td>\n",
              "      <td>84745.235398</td>\n",
              "      <td>112281.744</td>\n",
              "      <td>522.992916</td>\n",
              "      <td>441.466063</td>\n",
              "    </tr>\n",
              "    <tr>\n",
              "      <th>2020-11</th>\n",
              "      <td>13.946333</td>\n",
              "      <td>43.478421</td>\n",
              "      <td>4.8358</td>\n",
              "      <td>54.347500</td>\n",
              "      <td>1.182952</td>\n",
              "      <td>108.879249</td>\n",
              "      <td>164.028750</td>\n",
              "      <td>81126.482427</td>\n",
              "      <td>109806.650</td>\n",
              "      <td>340.527595</td>\n",
              "      <td>621.333029</td>\n",
              "    </tr>\n",
              "    <tr>\n",
              "      <th>2020-12</th>\n",
              "      <td>16.422227</td>\n",
              "      <td>50.095000</td>\n",
              "      <td>5.8561</td>\n",
              "      <td>66.861364</td>\n",
              "      <td>1.216249</td>\n",
              "      <td>103.743673</td>\n",
              "      <td>220.888333</td>\n",
              "      <td>80624.643446</td>\n",
              "      <td>102136.638</td>\n",
              "      <td>368.983302</td>\n",
              "      <td>870.508784</td>\n",
              "    </tr>\n",
              "  </tbody>\n",
              "</table>\n",
              "<p>83 rows × 11 columns</p>\n",
              "</div>"
            ],
            "text/plain": [
              "               ttf       brent  ...  des_demand      demand\n",
              "month                           ...                        \n",
              "2014-02  24.006737  108.706111  ...  352.489012  898.576923\n",
              "2014-03  23.150048  107.857619  ...  364.027330  609.346154\n",
              "2014-04  20.649762  108.051905  ...  499.223059  253.615385\n",
              "2014-05  19.502909  109.219524  ...  546.123982  132.884615\n",
              "2014-06  17.533000  111.980476  ...  525.338989   56.076923\n",
              "...            ...         ...  ...         ...         ...\n",
              "2020-08   8.321619   44.969048  ...  566.492671  127.177594\n",
              "2020-09  11.495636   41.681500  ...  500.820834  202.861537\n",
              "2020-10  14.181091   41.525455  ...  522.992916  441.466063\n",
              "2020-11  13.946333   43.478421  ...  340.527595  621.333029\n",
              "2020-12  16.422227   50.095000  ...  368.983302  870.508784\n",
              "\n",
              "[83 rows x 11 columns]"
            ]
          },
          "metadata": {
            "tags": []
          },
          "execution_count": 156
        }
      ]
    },
    {
      "cell_type": "code",
      "metadata": {
        "id": "90DtAnEkitWO"
      },
      "source": [
        "data.to_csv('full_data.csv')"
      ],
      "execution_count": null,
      "outputs": []
    },
    {
      "cell_type": "markdown",
      "metadata": {
        "id": "5eFhFeaUllQ6"
      },
      "source": [
        "# **Test Stationary and Cointegration**"
      ]
    },
    {
      "cell_type": "code",
      "metadata": {
        "id": "bXrzbkMhK2jI"
      },
      "source": [
        "from statsmodels.tsa.stattools import adfuller, acovf, acf, grangercausalitytests, coint\n",
        "from statsmodels.graphics.tsaplots import plot_acf"
      ],
      "execution_count": null,
      "outputs": []
    },
    {
      "cell_type": "code",
      "metadata": {
        "id": "h7zEDb8uKXbo"
      },
      "source": [
        "def test_stationary(x):\n",
        "  test = adfuller(x, regression = 'ct', autolag='AIC')\n",
        "\n",
        "  alfa = test[4]\n",
        "  print(f'ADF Statistic: {test[0]}')\n",
        "  print(f'p-value: {test[1]}')\n",
        "  if test[0] <= alfa['5%']:\n",
        "    print('The null hypothesis can be rejected with a 95% confidence level: the series does not have a unit root')\n",
        "  else:\n",
        "    print(\"The null hypothesis cannot be rejected with a 95% confidence level: the series has a unit root\")"
      ],
      "execution_count": null,
      "outputs": []
    },
    {
      "cell_type": "code",
      "metadata": {
        "colab": {
          "base_uri": "https://localhost:8080/"
        },
        "id": "xOd4NK5snqT9",
        "outputId": "9e370bee-6f6d-4c69-ec90-75d63dddbdd0"
      },
      "source": [
        "for i in data.columns:\n",
        "  print(\"--Variable--: \" + i)\n",
        "  test_stationary(data[i])\n",
        "  print('  ')"
      ],
      "execution_count": null,
      "outputs": [
        {
          "output_type": "stream",
          "text": [
            "--Variable--: ttf\n",
            "ADF Statistic: -2.844766019972181\n",
            "p-value: 0.18098849137068718\n",
            "The null hypothesis cannot be rejected with a 95% confidence level: the series has a unit root\n",
            "  \n",
            "--Variable--: brent\n",
            "ADF Statistic: -2.7528247784138897\n",
            "p-value: 0.21481002518388903\n",
            "The null hypothesis cannot be rejected with a 95% confidence level: the series has a unit root\n",
            "  \n",
            "--Variable--: import_price_gas\n",
            "ADF Statistic: -2.6198950991163636\n",
            "p-value: 0.27082027164272937\n",
            "The null hypothesis cannot be rejected with a 95% confidence level: the series has a unit root\n",
            "  \n",
            "--Variable--: coal_price\n",
            "ADF Statistic: -2.32071151460812\n",
            "p-value: 0.42252943626880973\n",
            "The null hypothesis cannot be rejected with a 95% confidence level: the series has a unit root\n",
            "  \n",
            "--Variable--: exchange_rate\n",
            "ADF Statistic: -2.4682024158055134\n",
            "p-value: 0.34403790942403145\n",
            "The null hypothesis cannot be rejected with a 95% confidence level: the series has a unit root\n",
            "  \n",
            "--Variable--: des_heating\n",
            "ADF Statistic: -6.864891368793035\n",
            "p-value: 2.849919392595926e-08\n",
            "The null hypothesis can be rejected with a 95% confidence level: the series does not have a unit root\n",
            "  \n",
            "--Variable--: heating\n",
            "ADF Statistic: -2.7594564437304525\n",
            "p-value: 0.21223366190386622\n",
            "The null hypothesis cannot be rejected with a 95% confidence level: the series has a unit root\n",
            "  \n",
            "--Variable--: des_storage\n",
            "ADF Statistic: -3.406134785435423\n",
            "p-value: 0.05057365947735124\n",
            "The null hypothesis cannot be rejected with a 95% confidence level: the series has a unit root\n",
            "  \n",
            "--Variable--: storage\n",
            "ADF Statistic: -2.7143055990867357\n",
            "p-value: 0.23019086768257108\n",
            "The null hypothesis cannot be rejected with a 95% confidence level: the series has a unit root\n",
            "  \n",
            "--Variable--: des_demand\n",
            "ADF Statistic: -4.969076653515001\n",
            "p-value: 0.00023414853007073375\n",
            "The null hypothesis can be rejected with a 95% confidence level: the series does not have a unit root\n",
            "  \n",
            "--Variable--: demand\n",
            "ADF Statistic: -0.6927366401719849\n",
            "p-value: 0.973620977372373\n",
            "The null hypothesis cannot be rejected with a 95% confidence level: the series has a unit root\n",
            "  \n"
          ],
          "name": "stdout"
        }
      ]
    },
    {
      "cell_type": "code",
      "metadata": {
        "id": "mOQ3llqtL3fx"
      },
      "source": [
        "def test_coin(x,y):\n",
        "  coint_prices = coint(x,y,method='aeg', maxlag=None, autolag='aic', return_results=None)\n",
        "  print(f'test statistics: {coint_prices[0]}')\n",
        "  print(f'p-value: {coint_prices[1]}')\n",
        "  alfa = coint_prices[2]\n",
        "  if coint_prices[1] <= 0.05:\n",
        "    print('The null hypothesis can be rejected with a 95% confidence level: there is cointegration')\n",
        "  else:\n",
        "    print(\"The null hypothesis cannot be rejected with a 95% confidence level: there is **no cointegration**\")"
      ],
      "execution_count": null,
      "outputs": []
    },
    {
      "cell_type": "code",
      "metadata": {
        "colab": {
          "base_uri": "https://localhost:8080/"
        },
        "id": "dobtv7bio8Bm",
        "outputId": "6b681aba-722a-4802-95e9-535b2bf5dc5a"
      },
      "source": [
        "test_coin(data['ttf'], data['brent'])"
      ],
      "execution_count": null,
      "outputs": [
        {
          "output_type": "stream",
          "text": [
            "test statistics: -3.1864184824348456\n",
            "p-value: 0.07222859832992636\n",
            "The null hypothesis cannot be rejected with a 95% confidence level: there is **no cointegration**\n"
          ],
          "name": "stdout"
        }
      ]
    },
    {
      "cell_type": "markdown",
      "metadata": {
        "id": "lA9rvHATtd6l"
      },
      "source": [
        "# **Log and Difference** "
      ]
    },
    {
      "cell_type": "code",
      "metadata": {
        "id": "9_8Xe-ac50Oo"
      },
      "source": [
        "data1 = data.drop(['heating', 'storage', 'demand'], axis =1)"
      ],
      "execution_count": null,
      "outputs": []
    },
    {
      "cell_type": "code",
      "metadata": {
        "id": "5_OXzfjjZeLF"
      },
      "source": [
        "data2 = data[['ttf', 'brent', 'coal_price', 'des_storage']]"
      ],
      "execution_count": null,
      "outputs": []
    },
    {
      "cell_type": "code",
      "metadata": {
        "id": "a86xanrXaDKL"
      },
      "source": [
        "data_diff = pd.concat([data2.diff(),data['des_heating']], axis=1).dropna()"
      ],
      "execution_count": null,
      "outputs": []
    },
    {
      "cell_type": "code",
      "metadata": {
        "colab": {
          "base_uri": "https://localhost:8080/"
        },
        "id": "eBiMoC0DaHWy",
        "outputId": "471d20c0-89ca-48f5-d576-c50973c28600"
      },
      "source": [
        "for i in data_diff.columns:\n",
        "  test_stationary(data_diff[i])"
      ],
      "execution_count": null,
      "outputs": [
        {
          "output_type": "stream",
          "text": [
            "ADF Statistic: -5.5060345114137945\n",
            "p-value: 2.2420874434494623e-05\n",
            "The null hypothesis can be rejected with a 95% confidence level: the series does not have a unit root\n",
            "ADF Statistic: -5.580826987120647\n",
            "p-value: 1.5919099169745184e-05\n",
            "The null hypothesis can be rejected with a 95% confidence level: the series does not have a unit root\n",
            "ADF Statistic: -6.630102300139725\n",
            "p-value: 9.527743141840916e-08\n",
            "The null hypothesis can be rejected with a 95% confidence level: the series does not have a unit root\n",
            "ADF Statistic: -7.90957226958013\n",
            "p-value: 1.1563120770857744e-10\n",
            "The null hypothesis can be rejected with a 95% confidence level: the series does not have a unit root\n",
            "ADF Statistic: -7.029096392312564\n",
            "p-value: 1.214141879482834e-08\n",
            "The null hypothesis can be rejected with a 95% confidence level: the series does not have a unit root\n"
          ],
          "name": "stdout"
        }
      ]
    },
    {
      "cell_type": "code",
      "metadata": {
        "id": "w7folw-1aWjT"
      },
      "source": [
        "data_diff.to_csv('data_diff.csv')"
      ],
      "execution_count": null,
      "outputs": []
    },
    {
      "cell_type": "code",
      "metadata": {
        "id": "hzxMkEk_9vLC"
      },
      "source": [
        "data_log = np.log(data1)"
      ],
      "execution_count": null,
      "outputs": []
    },
    {
      "cell_type": "code",
      "metadata": {
        "colab": {
          "base_uri": "https://localhost:8080/",
          "height": 450
        },
        "id": "W_06awbW90FZ",
        "outputId": "6f565c7c-2cd8-4876-9a2f-eea2e1bf7181"
      },
      "source": [
        "data_log"
      ],
      "execution_count": null,
      "outputs": [
        {
          "output_type": "execute_result",
          "data": {
            "text/html": [
              "<div>\n",
              "<style scoped>\n",
              "    .dataframe tbody tr th:only-of-type {\n",
              "        vertical-align: middle;\n",
              "    }\n",
              "\n",
              "    .dataframe tbody tr th {\n",
              "        vertical-align: top;\n",
              "    }\n",
              "\n",
              "    .dataframe thead th {\n",
              "        text-align: right;\n",
              "    }\n",
              "</style>\n",
              "<table border=\"1\" class=\"dataframe\">\n",
              "  <thead>\n",
              "    <tr style=\"text-align: right;\">\n",
              "      <th></th>\n",
              "      <th>ttf</th>\n",
              "      <th>brent</th>\n",
              "      <th>import_price_gas</th>\n",
              "      <th>coal_price</th>\n",
              "      <th>des_heating</th>\n",
              "      <th>des_storage</th>\n",
              "      <th>des_demand</th>\n",
              "    </tr>\n",
              "    <tr>\n",
              "      <th>month</th>\n",
              "      <th></th>\n",
              "      <th></th>\n",
              "      <th></th>\n",
              "      <th></th>\n",
              "      <th></th>\n",
              "      <th></th>\n",
              "      <th></th>\n",
              "    </tr>\n",
              "  </thead>\n",
              "  <tbody>\n",
              "    <tr>\n",
              "      <th>2014-02</th>\n",
              "      <td>3.178334</td>\n",
              "      <td>4.688648</td>\n",
              "      <td>2.424803</td>\n",
              "      <td>4.300003</td>\n",
              "      <td>4.497125</td>\n",
              "      <td>7.924083</td>\n",
              "      <td>5.865019</td>\n",
              "    </tr>\n",
              "    <tr>\n",
              "      <th>2014-03</th>\n",
              "      <td>3.141997</td>\n",
              "      <td>4.680812</td>\n",
              "      <td>2.386926</td>\n",
              "      <td>4.328098</td>\n",
              "      <td>4.550888</td>\n",
              "      <td>7.996602</td>\n",
              "      <td>5.897229</td>\n",
              "    </tr>\n",
              "    <tr>\n",
              "      <th>2014-04</th>\n",
              "      <td>3.027704</td>\n",
              "      <td>4.682612</td>\n",
              "      <td>2.373044</td>\n",
              "      <td>4.325362</td>\n",
              "      <td>4.695779</td>\n",
              "      <td>8.041136</td>\n",
              "      <td>6.213053</td>\n",
              "    </tr>\n",
              "    <tr>\n",
              "      <th>2014-05</th>\n",
              "      <td>2.970564</td>\n",
              "      <td>4.693360</td>\n",
              "      <td>2.322388</td>\n",
              "      <td>4.324921</td>\n",
              "      <td>4.909034</td>\n",
              "      <td>7.998898</td>\n",
              "      <td>6.302846</td>\n",
              "    </tr>\n",
              "    <tr>\n",
              "      <th>2014-06</th>\n",
              "      <td>2.864085</td>\n",
              "      <td>4.718325</td>\n",
              "      <td>2.279316</td>\n",
              "      <td>4.292382</td>\n",
              "      <td>4.891853</td>\n",
              "      <td>7.965313</td>\n",
              "      <td>6.264044</td>\n",
              "    </tr>\n",
              "    <tr>\n",
              "      <th>...</th>\n",
              "      <td>...</td>\n",
              "      <td>...</td>\n",
              "      <td>...</td>\n",
              "      <td>...</td>\n",
              "      <td>...</td>\n",
              "      <td>...</td>\n",
              "      <td>...</td>\n",
              "    </tr>\n",
              "    <tr>\n",
              "      <th>2020-08</th>\n",
              "      <td>2.118857</td>\n",
              "      <td>3.805974</td>\n",
              "      <td>1.051486</td>\n",
              "      <td>3.913593</td>\n",
              "      <td>4.895307</td>\n",
              "      <td>8.361086</td>\n",
              "      <td>6.339464</td>\n",
              "    </tr>\n",
              "    <tr>\n",
              "      <th>2020-09</th>\n",
              "      <td>2.441968</td>\n",
              "      <td>3.730057</td>\n",
              "      <td>1.374247</td>\n",
              "      <td>3.988808</td>\n",
              "      <td>4.798228</td>\n",
              "      <td>8.318344</td>\n",
              "      <td>6.216248</td>\n",
              "    </tr>\n",
              "    <tr>\n",
              "      <th>2020-10</th>\n",
              "      <td>2.651909</td>\n",
              "      <td>3.726307</td>\n",
              "      <td>1.587111</td>\n",
              "      <td>4.035246</td>\n",
              "      <td>4.781491</td>\n",
              "      <td>8.301159</td>\n",
              "      <td>6.259568</td>\n",
              "    </tr>\n",
              "    <tr>\n",
              "      <th>2020-11</th>\n",
              "      <td>2.635217</td>\n",
              "      <td>3.772265</td>\n",
              "      <td>1.576047</td>\n",
              "      <td>3.995399</td>\n",
              "      <td>4.690239</td>\n",
              "      <td>8.321174</td>\n",
              "      <td>5.830496</td>\n",
              "    </tr>\n",
              "    <tr>\n",
              "      <th>2020-12</th>\n",
              "      <td>2.798636</td>\n",
              "      <td>3.913921</td>\n",
              "      <td>1.767484</td>\n",
              "      <td>4.202621</td>\n",
              "      <td>4.641923</td>\n",
              "      <td>8.304788</td>\n",
              "      <td>5.910751</td>\n",
              "    </tr>\n",
              "  </tbody>\n",
              "</table>\n",
              "<p>83 rows × 7 columns</p>\n",
              "</div>"
            ],
            "text/plain": [
              "              ttf     brent  ...  des_storage  des_demand\n",
              "month                        ...                         \n",
              "2014-02  3.178334  4.688648  ...     7.924083    5.865019\n",
              "2014-03  3.141997  4.680812  ...     7.996602    5.897229\n",
              "2014-04  3.027704  4.682612  ...     8.041136    6.213053\n",
              "2014-05  2.970564  4.693360  ...     7.998898    6.302846\n",
              "2014-06  2.864085  4.718325  ...     7.965313    6.264044\n",
              "...           ...       ...  ...          ...         ...\n",
              "2020-08  2.118857  3.805974  ...     8.361086    6.339464\n",
              "2020-09  2.441968  3.730057  ...     8.318344    6.216248\n",
              "2020-10  2.651909  3.726307  ...     8.301159    6.259568\n",
              "2020-11  2.635217  3.772265  ...     8.321174    5.830496\n",
              "2020-12  2.798636  3.913921  ...     8.304788    5.910751\n",
              "\n",
              "[83 rows x 7 columns]"
            ]
          },
          "metadata": {
            "tags": []
          },
          "execution_count": 72
        }
      ]
    },
    {
      "cell_type": "code",
      "metadata": {
        "colab": {
          "base_uri": "https://localhost:8080/"
        },
        "id": "lRVv5nlX94dG",
        "outputId": "5acfd24b-80c2-47dc-f593-ddaa52df31c3"
      },
      "source": [
        "for i in data_log.columns:\n",
        "  print(\"--Variable--: \" + i)\n",
        "  test_stationary(data_log[i])\n",
        "  print('  ')  "
      ],
      "execution_count": null,
      "outputs": [
        {
          "output_type": "stream",
          "text": [
            "--Variable--: ttf\n",
            "ADF Statistic: -3.17238863326952\n",
            "p-value: 0.09004532966692341\n",
            "The null hypothesis cannot be rejected with a 95% confidence level: the series has a unit root\n",
            "  \n",
            "--Variable--: brent\n",
            "ADF Statistic: -2.498518035916759\n",
            "p-value: 0.32870362050815327\n",
            "The null hypothesis cannot be rejected with a 95% confidence level: the series has a unit root\n",
            "  \n",
            "--Variable--: import_price_gas\n",
            "ADF Statistic: -2.6313137652691028\n",
            "p-value: 0.2656913642104166\n",
            "The null hypothesis cannot be rejected with a 95% confidence level: the series has a unit root\n",
            "  \n",
            "--Variable--: coal_price\n",
            "ADF Statistic: -2.3657661284266505\n",
            "p-value: 0.39796971991211516\n",
            "The null hypothesis cannot be rejected with a 95% confidence level: the series has a unit root\n",
            "  \n",
            "--Variable--: des_heating\n",
            "ADF Statistic: -6.750520110393525\n",
            "p-value: 5.141282403538955e-08\n",
            "The null hypothesis can be rejected with a 95% confidence level: the series does not have a unit root\n",
            "  \n",
            "--Variable--: des_storage\n",
            "ADF Statistic: -2.808974613004724\n",
            "p-value: 0.19366768851200739\n",
            "The null hypothesis cannot be rejected with a 95% confidence level: the series has a unit root\n",
            "  \n",
            "--Variable--: des_demand\n",
            "ADF Statistic: -5.44333739152949\n",
            "p-value: 2.979418817096735e-05\n",
            "The null hypothesis can be rejected with a 95% confidence level: the series does not have a unit root\n",
            "  \n"
          ],
          "name": "stdout"
        }
      ]
    },
    {
      "cell_type": "code",
      "metadata": {
        "id": "voaiBBKW-fU_"
      },
      "source": [
        "data_stationary = data_log[['des_heating', 'des_demand']]"
      ],
      "execution_count": null,
      "outputs": []
    },
    {
      "cell_type": "code",
      "metadata": {
        "id": "xffRts94-sRn"
      },
      "source": [
        "data_log_diff = data_log.drop(['des_heating', 'des_demand'], axis =1).diff().dropna()"
      ],
      "execution_count": null,
      "outputs": []
    },
    {
      "cell_type": "code",
      "metadata": {
        "colab": {
          "base_uri": "https://localhost:8080/",
          "height": 450
        },
        "id": "Khf77UbF-88J",
        "outputId": "8295226f-65d2-4291-a20e-1b19e647433b"
      },
      "source": [
        "data_log_diff"
      ],
      "execution_count": null,
      "outputs": [
        {
          "output_type": "execute_result",
          "data": {
            "text/html": [
              "<div>\n",
              "<style scoped>\n",
              "    .dataframe tbody tr th:only-of-type {\n",
              "        vertical-align: middle;\n",
              "    }\n",
              "\n",
              "    .dataframe tbody tr th {\n",
              "        vertical-align: top;\n",
              "    }\n",
              "\n",
              "    .dataframe thead th {\n",
              "        text-align: right;\n",
              "    }\n",
              "</style>\n",
              "<table border=\"1\" class=\"dataframe\">\n",
              "  <thead>\n",
              "    <tr style=\"text-align: right;\">\n",
              "      <th></th>\n",
              "      <th>ttf</th>\n",
              "      <th>brent</th>\n",
              "      <th>import_price_gas</th>\n",
              "      <th>coal_price</th>\n",
              "      <th>des_storage</th>\n",
              "    </tr>\n",
              "    <tr>\n",
              "      <th>month</th>\n",
              "      <th></th>\n",
              "      <th></th>\n",
              "      <th></th>\n",
              "      <th></th>\n",
              "      <th></th>\n",
              "    </tr>\n",
              "  </thead>\n",
              "  <tbody>\n",
              "    <tr>\n",
              "      <th>2014-03</th>\n",
              "      <td>-0.036338</td>\n",
              "      <td>-0.007836</td>\n",
              "      <td>-0.037876</td>\n",
              "      <td>0.028095</td>\n",
              "      <td>0.072520</td>\n",
              "    </tr>\n",
              "    <tr>\n",
              "      <th>2014-04</th>\n",
              "      <td>-0.114293</td>\n",
              "      <td>0.001800</td>\n",
              "      <td>-0.013883</td>\n",
              "      <td>-0.002736</td>\n",
              "      <td>0.044534</td>\n",
              "    </tr>\n",
              "    <tr>\n",
              "      <th>2014-05</th>\n",
              "      <td>-0.057140</td>\n",
              "      <td>0.010748</td>\n",
              "      <td>-0.050656</td>\n",
              "      <td>-0.000441</td>\n",
              "      <td>-0.042238</td>\n",
              "    </tr>\n",
              "    <tr>\n",
              "      <th>2014-06</th>\n",
              "      <td>-0.106479</td>\n",
              "      <td>0.024965</td>\n",
              "      <td>-0.043071</td>\n",
              "      <td>-0.032539</td>\n",
              "      <td>-0.033585</td>\n",
              "    </tr>\n",
              "    <tr>\n",
              "      <th>2014-07</th>\n",
              "      <td>-0.050753</td>\n",
              "      <td>-0.037654</td>\n",
              "      <td>-0.052533</td>\n",
              "      <td>0.021220</td>\n",
              "      <td>-0.033386</td>\n",
              "    </tr>\n",
              "    <tr>\n",
              "      <th>...</th>\n",
              "      <td>...</td>\n",
              "      <td>...</td>\n",
              "      <td>...</td>\n",
              "      <td>...</td>\n",
              "      <td>...</td>\n",
              "    </tr>\n",
              "    <tr>\n",
              "      <th>2020-08</th>\n",
              "      <td>0.433263</td>\n",
              "      <td>0.040123</td>\n",
              "      <td>0.463144</td>\n",
              "      <td>-0.004367</td>\n",
              "      <td>-0.033564</td>\n",
              "    </tr>\n",
              "    <tr>\n",
              "      <th>2020-09</th>\n",
              "      <td>0.323111</td>\n",
              "      <td>-0.075917</td>\n",
              "      <td>0.322761</td>\n",
              "      <td>0.075214</td>\n",
              "      <td>-0.042742</td>\n",
              "    </tr>\n",
              "    <tr>\n",
              "      <th>2020-10</th>\n",
              "      <td>0.209942</td>\n",
              "      <td>-0.003751</td>\n",
              "      <td>0.212863</td>\n",
              "      <td>0.046438</td>\n",
              "      <td>-0.017185</td>\n",
              "    </tr>\n",
              "    <tr>\n",
              "      <th>2020-11</th>\n",
              "      <td>-0.016693</td>\n",
              "      <td>0.045958</td>\n",
              "      <td>-0.011064</td>\n",
              "      <td>-0.039847</td>\n",
              "      <td>0.020015</td>\n",
              "    </tr>\n",
              "    <tr>\n",
              "      <th>2020-12</th>\n",
              "      <td>0.163419</td>\n",
              "      <td>0.141656</td>\n",
              "      <td>0.191437</td>\n",
              "      <td>0.207223</td>\n",
              "      <td>-0.016386</td>\n",
              "    </tr>\n",
              "  </tbody>\n",
              "</table>\n",
              "<p>82 rows × 5 columns</p>\n",
              "</div>"
            ],
            "text/plain": [
              "              ttf     brent  import_price_gas  coal_price  des_storage\n",
              "month                                                                 \n",
              "2014-03 -0.036338 -0.007836         -0.037876    0.028095     0.072520\n",
              "2014-04 -0.114293  0.001800         -0.013883   -0.002736     0.044534\n",
              "2014-05 -0.057140  0.010748         -0.050656   -0.000441    -0.042238\n",
              "2014-06 -0.106479  0.024965         -0.043071   -0.032539    -0.033585\n",
              "2014-07 -0.050753 -0.037654         -0.052533    0.021220    -0.033386\n",
              "...           ...       ...               ...         ...          ...\n",
              "2020-08  0.433263  0.040123          0.463144   -0.004367    -0.033564\n",
              "2020-09  0.323111 -0.075917          0.322761    0.075214    -0.042742\n",
              "2020-10  0.209942 -0.003751          0.212863    0.046438    -0.017185\n",
              "2020-11 -0.016693  0.045958         -0.011064   -0.039847     0.020015\n",
              "2020-12  0.163419  0.141656          0.191437    0.207223    -0.016386\n",
              "\n",
              "[82 rows x 5 columns]"
            ]
          },
          "metadata": {
            "tags": []
          },
          "execution_count": 76
        }
      ]
    },
    {
      "cell_type": "code",
      "metadata": {
        "id": "uQ9H4mIIAZao"
      },
      "source": [
        "data_log_stationary = pd.concat([data_stationary, data_log_diff], axis =1).dropna()"
      ],
      "execution_count": null,
      "outputs": []
    },
    {
      "cell_type": "code",
      "metadata": {
        "colab": {
          "base_uri": "https://localhost:8080/"
        },
        "id": "eBlzXaTH_LWV",
        "outputId": "da03ee4a-a7c3-4cc8-e28f-b53daad8bec3"
      },
      "source": [
        "for i in data_log_diff.columns:\n",
        "  print(\"--Variable--: \" + i)\n",
        "  test_stationary(data_log_stationary[i])\n",
        "  print('  ')  "
      ],
      "execution_count": null,
      "outputs": [
        {
          "output_type": "stream",
          "text": [
            "--Variable--: ttf\n",
            "ADF Statistic: -4.996810293685878\n",
            "p-value: 0.0002085171671087826\n",
            "The null hypothesis can be rejected with a 95% confidence level: the series does not have a unit root\n",
            "  \n",
            "--Variable--: brent\n",
            "ADF Statistic: -6.115417018958956\n",
            "p-value: 1.2526277516237865e-06\n",
            "The null hypothesis can be rejected with a 95% confidence level: the series does not have a unit root\n",
            "  \n",
            "--Variable--: import_price_gas\n",
            "ADF Statistic: -5.214654278761484\n",
            "p-value: 8.217229423041926e-05\n",
            "The null hypothesis can be rejected with a 95% confidence level: the series does not have a unit root\n",
            "  \n",
            "--Variable--: coal_price\n",
            "ADF Statistic: -4.297789939732411\n",
            "p-value: 0.0031712949815940273\n",
            "The null hypothesis can be rejected with a 95% confidence level: the series does not have a unit root\n",
            "  \n",
            "--Variable--: des_storage\n",
            "ADF Statistic: -7.451076480343569\n",
            "p-value: 1.3204742013638589e-09\n",
            "The null hypothesis can be rejected with a 95% confidence level: the series does not have a unit root\n",
            "  \n"
          ],
          "name": "stdout"
        }
      ]
    },
    {
      "cell_type": "code",
      "metadata": {
        "id": "fabCE562AorI"
      },
      "source": [
        "data_log_stationary.to_csv('data_log_stationary.csv')"
      ],
      "execution_count": null,
      "outputs": []
    },
    {
      "cell_type": "code",
      "metadata": {
        "colab": {
          "base_uri": "https://localhost:8080/",
          "height": 450
        },
        "id": "9DiubbSuOjj0",
        "outputId": "3a9332f6-1f33-4234-a90c-d05162828535"
      },
      "source": [
        "data_log_stationary"
      ],
      "execution_count": null,
      "outputs": [
        {
          "output_type": "execute_result",
          "data": {
            "text/html": [
              "<div>\n",
              "<style scoped>\n",
              "    .dataframe tbody tr th:only-of-type {\n",
              "        vertical-align: middle;\n",
              "    }\n",
              "\n",
              "    .dataframe tbody tr th {\n",
              "        vertical-align: top;\n",
              "    }\n",
              "\n",
              "    .dataframe thead th {\n",
              "        text-align: right;\n",
              "    }\n",
              "</style>\n",
              "<table border=\"1\" class=\"dataframe\">\n",
              "  <thead>\n",
              "    <tr style=\"text-align: right;\">\n",
              "      <th></th>\n",
              "      <th>des_heating</th>\n",
              "      <th>des_demand</th>\n",
              "      <th>ttf</th>\n",
              "      <th>brent</th>\n",
              "      <th>import_price_gas</th>\n",
              "      <th>coal_price</th>\n",
              "      <th>des_storage</th>\n",
              "    </tr>\n",
              "    <tr>\n",
              "      <th>month</th>\n",
              "      <th></th>\n",
              "      <th></th>\n",
              "      <th></th>\n",
              "      <th></th>\n",
              "      <th></th>\n",
              "      <th></th>\n",
              "      <th></th>\n",
              "    </tr>\n",
              "  </thead>\n",
              "  <tbody>\n",
              "    <tr>\n",
              "      <th>2014-03</th>\n",
              "      <td>4.550888</td>\n",
              "      <td>5.897229</td>\n",
              "      <td>-0.036338</td>\n",
              "      <td>-0.007836</td>\n",
              "      <td>-0.037876</td>\n",
              "      <td>0.028095</td>\n",
              "      <td>0.072520</td>\n",
              "    </tr>\n",
              "    <tr>\n",
              "      <th>2014-04</th>\n",
              "      <td>4.695779</td>\n",
              "      <td>6.213053</td>\n",
              "      <td>-0.114293</td>\n",
              "      <td>0.001800</td>\n",
              "      <td>-0.013883</td>\n",
              "      <td>-0.002736</td>\n",
              "      <td>0.044534</td>\n",
              "    </tr>\n",
              "    <tr>\n",
              "      <th>2014-05</th>\n",
              "      <td>4.909034</td>\n",
              "      <td>6.302846</td>\n",
              "      <td>-0.057140</td>\n",
              "      <td>0.010748</td>\n",
              "      <td>-0.050656</td>\n",
              "      <td>-0.000441</td>\n",
              "      <td>-0.042238</td>\n",
              "    </tr>\n",
              "    <tr>\n",
              "      <th>2014-06</th>\n",
              "      <td>4.891853</td>\n",
              "      <td>6.264044</td>\n",
              "      <td>-0.106479</td>\n",
              "      <td>0.024965</td>\n",
              "      <td>-0.043071</td>\n",
              "      <td>-0.032539</td>\n",
              "      <td>-0.033585</td>\n",
              "    </tr>\n",
              "    <tr>\n",
              "      <th>2014-07</th>\n",
              "      <td>4.824270</td>\n",
              "      <td>6.164792</td>\n",
              "      <td>-0.050753</td>\n",
              "      <td>-0.037654</td>\n",
              "      <td>-0.052533</td>\n",
              "      <td>0.021220</td>\n",
              "      <td>-0.033386</td>\n",
              "    </tr>\n",
              "    <tr>\n",
              "      <th>...</th>\n",
              "      <td>...</td>\n",
              "      <td>...</td>\n",
              "      <td>...</td>\n",
              "      <td>...</td>\n",
              "      <td>...</td>\n",
              "      <td>...</td>\n",
              "      <td>...</td>\n",
              "    </tr>\n",
              "    <tr>\n",
              "      <th>2020-08</th>\n",
              "      <td>4.895307</td>\n",
              "      <td>6.339464</td>\n",
              "      <td>0.433263</td>\n",
              "      <td>0.040123</td>\n",
              "      <td>0.463144</td>\n",
              "      <td>-0.004367</td>\n",
              "      <td>-0.033564</td>\n",
              "    </tr>\n",
              "    <tr>\n",
              "      <th>2020-09</th>\n",
              "      <td>4.798228</td>\n",
              "      <td>6.216248</td>\n",
              "      <td>0.323111</td>\n",
              "      <td>-0.075917</td>\n",
              "      <td>0.322761</td>\n",
              "      <td>0.075214</td>\n",
              "      <td>-0.042742</td>\n",
              "    </tr>\n",
              "    <tr>\n",
              "      <th>2020-10</th>\n",
              "      <td>4.781491</td>\n",
              "      <td>6.259568</td>\n",
              "      <td>0.209942</td>\n",
              "      <td>-0.003751</td>\n",
              "      <td>0.212863</td>\n",
              "      <td>0.046438</td>\n",
              "      <td>-0.017185</td>\n",
              "    </tr>\n",
              "    <tr>\n",
              "      <th>2020-11</th>\n",
              "      <td>4.690239</td>\n",
              "      <td>5.830496</td>\n",
              "      <td>-0.016693</td>\n",
              "      <td>0.045958</td>\n",
              "      <td>-0.011064</td>\n",
              "      <td>-0.039847</td>\n",
              "      <td>0.020015</td>\n",
              "    </tr>\n",
              "    <tr>\n",
              "      <th>2020-12</th>\n",
              "      <td>4.641923</td>\n",
              "      <td>5.910751</td>\n",
              "      <td>0.163419</td>\n",
              "      <td>0.141656</td>\n",
              "      <td>0.191437</td>\n",
              "      <td>0.207223</td>\n",
              "      <td>-0.016386</td>\n",
              "    </tr>\n",
              "  </tbody>\n",
              "</table>\n",
              "<p>82 rows × 7 columns</p>\n",
              "</div>"
            ],
            "text/plain": [
              "         des_heating  des_demand  ...  coal_price  des_storage\n",
              "month                             ...                         \n",
              "2014-03     4.550888    5.897229  ...    0.028095     0.072520\n",
              "2014-04     4.695779    6.213053  ...   -0.002736     0.044534\n",
              "2014-05     4.909034    6.302846  ...   -0.000441    -0.042238\n",
              "2014-06     4.891853    6.264044  ...   -0.032539    -0.033585\n",
              "2014-07     4.824270    6.164792  ...    0.021220    -0.033386\n",
              "...              ...         ...  ...         ...          ...\n",
              "2020-08     4.895307    6.339464  ...   -0.004367    -0.033564\n",
              "2020-09     4.798228    6.216248  ...    0.075214    -0.042742\n",
              "2020-10     4.781491    6.259568  ...    0.046438    -0.017185\n",
              "2020-11     4.690239    5.830496  ...   -0.039847     0.020015\n",
              "2020-12     4.641923    5.910751  ...    0.207223    -0.016386\n",
              "\n",
              "[82 rows x 7 columns]"
            ]
          },
          "metadata": {
            "tags": []
          },
          "execution_count": 80
        }
      ]
    },
    {
      "cell_type": "markdown",
      "metadata": {
        "id": "sgq-y5TtqoHC"
      },
      "source": [
        "# **OLS regression**"
      ]
    },
    {
      "cell_type": "markdown",
      "metadata": {
        "id": "TsonbHAkhNkA"
      },
      "source": [
        "## Correlation matrix"
      ]
    },
    {
      "cell_type": "code",
      "metadata": {
        "id": "BSg3HmGQqm-_",
        "colab": {
          "base_uri": "https://localhost:8080/",
          "height": 640
        },
        "outputId": "94d2972e-e95d-427b-d207-0555a186601e"
      },
      "source": [
        "# create an array like the argument, but made of zeros\n",
        "corrs = data[[\"ttf\",\"brent\",\"import_price_gas\",\"coal_price\",\"des_heating\",\"des_storage\",\"des_demand\",\"exchange_rate\"]].corr()\n",
        "mask_corr = np.zeros_like(corrs)\n",
        "\n",
        "# map True onto the upper triangle of the mask\n",
        "mask_corr[np.triu_indices_from(mask_corr)] = True\n",
        "\n",
        "#sns allows not to show the cells for which mask is true\n",
        "sns.heatmap(corrs,vmin=-1,vmax=1,mask=mask_corr,cmap=\"YlGnBu\",square=True)"
      ],
      "execution_count": null,
      "outputs": [
        {
          "output_type": "execute_result",
          "data": {
            "text/plain": [
              "<matplotlib.axes._subplots.AxesSubplot at 0x7fae3dd96f50>"
            ]
          },
          "metadata": {
            "tags": []
          },
          "execution_count": 115
        },
        {
          "output_type": "display_data",
          "data": {
            "image/png": "[encoded data removed]",
            "text/plain": [
              "<Figure size 720x720 with 2 Axes>"
            ]
          },
          "metadata": {
            "tags": [],
            "needs_background": "light"
          }
        }
      ]
    },
    {
      "cell_type": "code",
      "metadata": {
        "colab": {
          "base_uri": "https://localhost:8080/",
          "height": 266
        },
        "id": "8udROuwJhBqk",
        "outputId": "06cc507d-5781-4293-9bc2-e7dde73cab8f"
      },
      "source": [
        "corrs"
      ],
      "execution_count": null,
      "outputs": [
        {
          "output_type": "execute_result",
          "data": {
            "text/html": [
              "<div>\n",
              "<style scoped>\n",
              "    .dataframe tbody tr th:only-of-type {\n",
              "        vertical-align: middle;\n",
              "    }\n",
              "\n",
              "    .dataframe tbody tr th {\n",
              "        vertical-align: top;\n",
              "    }\n",
              "\n",
              "    .dataframe thead th {\n",
              "        text-align: right;\n",
              "    }\n",
              "</style>\n",
              "<table border=\"1\" class=\"dataframe\">\n",
              "  <thead>\n",
              "    <tr style=\"text-align: right;\">\n",
              "      <th></th>\n",
              "      <th>ttf</th>\n",
              "      <th>brent</th>\n",
              "      <th>import_price_gas</th>\n",
              "      <th>coal_price</th>\n",
              "      <th>des_heating</th>\n",
              "      <th>des_storage</th>\n",
              "      <th>des_demand</th>\n",
              "    </tr>\n",
              "  </thead>\n",
              "  <tbody>\n",
              "    <tr>\n",
              "      <th>ttf</th>\n",
              "      <td>1.000000</td>\n",
              "      <td>0.573596</td>\n",
              "      <td>0.889081</td>\n",
              "      <td>0.687655</td>\n",
              "      <td>-0.064777</td>\n",
              "      <td>-0.781461</td>\n",
              "      <td>-0.085688</td>\n",
              "    </tr>\n",
              "    <tr>\n",
              "      <th>brent</th>\n",
              "      <td>0.573596</td>\n",
              "      <td>1.000000</td>\n",
              "      <td>0.791705</td>\n",
              "      <td>0.497389</td>\n",
              "      <td>-0.113847</td>\n",
              "      <td>-0.414328</td>\n",
              "      <td>-0.042426</td>\n",
              "    </tr>\n",
              "    <tr>\n",
              "      <th>import_price_gas</th>\n",
              "      <td>0.889081</td>\n",
              "      <td>0.791705</td>\n",
              "      <td>1.000000</td>\n",
              "      <td>0.589459</td>\n",
              "      <td>-0.109216</td>\n",
              "      <td>-0.668647</td>\n",
              "      <td>0.055988</td>\n",
              "    </tr>\n",
              "    <tr>\n",
              "      <th>coal_price</th>\n",
              "      <td>0.687655</td>\n",
              "      <td>0.497389</td>\n",
              "      <td>0.589459</td>\n",
              "      <td>1.000000</td>\n",
              "      <td>0.088683</td>\n",
              "      <td>-0.455009</td>\n",
              "      <td>-0.113495</td>\n",
              "    </tr>\n",
              "    <tr>\n",
              "      <th>des_heating</th>\n",
              "      <td>-0.064777</td>\n",
              "      <td>-0.113847</td>\n",
              "      <td>-0.109216</td>\n",
              "      <td>0.088683</td>\n",
              "      <td>1.000000</td>\n",
              "      <td>-0.140513</td>\n",
              "      <td>0.337541</td>\n",
              "    </tr>\n",
              "    <tr>\n",
              "      <th>des_storage</th>\n",
              "      <td>-0.781461</td>\n",
              "      <td>-0.414328</td>\n",
              "      <td>-0.668647</td>\n",
              "      <td>-0.455009</td>\n",
              "      <td>-0.140513</td>\n",
              "      <td>1.000000</td>\n",
              "      <td>0.123711</td>\n",
              "    </tr>\n",
              "    <tr>\n",
              "      <th>des_demand</th>\n",
              "      <td>-0.085688</td>\n",
              "      <td>-0.042426</td>\n",
              "      <td>0.055988</td>\n",
              "      <td>-0.113495</td>\n",
              "      <td>0.337541</td>\n",
              "      <td>0.123711</td>\n",
              "      <td>1.000000</td>\n",
              "    </tr>\n",
              "  </tbody>\n",
              "</table>\n",
              "</div>"
            ],
            "text/plain": [
              "                       ttf     brent  ...  des_storage  des_demand\n",
              "ttf               1.000000  0.573596  ...    -0.781461   -0.085688\n",
              "brent             0.573596  1.000000  ...    -0.414328   -0.042426\n",
              "import_price_gas  0.889081  0.791705  ...    -0.668647    0.055988\n",
              "coal_price        0.687655  0.497389  ...    -0.455009   -0.113495\n",
              "des_heating      -0.064777 -0.113847  ...    -0.140513    0.337541\n",
              "des_storage      -0.781461 -0.414328  ...     1.000000    0.123711\n",
              "des_demand       -0.085688 -0.042426  ...     0.123711    1.000000\n",
              "\n",
              "[7 rows x 7 columns]"
            ]
          },
          "metadata": {
            "tags": []
          },
          "execution_count": 82
        }
      ]
    },
    {
      "cell_type": "markdown",
      "metadata": {
        "id": "QAaOmafXhV-v"
      },
      "source": [
        "## Normality check"
      ]
    },
    {
      "cell_type": "code",
      "metadata": {
        "colab": {
          "base_uri": "https://localhost:8080/",
          "height": 592
        },
        "id": "Vh_03dS_hI5R",
        "outputId": "c42dbc88-afa5-4f51-b742-4dad90e6d753"
      },
      "source": [
        "plt.hist(data[\"ttf\"])\n",
        "plt.show()"
      ],
      "execution_count": null,
      "outputs": [
        {
          "output_type": "display_data",
          "data": {
            "image/png": "[encoded data removed]",
            "text/plain": [
              "<Figure size 720x720 with 1 Axes>"
            ]
          },
          "metadata": {
            "tags": [],
            "needs_background": "light"
          }
        }
      ]
    },
    {
      "cell_type": "code",
      "metadata": {
        "colab": {
          "base_uri": "https://localhost:8080/",
          "height": 606
        },
        "id": "F9cdsMd7hlqr",
        "outputId": "27aa8145-4cf8-451b-fce5-b1145feaddc1"
      },
      "source": [
        "from statsmodels.graphics.gofplots import qqplot\n",
        "qqplot(data[\"ttf\"], line='s')\n",
        "plt.show()"
      ],
      "execution_count": null,
      "outputs": [
        {
          "output_type": "display_data",
          "data": {
            "image/png": "[encoded data removed]",
            "text/plain": [
              "<Figure size 720x720 with 1 Axes>"
            ]
          },
          "metadata": {
            "tags": [],
            "needs_background": "light"
          }
        }
      ]
    },
    {
      "cell_type": "markdown",
      "metadata": {
        "id": "DpVhLtwuhhYg"
      },
      "source": [
        "## Differencing"
      ]
    },
    {
      "cell_type": "code",
      "metadata": {
        "id": "4CBxjmsSh4u2"
      },
      "source": [
        "data_ols = pd.read_csv('full_data.csv')\n",
        "data_ols[\"ttf\"] = data_ols[\"ttf\"].diff()\n",
        "data_ols[\"brent\"] = data_ols[\"brent\"].diff()\n",
        "data_ols[\"coal_price\"] = data_ols[\"coal_price\"].diff()\n",
        "data_ols[\"des_storage\"] = (data_ols[\"des_storage\"].diff())/100\n",
        "data_ols[\"exchange_rate\"] = data_ols[\"exchange_rate\"].diff()\n",
        "data_ols = data_ols.dropna()"
      ],
      "execution_count": null,
      "outputs": []
    },
    {
      "cell_type": "code",
      "metadata": {
        "colab": {
          "base_uri": "https://localhost:8080/",
          "height": 419
        },
        "id": "CO6P2mRAU6iH",
        "outputId": "0d1b34f9-07fe-4aea-e586-316d55b880d5"
      },
      "source": [
        "data_ols"
      ],
      "execution_count": null,
      "outputs": [
        {
          "output_type": "execute_result",
          "data": {
            "text/html": [
              "<div>\n",
              "<style scoped>\n",
              "    .dataframe tbody tr th:only-of-type {\n",
              "        vertical-align: middle;\n",
              "    }\n",
              "\n",
              "    .dataframe tbody tr th {\n",
              "        vertical-align: top;\n",
              "    }\n",
              "\n",
              "    .dataframe thead th {\n",
              "        text-align: right;\n",
              "    }\n",
              "</style>\n",
              "<table border=\"1\" class=\"dataframe\">\n",
              "  <thead>\n",
              "    <tr style=\"text-align: right;\">\n",
              "      <th></th>\n",
              "      <th>month</th>\n",
              "      <th>ttf</th>\n",
              "      <th>brent</th>\n",
              "      <th>import_price_gas</th>\n",
              "      <th>coal_price</th>\n",
              "      <th>exchange_rate</th>\n",
              "      <th>des_heating</th>\n",
              "      <th>heating</th>\n",
              "      <th>des_storage</th>\n",
              "      <th>storage</th>\n",
              "      <th>des_demand</th>\n",
              "      <th>demand</th>\n",
              "    </tr>\n",
              "  </thead>\n",
              "  <tbody>\n",
              "    <tr>\n",
              "      <th>1</th>\n",
              "      <td>2014-03</td>\n",
              "      <td>-0.856689</td>\n",
              "      <td>-0.848492</td>\n",
              "      <td>10.8800</td>\n",
              "      <td>2.100000</td>\n",
              "      <td>0.017280</td>\n",
              "      <td>94.716456</td>\n",
              "      <td>165.501250</td>\n",
              "      <td>51.525440</td>\n",
              "      <td>49656.000</td>\n",
              "      <td>364.027330</td>\n",
              "      <td>609.346154</td>\n",
              "    </tr>\n",
              "    <tr>\n",
              "      <th>2</th>\n",
              "      <td>2014-04</td>\n",
              "      <td>-2.500286</td>\n",
              "      <td>0.194286</td>\n",
              "      <td>10.7300</td>\n",
              "      <td>-0.207143</td>\n",
              "      <td>-0.001943</td>\n",
              "      <td>109.484086</td>\n",
              "      <td>109.102083</td>\n",
              "      <td>50.492277</td>\n",
              "      <td>46999.000</td>\n",
              "      <td>499.223059</td>\n",
              "      <td>253.615385</td>\n",
              "    </tr>\n",
              "    <tr>\n",
              "      <th>3</th>\n",
              "      <td>2014-05</td>\n",
              "      <td>-1.146853</td>\n",
              "      <td>1.167619</td>\n",
              "      <td>10.2000</td>\n",
              "      <td>-0.033333</td>\n",
              "      <td>-0.006025</td>\n",
              "      <td>135.508462</td>\n",
              "      <td>71.290833</td>\n",
              "      <td>-36.556163</td>\n",
              "      <td>52790.000</td>\n",
              "      <td>546.123982</td>\n",
              "      <td>132.884615</td>\n",
              "    </tr>\n",
              "    <tr>\n",
              "      <th>4</th>\n",
              "      <td>2014-06</td>\n",
              "      <td>-1.969909</td>\n",
              "      <td>2.760952</td>\n",
              "      <td>9.7700</td>\n",
              "      <td>-2.419048</td>\n",
              "      <td>-0.014908</td>\n",
              "      <td>133.200103</td>\n",
              "      <td>31.794375</td>\n",
              "      <td>-19.944557</td>\n",
              "      <td>61207.000</td>\n",
              "      <td>525.338989</td>\n",
              "      <td>56.076923</td>\n",
              "    </tr>\n",
              "    <tr>\n",
              "      <th>5</th>\n",
              "      <td>2014-07</td>\n",
              "      <td>-0.867652</td>\n",
              "      <td>-4.138095</td>\n",
              "      <td>9.2700</td>\n",
              "      <td>1.568615</td>\n",
              "      <td>-0.004587</td>\n",
              "      <td>124.495491</td>\n",
              "      <td>13.505000</td>\n",
              "      <td>-24.247438</td>\n",
              "      <td>69706.000</td>\n",
              "      <td>475.702188</td>\n",
              "      <td>34.461538</td>\n",
              "    </tr>\n",
              "    <tr>\n",
              "      <th>...</th>\n",
              "      <td>...</td>\n",
              "      <td>...</td>\n",
              "      <td>...</td>\n",
              "      <td>...</td>\n",
              "      <td>...</td>\n",
              "      <td>...</td>\n",
              "      <td>...</td>\n",
              "      <td>...</td>\n",
              "      <td>...</td>\n",
              "      <td>...</td>\n",
              "      <td>...</td>\n",
              "      <td>...</td>\n",
              "    </tr>\n",
              "    <tr>\n",
              "      <th>78</th>\n",
              "      <td>2020-08</td>\n",
              "      <td>2.925967</td>\n",
              "      <td>1.768593</td>\n",
              "      <td>2.8619</td>\n",
              "      <td>-0.219156</td>\n",
              "      <td>0.037287</td>\n",
              "      <td>133.660994</td>\n",
              "      <td>26.067917</td>\n",
              "      <td>-47.520704</td>\n",
              "      <td>100794.186</td>\n",
              "      <td>566.492671</td>\n",
              "      <td>127.177594</td>\n",
              "    </tr>\n",
              "    <tr>\n",
              "      <th>79</th>\n",
              "      <td>2020-09</td>\n",
              "      <td>3.174017</td>\n",
              "      <td>-3.287548</td>\n",
              "      <td>3.9521</td>\n",
              "      <td>3.911905</td>\n",
              "      <td>-0.003102</td>\n",
              "      <td>121.295249</td>\n",
              "      <td>38.826250</td>\n",
              "      <td>-58.479798</td>\n",
              "      <td>107954.830</td>\n",
              "      <td>500.820834</td>\n",
              "      <td>202.861537</td>\n",
              "    </tr>\n",
              "    <tr>\n",
              "      <th>80</th>\n",
              "      <td>2020-10</td>\n",
              "      <td>2.685455</td>\n",
              "      <td>-0.156045</td>\n",
              "      <td>4.8896</td>\n",
              "      <td>2.566342</td>\n",
              "      <td>-0.002683</td>\n",
              "      <td>119.282031</td>\n",
              "      <td>101.838958</td>\n",
              "      <td>-26.840161</td>\n",
              "      <td>112281.744</td>\n",
              "      <td>522.992916</td>\n",
              "      <td>441.466063</td>\n",
              "    </tr>\n",
              "    <tr>\n",
              "      <th>81</th>\n",
              "      <td>2020-11</td>\n",
              "      <td>-0.234758</td>\n",
              "      <td>1.952967</td>\n",
              "      <td>4.8358</td>\n",
              "      <td>-2.209318</td>\n",
              "      <td>0.005975</td>\n",
              "      <td>108.879249</td>\n",
              "      <td>164.028750</td>\n",
              "      <td>-36.187530</td>\n",
              "      <td>109806.650</td>\n",
              "      <td>340.527595</td>\n",
              "      <td>621.333029</td>\n",
              "    </tr>\n",
              "    <tr>\n",
              "      <th>82</th>\n",
              "      <td>2020-12</td>\n",
              "      <td>2.475894</td>\n",
              "      <td>6.616579</td>\n",
              "      <td>5.8561</td>\n",
              "      <td>12.513864</td>\n",
              "      <td>0.033298</td>\n",
              "      <td>103.743673</td>\n",
              "      <td>220.888333</td>\n",
              "      <td>-5.018390</td>\n",
              "      <td>102136.638</td>\n",
              "      <td>368.983302</td>\n",
              "      <td>870.508784</td>\n",
              "    </tr>\n",
              "  </tbody>\n",
              "</table>\n",
              "<p>82 rows × 12 columns</p>\n",
              "</div>"
            ],
            "text/plain": [
              "      month       ttf     brent  ...     storage  des_demand      demand\n",
              "1   2014-03 -0.856689 -0.848492  ...   49656.000  364.027330  609.346154\n",
              "2   2014-04 -2.500286  0.194286  ...   46999.000  499.223059  253.615385\n",
              "3   2014-05 -1.146853  1.167619  ...   52790.000  546.123982  132.884615\n",
              "4   2014-06 -1.969909  2.760952  ...   61207.000  525.338989   56.076923\n",
              "5   2014-07 -0.867652 -4.138095  ...   69706.000  475.702188   34.461538\n",
              "..      ...       ...       ...  ...         ...         ...         ...\n",
              "78  2020-08  2.925967  1.768593  ...  100794.186  566.492671  127.177594\n",
              "79  2020-09  3.174017 -3.287548  ...  107954.830  500.820834  202.861537\n",
              "80  2020-10  2.685455 -0.156045  ...  112281.744  522.992916  441.466063\n",
              "81  2020-11 -0.234758  1.952967  ...  109806.650  340.527595  621.333029\n",
              "82  2020-12  2.475894  6.616579  ...  102136.638  368.983302  870.508784\n",
              "\n",
              "[82 rows x 12 columns]"
            ]
          },
          "metadata": {
            "tags": []
          },
          "execution_count": 175
        }
      ]
    },
    {
      "cell_type": "code",
      "metadata": {
        "id": "3FUkBGiTiT3_"
      },
      "source": [
        "data_ols.columns = [\"month\",\"D_ttf\",\"D_brent\",\"import_price_gas\",\"D_coal\",'D_exchange_rae',\"des_heating\",\"heating\",\n",
        "                \"D_des_storage\",\"storage\",\"des_demand\",\"demand\"]"
      ],
      "execution_count": null,
      "outputs": []
    },
    {
      "cell_type": "code",
      "metadata": {
        "colab": {
          "base_uri": "https://localhost:8080/",
          "height": 419
        },
        "id": "rskaI-dLvCL2",
        "outputId": "0a7a7275-c68f-44b4-c3f0-cc3a188ee245"
      },
      "source": [
        "data_ols"
      ],
      "execution_count": null,
      "outputs": [
        {
          "output_type": "execute_result",
          "data": {
            "text/html": [
              "<div>\n",
              "<style scoped>\n",
              "    .dataframe tbody tr th:only-of-type {\n",
              "        vertical-align: middle;\n",
              "    }\n",
              "\n",
              "    .dataframe tbody tr th {\n",
              "        vertical-align: top;\n",
              "    }\n",
              "\n",
              "    .dataframe thead th {\n",
              "        text-align: right;\n",
              "    }\n",
              "</style>\n",
              "<table border=\"1\" class=\"dataframe\">\n",
              "  <thead>\n",
              "    <tr style=\"text-align: right;\">\n",
              "      <th></th>\n",
              "      <th>month</th>\n",
              "      <th>D_ttf</th>\n",
              "      <th>D_brent</th>\n",
              "      <th>import_price_gas</th>\n",
              "      <th>D_coal</th>\n",
              "      <th>D_exchange_rae</th>\n",
              "      <th>des_heating</th>\n",
              "      <th>heating</th>\n",
              "      <th>D_des_storage</th>\n",
              "      <th>storage</th>\n",
              "      <th>des_demand</th>\n",
              "      <th>demand</th>\n",
              "    </tr>\n",
              "  </thead>\n",
              "  <tbody>\n",
              "    <tr>\n",
              "      <th>1</th>\n",
              "      <td>2014-03</td>\n",
              "      <td>-0.856689</td>\n",
              "      <td>-0.848492</td>\n",
              "      <td>10.8800</td>\n",
              "      <td>2.100000</td>\n",
              "      <td>0.017280</td>\n",
              "      <td>94.716456</td>\n",
              "      <td>165.501250</td>\n",
              "      <td>51.525440</td>\n",
              "      <td>49656.000</td>\n",
              "      <td>364.027330</td>\n",
              "      <td>609.346154</td>\n",
              "    </tr>\n",
              "    <tr>\n",
              "      <th>2</th>\n",
              "      <td>2014-04</td>\n",
              "      <td>-2.500286</td>\n",
              "      <td>0.194286</td>\n",
              "      <td>10.7300</td>\n",
              "      <td>-0.207143</td>\n",
              "      <td>-0.001943</td>\n",
              "      <td>109.484086</td>\n",
              "      <td>109.102083</td>\n",
              "      <td>50.492277</td>\n",
              "      <td>46999.000</td>\n",
              "      <td>499.223059</td>\n",
              "      <td>253.615385</td>\n",
              "    </tr>\n",
              "    <tr>\n",
              "      <th>3</th>\n",
              "      <td>2014-05</td>\n",
              "      <td>-1.146853</td>\n",
              "      <td>1.167619</td>\n",
              "      <td>10.2000</td>\n",
              "      <td>-0.033333</td>\n",
              "      <td>-0.006025</td>\n",
              "      <td>135.508462</td>\n",
              "      <td>71.290833</td>\n",
              "      <td>-36.556163</td>\n",
              "      <td>52790.000</td>\n",
              "      <td>546.123982</td>\n",
              "      <td>132.884615</td>\n",
              "    </tr>\n",
              "    <tr>\n",
              "      <th>4</th>\n",
              "      <td>2014-06</td>\n",
              "      <td>-1.969909</td>\n",
              "      <td>2.760952</td>\n",
              "      <td>9.7700</td>\n",
              "      <td>-2.419048</td>\n",
              "      <td>-0.014908</td>\n",
              "      <td>133.200103</td>\n",
              "      <td>31.794375</td>\n",
              "      <td>-19.944557</td>\n",
              "      <td>61207.000</td>\n",
              "      <td>525.338989</td>\n",
              "      <td>56.076923</td>\n",
              "    </tr>\n",
              "    <tr>\n",
              "      <th>5</th>\n",
              "      <td>2014-07</td>\n",
              "      <td>-0.867652</td>\n",
              "      <td>-4.138095</td>\n",
              "      <td>9.2700</td>\n",
              "      <td>1.568615</td>\n",
              "      <td>-0.004587</td>\n",
              "      <td>124.495491</td>\n",
              "      <td>13.505000</td>\n",
              "      <td>-24.247438</td>\n",
              "      <td>69706.000</td>\n",
              "      <td>475.702188</td>\n",
              "      <td>34.461538</td>\n",
              "    </tr>\n",
              "    <tr>\n",
              "      <th>...</th>\n",
              "      <td>...</td>\n",
              "      <td>...</td>\n",
              "      <td>...</td>\n",
              "      <td>...</td>\n",
              "      <td>...</td>\n",
              "      <td>...</td>\n",
              "      <td>...</td>\n",
              "      <td>...</td>\n",
              "      <td>...</td>\n",
              "      <td>...</td>\n",
              "      <td>...</td>\n",
              "      <td>...</td>\n",
              "    </tr>\n",
              "    <tr>\n",
              "      <th>78</th>\n",
              "      <td>2020-08</td>\n",
              "      <td>2.925967</td>\n",
              "      <td>1.768593</td>\n",
              "      <td>2.8619</td>\n",
              "      <td>-0.219156</td>\n",
              "      <td>0.037287</td>\n",
              "      <td>133.660994</td>\n",
              "      <td>26.067917</td>\n",
              "      <td>-47.520704</td>\n",
              "      <td>100794.186</td>\n",
              "      <td>566.492671</td>\n",
              "      <td>127.177594</td>\n",
              "    </tr>\n",
              "    <tr>\n",
              "      <th>79</th>\n",
              "      <td>2020-09</td>\n",
              "      <td>3.174017</td>\n",
              "      <td>-3.287548</td>\n",
              "      <td>3.9521</td>\n",
              "      <td>3.911905</td>\n",
              "      <td>-0.003102</td>\n",
              "      <td>121.295249</td>\n",
              "      <td>38.826250</td>\n",
              "      <td>-58.479798</td>\n",
              "      <td>107954.830</td>\n",
              "      <td>500.820834</td>\n",
              "      <td>202.861537</td>\n",
              "    </tr>\n",
              "    <tr>\n",
              "      <th>80</th>\n",
              "      <td>2020-10</td>\n",
              "      <td>2.685455</td>\n",
              "      <td>-0.156045</td>\n",
              "      <td>4.8896</td>\n",
              "      <td>2.566342</td>\n",
              "      <td>-0.002683</td>\n",
              "      <td>119.282031</td>\n",
              "      <td>101.838958</td>\n",
              "      <td>-26.840161</td>\n",
              "      <td>112281.744</td>\n",
              "      <td>522.992916</td>\n",
              "      <td>441.466063</td>\n",
              "    </tr>\n",
              "    <tr>\n",
              "      <th>81</th>\n",
              "      <td>2020-11</td>\n",
              "      <td>-0.234758</td>\n",
              "      <td>1.952967</td>\n",
              "      <td>4.8358</td>\n",
              "      <td>-2.209318</td>\n",
              "      <td>0.005975</td>\n",
              "      <td>108.879249</td>\n",
              "      <td>164.028750</td>\n",
              "      <td>-36.187530</td>\n",
              "      <td>109806.650</td>\n",
              "      <td>340.527595</td>\n",
              "      <td>621.333029</td>\n",
              "    </tr>\n",
              "    <tr>\n",
              "      <th>82</th>\n",
              "      <td>2020-12</td>\n",
              "      <td>2.475894</td>\n",
              "      <td>6.616579</td>\n",
              "      <td>5.8561</td>\n",
              "      <td>12.513864</td>\n",
              "      <td>0.033298</td>\n",
              "      <td>103.743673</td>\n",
              "      <td>220.888333</td>\n",
              "      <td>-5.018390</td>\n",
              "      <td>102136.638</td>\n",
              "      <td>368.983302</td>\n",
              "      <td>870.508784</td>\n",
              "    </tr>\n",
              "  </tbody>\n",
              "</table>\n",
              "<p>82 rows × 12 columns</p>\n",
              "</div>"
            ],
            "text/plain": [
              "      month     D_ttf   D_brent  ...     storage  des_demand      demand\n",
              "1   2014-03 -0.856689 -0.848492  ...   49656.000  364.027330  609.346154\n",
              "2   2014-04 -2.500286  0.194286  ...   46999.000  499.223059  253.615385\n",
              "3   2014-05 -1.146853  1.167619  ...   52790.000  546.123982  132.884615\n",
              "4   2014-06 -1.969909  2.760952  ...   61207.000  525.338989   56.076923\n",
              "5   2014-07 -0.867652 -4.138095  ...   69706.000  475.702188   34.461538\n",
              "..      ...       ...       ...  ...         ...         ...         ...\n",
              "78  2020-08  2.925967  1.768593  ...  100794.186  566.492671  127.177594\n",
              "79  2020-09  3.174017 -3.287548  ...  107954.830  500.820834  202.861537\n",
              "80  2020-10  2.685455 -0.156045  ...  112281.744  522.992916  441.466063\n",
              "81  2020-11 -0.234758  1.952967  ...  109806.650  340.527595  621.333029\n",
              "82  2020-12  2.475894  6.616579  ...  102136.638  368.983302  870.508784\n",
              "\n",
              "[82 rows x 12 columns]"
            ]
          },
          "metadata": {
            "tags": []
          },
          "execution_count": 177
        }
      ]
    },
    {
      "cell_type": "code",
      "metadata": {
        "colab": {
          "base_uri": "https://localhost:8080/",
          "height": 419
        },
        "collapsed": true,
        "id": "nKAHx37pigxJ",
        "outputId": "505e1835-be3a-4f30-df73-8f8c32c8f86c"
      },
      "source": [
        "data_ols['LNG_dummy'] = (data_ols[\"month\"] >= \"2016-9-01\" ).astype(int)\n",
        "data_ols"
      ],
      "execution_count": null,
      "outputs": [
        {
          "output_type": "execute_result",
          "data": {
            "text/html": [
              "<div>\n",
              "<style scoped>\n",
              "    .dataframe tbody tr th:only-of-type {\n",
              "        vertical-align: middle;\n",
              "    }\n",
              "\n",
              "    .dataframe tbody tr th {\n",
              "        vertical-align: top;\n",
              "    }\n",
              "\n",
              "    .dataframe thead th {\n",
              "        text-align: right;\n",
              "    }\n",
              "</style>\n",
              "<table border=\"1\" class=\"dataframe\">\n",
              "  <thead>\n",
              "    <tr style=\"text-align: right;\">\n",
              "      <th></th>\n",
              "      <th>month</th>\n",
              "      <th>D_ttf</th>\n",
              "      <th>D_brent</th>\n",
              "      <th>import_price_gas</th>\n",
              "      <th>D_coal</th>\n",
              "      <th>D_exchange_rae</th>\n",
              "      <th>des_heating</th>\n",
              "      <th>heating</th>\n",
              "      <th>D_des_storage</th>\n",
              "      <th>storage</th>\n",
              "      <th>des_demand</th>\n",
              "      <th>demand</th>\n",
              "      <th>LNG_dummy</th>\n",
              "    </tr>\n",
              "  </thead>\n",
              "  <tbody>\n",
              "    <tr>\n",
              "      <th>1</th>\n",
              "      <td>2014-03</td>\n",
              "      <td>-0.856689</td>\n",
              "      <td>-0.848492</td>\n",
              "      <td>10.8800</td>\n",
              "      <td>2.100000</td>\n",
              "      <td>0.017280</td>\n",
              "      <td>94.716456</td>\n",
              "      <td>165.501250</td>\n",
              "      <td>51.525440</td>\n",
              "      <td>49656.000</td>\n",
              "      <td>364.027330</td>\n",
              "      <td>609.346154</td>\n",
              "      <td>0</td>\n",
              "    </tr>\n",
              "    <tr>\n",
              "      <th>2</th>\n",
              "      <td>2014-04</td>\n",
              "      <td>-2.500286</td>\n",
              "      <td>0.194286</td>\n",
              "      <td>10.7300</td>\n",
              "      <td>-0.207143</td>\n",
              "      <td>-0.001943</td>\n",
              "      <td>109.484086</td>\n",
              "      <td>109.102083</td>\n",
              "      <td>50.492277</td>\n",
              "      <td>46999.000</td>\n",
              "      <td>499.223059</td>\n",
              "      <td>253.615385</td>\n",
              "      <td>0</td>\n",
              "    </tr>\n",
              "    <tr>\n",
              "      <th>3</th>\n",
              "      <td>2014-05</td>\n",
              "      <td>-1.146853</td>\n",
              "      <td>1.167619</td>\n",
              "      <td>10.2000</td>\n",
              "      <td>-0.033333</td>\n",
              "      <td>-0.006025</td>\n",
              "      <td>135.508462</td>\n",
              "      <td>71.290833</td>\n",
              "      <td>-36.556163</td>\n",
              "      <td>52790.000</td>\n",
              "      <td>546.123982</td>\n",
              "      <td>132.884615</td>\n",
              "      <td>0</td>\n",
              "    </tr>\n",
              "    <tr>\n",
              "      <th>4</th>\n",
              "      <td>2014-06</td>\n",
              "      <td>-1.969909</td>\n",
              "      <td>2.760952</td>\n",
              "      <td>9.7700</td>\n",
              "      <td>-2.419048</td>\n",
              "      <td>-0.014908</td>\n",
              "      <td>133.200103</td>\n",
              "      <td>31.794375</td>\n",
              "      <td>-19.944557</td>\n",
              "      <td>61207.000</td>\n",
              "      <td>525.338989</td>\n",
              "      <td>56.076923</td>\n",
              "      <td>0</td>\n",
              "    </tr>\n",
              "    <tr>\n",
              "      <th>5</th>\n",
              "      <td>2014-07</td>\n",
              "      <td>-0.867652</td>\n",
              "      <td>-4.138095</td>\n",
              "      <td>9.2700</td>\n",
              "      <td>1.568615</td>\n",
              "      <td>-0.004587</td>\n",
              "      <td>124.495491</td>\n",
              "      <td>13.505000</td>\n",
              "      <td>-24.247438</td>\n",
              "      <td>69706.000</td>\n",
              "      <td>475.702188</td>\n",
              "      <td>34.461538</td>\n",
              "      <td>0</td>\n",
              "    </tr>\n",
              "    <tr>\n",
              "      <th>...</th>\n",
              "      <td>...</td>\n",
              "      <td>...</td>\n",
              "      <td>...</td>\n",
              "      <td>...</td>\n",
              "      <td>...</td>\n",
              "      <td>...</td>\n",
              "      <td>...</td>\n",
              "      <td>...</td>\n",
              "      <td>...</td>\n",
              "      <td>...</td>\n",
              "      <td>...</td>\n",
              "      <td>...</td>\n",
              "      <td>...</td>\n",
              "    </tr>\n",
              "    <tr>\n",
              "      <th>78</th>\n",
              "      <td>2020-08</td>\n",
              "      <td>2.925967</td>\n",
              "      <td>1.768593</td>\n",
              "      <td>2.8619</td>\n",
              "      <td>-0.219156</td>\n",
              "      <td>0.037287</td>\n",
              "      <td>133.660994</td>\n",
              "      <td>26.067917</td>\n",
              "      <td>-47.520704</td>\n",
              "      <td>100794.186</td>\n",
              "      <td>566.492671</td>\n",
              "      <td>127.177594</td>\n",
              "      <td>1</td>\n",
              "    </tr>\n",
              "    <tr>\n",
              "      <th>79</th>\n",
              "      <td>2020-09</td>\n",
              "      <td>3.174017</td>\n",
              "      <td>-3.287548</td>\n",
              "      <td>3.9521</td>\n",
              "      <td>3.911905</td>\n",
              "      <td>-0.003102</td>\n",
              "      <td>121.295249</td>\n",
              "      <td>38.826250</td>\n",
              "      <td>-58.479798</td>\n",
              "      <td>107954.830</td>\n",
              "      <td>500.820834</td>\n",
              "      <td>202.861537</td>\n",
              "      <td>1</td>\n",
              "    </tr>\n",
              "    <tr>\n",
              "      <th>80</th>\n",
              "      <td>2020-10</td>\n",
              "      <td>2.685455</td>\n",
              "      <td>-0.156045</td>\n",
              "      <td>4.8896</td>\n",
              "      <td>2.566342</td>\n",
              "      <td>-0.002683</td>\n",
              "      <td>119.282031</td>\n",
              "      <td>101.838958</td>\n",
              "      <td>-26.840161</td>\n",
              "      <td>112281.744</td>\n",
              "      <td>522.992916</td>\n",
              "      <td>441.466063</td>\n",
              "      <td>1</td>\n",
              "    </tr>\n",
              "    <tr>\n",
              "      <th>81</th>\n",
              "      <td>2020-11</td>\n",
              "      <td>-0.234758</td>\n",
              "      <td>1.952967</td>\n",
              "      <td>4.8358</td>\n",
              "      <td>-2.209318</td>\n",
              "      <td>0.005975</td>\n",
              "      <td>108.879249</td>\n",
              "      <td>164.028750</td>\n",
              "      <td>-36.187530</td>\n",
              "      <td>109806.650</td>\n",
              "      <td>340.527595</td>\n",
              "      <td>621.333029</td>\n",
              "      <td>1</td>\n",
              "    </tr>\n",
              "    <tr>\n",
              "      <th>82</th>\n",
              "      <td>2020-12</td>\n",
              "      <td>2.475894</td>\n",
              "      <td>6.616579</td>\n",
              "      <td>5.8561</td>\n",
              "      <td>12.513864</td>\n",
              "      <td>0.033298</td>\n",
              "      <td>103.743673</td>\n",
              "      <td>220.888333</td>\n",
              "      <td>-5.018390</td>\n",
              "      <td>102136.638</td>\n",
              "      <td>368.983302</td>\n",
              "      <td>870.508784</td>\n",
              "      <td>1</td>\n",
              "    </tr>\n",
              "  </tbody>\n",
              "</table>\n",
              "<p>82 rows × 13 columns</p>\n",
              "</div>"
            ],
            "text/plain": [
              "      month     D_ttf   D_brent  ...  des_demand      demand  LNG_dummy\n",
              "1   2014-03 -0.856689 -0.848492  ...  364.027330  609.346154          0\n",
              "2   2014-04 -2.500286  0.194286  ...  499.223059  253.615385          0\n",
              "3   2014-05 -1.146853  1.167619  ...  546.123982  132.884615          0\n",
              "4   2014-06 -1.969909  2.760952  ...  525.338989   56.076923          0\n",
              "5   2014-07 -0.867652 -4.138095  ...  475.702188   34.461538          0\n",
              "..      ...       ...       ...  ...         ...         ...        ...\n",
              "78  2020-08  2.925967  1.768593  ...  566.492671  127.177594          1\n",
              "79  2020-09  3.174017 -3.287548  ...  500.820834  202.861537          1\n",
              "80  2020-10  2.685455 -0.156045  ...  522.992916  441.466063          1\n",
              "81  2020-11 -0.234758  1.952967  ...  340.527595  621.333029          1\n",
              "82  2020-12  2.475894  6.616579  ...  368.983302  870.508784          1\n",
              "\n",
              "[82 rows x 13 columns]"
            ]
          },
          "metadata": {
            "tags": []
          },
          "execution_count": 178
        }
      ]
    },
    {
      "cell_type": "markdown",
      "metadata": {
        "id": "4TSAYHfAit3W"
      },
      "source": [
        "## Regression"
      ]
    },
    {
      "cell_type": "code",
      "metadata": {
        "colab": {
          "base_uri": "https://localhost:8080/"
        },
        "id": "5PHsQboKir2V",
        "outputId": "5eb54354-4542-4c69-c541-ea819131384a"
      },
      "source": [
        "import statsmodels.api as sm\n",
        "X = sm.add_constant(data_ols[[\"D_brent\",\"D_coal\",\"D_des_storage\",\"des_heating\",\"LNG_dummy\",'D_exchange_rae']])\n",
        "model = sm.OLS(data_ols['D_ttf'],X)\n",
        "results = model.fit()\n",
        "print(results.summary())"
      ],
      "execution_count": null,
      "outputs": [
        {
          "output_type": "stream",
          "text": [
            "                            OLS Regression Results                            \n",
            "==============================================================================\n",
            "Dep. Variable:                  D_ttf   R-squared:                       0.492\n",
            "Model:                            OLS   Adj. R-squared:                  0.451\n",
            "Method:                 Least Squares   F-statistic:                     12.08\n",
            "Date:                Fri, 02 Jul 2021   Prob (F-statistic):           1.87e-09\n",
            "Time:                        22:39:29   Log-Likelihood:                -132.30\n",
            "No. Observations:                  82   AIC:                             278.6\n",
            "Df Residuals:                      75   BIC:                             295.4\n",
            "Df Model:                           6                                         \n",
            "Covariance Type:            nonrobust                                         \n",
            "==================================================================================\n",
            "                     coef    std err          t      P>|t|      [0.025      0.975]\n",
            "----------------------------------------------------------------------------------\n",
            "const             -2.7698      1.059     -2.616      0.011      -4.879      -0.661\n",
            "D_brent            0.0007      0.028      0.027      0.979      -0.054       0.056\n",
            "D_coal             0.2224      0.033      6.704      0.000       0.156       0.289\n",
            "D_des_storage     -0.0082      0.004     -2.188      0.032      -0.016      -0.001\n",
            "des_heating        0.0194      0.008      2.332      0.022       0.003       0.036\n",
            "LNG_dummy          0.5102      0.303      1.687      0.096      -0.092       1.113\n",
            "D_exchange_rae   -16.7155      7.530     -2.220      0.029     -31.716      -1.715\n",
            "==============================================================================\n",
            "Omnibus:                        9.097   Durbin-Watson:                   1.645\n",
            "Prob(Omnibus):                  0.011   Jarque-Bera (JB):                8.787\n",
            "Skew:                           0.755   Prob(JB):                       0.0124\n",
            "Kurtosis:                       3.538   Cond. No.                     6.66e+03\n",
            "==============================================================================\n",
            "\n",
            "Warnings:\n",
            "[1] Standard Errors assume that the covariance matrix of the errors is correctly specified.\n",
            "[2] The condition number is large, 6.66e+03. This might indicate that there are\n",
            "strong multicollinearity or other numerical problems.\n"
          ],
          "name": "stdout"
        }
      ]
    },
    {
      "cell_type": "markdown",
      "metadata": {
        "id": "dRCGEjxwZ-P6"
      },
      "source": [
        "# **Grange Causality**"
      ]
    },
    {
      "cell_type": "code",
      "metadata": {
        "colab": {
          "base_uri": "https://localhost:8080/",
          "height": 205
        },
        "id": "8hLDIG-6aEQf",
        "outputId": "651aac98-52d9-466a-eb4d-c8184622f6e7"
      },
      "source": [
        "maxlag=2\n",
        "test = 'ssr_chi2test'\n",
        "def grangers_causation_matrix(data, variables, test='ssr_chi2test', verbose=False):    \n",
        "    \"\"\"Check Granger Causality of all possible combinations of the Time series.\n",
        "    The rows are the response variable, columns are predictors. The values in the table \n",
        "    are the P-Values. P-Values lesser than the significance level (0.05), implies \n",
        "    the Null Hypothesis that the coefficients of the corresponding past values is \n",
        "    zero, that is, the X does not granger cause Y can be rejected.\n",
        "\n",
        "    data      : pandas dataframe containing the time series variables\n",
        "    variables : list containing names of the time series variables.\n",
        "    \"\"\"\n",
        "    df = pd.DataFrame(np.zeros((len(variables), len(variables))), columns=variables, index=variables)\n",
        "    for c in df.columns:\n",
        "        for r in df.index:\n",
        "            test_result = grangercausalitytests(data[[r, c]], maxlag=maxlag, verbose=False)\n",
        "            p_values = [round(test_result[i+1][0][test][1],4) for i in range(maxlag)]\n",
        "            if verbose: print(f'Y = {r}, X = {c}, P Values = {p_values}')\n",
        "            min_p_value = np.min(p_values)\n",
        "            df.loc[r, c] = min_p_value\n",
        "    df.columns = [var + '_x' for var in variables]\n",
        "    df.index = [var + '_y' for var in variables]\n",
        "    return df\n",
        "\n",
        "grangers_causation_matrix(data_diff, variables = data_diff.columns)"
      ],
      "execution_count": null,
      "outputs": [
        {
          "output_type": "execute_result",
          "data": {
            "text/html": [
              "<div>\n",
              "<style scoped>\n",
              "    .dataframe tbody tr th:only-of-type {\n",
              "        vertical-align: middle;\n",
              "    }\n",
              "\n",
              "    .dataframe tbody tr th {\n",
              "        vertical-align: top;\n",
              "    }\n",
              "\n",
              "    .dataframe thead th {\n",
              "        text-align: right;\n",
              "    }\n",
              "</style>\n",
              "<table border=\"1\" class=\"dataframe\">\n",
              "  <thead>\n",
              "    <tr style=\"text-align: right;\">\n",
              "      <th></th>\n",
              "      <th>ttf_x</th>\n",
              "      <th>brent_x</th>\n",
              "      <th>coal_price_x</th>\n",
              "      <th>des_storage_x</th>\n",
              "      <th>des_heating_x</th>\n",
              "    </tr>\n",
              "  </thead>\n",
              "  <tbody>\n",
              "    <tr>\n",
              "      <th>ttf_y</th>\n",
              "      <td>1.0000</td>\n",
              "      <td>0.4610</td>\n",
              "      <td>0.0459</td>\n",
              "      <td>0.0854</td>\n",
              "      <td>0.1359</td>\n",
              "    </tr>\n",
              "    <tr>\n",
              "      <th>brent_y</th>\n",
              "      <td>0.5395</td>\n",
              "      <td>1.0000</td>\n",
              "      <td>0.0895</td>\n",
              "      <td>0.2046</td>\n",
              "      <td>0.1131</td>\n",
              "    </tr>\n",
              "    <tr>\n",
              "      <th>coal_price_y</th>\n",
              "      <td>0.1426</td>\n",
              "      <td>0.1651</td>\n",
              "      <td>1.0000</td>\n",
              "      <td>0.1747</td>\n",
              "      <td>0.1760</td>\n",
              "    </tr>\n",
              "    <tr>\n",
              "      <th>des_storage_y</th>\n",
              "      <td>0.0031</td>\n",
              "      <td>0.5752</td>\n",
              "      <td>0.1854</td>\n",
              "      <td>1.0000</td>\n",
              "      <td>0.0018</td>\n",
              "    </tr>\n",
              "    <tr>\n",
              "      <th>des_heating_y</th>\n",
              "      <td>0.3481</td>\n",
              "      <td>0.9625</td>\n",
              "      <td>0.2025</td>\n",
              "      <td>0.0257</td>\n",
              "      <td>1.0000</td>\n",
              "    </tr>\n",
              "  </tbody>\n",
              "</table>\n",
              "</div>"
            ],
            "text/plain": [
              "                ttf_x  brent_x  coal_price_x  des_storage_x  des_heating_x\n",
              "ttf_y          1.0000   0.4610        0.0459         0.0854         0.1359\n",
              "brent_y        0.5395   1.0000        0.0895         0.2046         0.1131\n",
              "coal_price_y   0.1426   0.1651        1.0000         0.1747         0.1760\n",
              "des_storage_y  0.0031   0.5752        0.1854         1.0000         0.0018\n",
              "des_heating_y  0.3481   0.9625        0.2025         0.0257         1.0000"
            ]
          },
          "metadata": {
            "tags": []
          },
          "execution_count": 90
        }
      ]
    },
    {
      "cell_type": "markdown",
      "metadata": {
        "id": "a3qyeR7VWTND"
      },
      "source": [
        "# **New Heating Index**"
      ]
    },
    {
      "cell_type": "code",
      "metadata": {
        "id": "igneg56tWXmO"
      },
      "source": [
        "new_heating = pd.read_csv(\"HDD.csv\", sep = ';')"
      ],
      "execution_count": null,
      "outputs": []
    },
    {
      "cell_type": "code",
      "metadata": {
        "id": "yz9Z5rgiXXSD"
      },
      "source": [
        "def nuts(a):\n",
        "  if a == \"BE\":\n",
        "    return \"Others\"\n",
        "  if a == \"BG\":\n",
        "    return \"Others\"\n",
        "  if a == \"CZ\":\n",
        "    return \"Others\"\n",
        "  if a == \"DK\":\n",
        "    return \"Others\"\n",
        "  if a == \"DE\":\n",
        "    return \"Others\"\n",
        "  if a == \"EE\":\n",
        "    return \"Others\"\n",
        "  if a == \"IE\":\n",
        "    return \"Others\"\n",
        "  if a == \"EL\":\n",
        "    return \"Others\"\n",
        "  if a == \"FR\":\n",
        "    return \"Others\"\n",
        "  if a == \"ES\":\n",
        "    return \"Others\"\n",
        "  if a == \"HR\":\n",
        "    return \"Others\"\n",
        "  if a == \"IT\":\n",
        "    return \"Others\"\n",
        "  if a == \"LV\":\n",
        "    return \"Others\"\n",
        "  if a == \"LT\":\n",
        "    return \"Others\"\n",
        "  if a == \"HU\":\n",
        "    return \"Others\"\n",
        "  if a == \"NL\":\n",
        "    return \"Others\"\n",
        "  if a == \"AT\":\n",
        "    return \"Others\"\n",
        "  if a == \"PL\":\n",
        "    return \"Others\"\n",
        "  if a == \"PT\":\n",
        "    return \"Others\"\n",
        "  if a == \"RO\":\n",
        "    return \"Others\"\n",
        "  if a == \"SI\":\n",
        "    return \"Others\"\n",
        "  if a == \"SK\":\n",
        "    return \"Others\"\n",
        "  if a == \"FI\":\n",
        "    return \"Others\"\n",
        "  if a == \"SE\":\n",
        "    return \"Others\"\n",
        "  if a == \"UK\":\n",
        "    return \"Others\"\n",
        "  if a == \"TR\":\n",
        "    return \"Others\"\n",
        "  if a.startswith(\"BE\"):\n",
        "    return \"Belgium\"\n",
        "  if a.startswith(\"BG\"):\n",
        "    return \"Bulgaria\"\n",
        "  if a.startswith(\"CZ\"):\n",
        "    return \"Czechia\"\n",
        "  if a.startswith(\"DK\"):\n",
        "    return \"Denmark\"\n",
        "  if a.startswith(\"DE\"):\n",
        "    return \"Germany\"\n",
        "  if a.startswith(\"EE\"):\n",
        "    return \"Estonia\"\n",
        "  if a.startswith(\"IE\"):\n",
        "    return \"Ireland\"\n",
        "  if a.startswith(\"EL\"):\n",
        "    return \"Greece\"\n",
        "  if a.startswith(\"FR\"):\n",
        "    return \"France\"\n",
        "  if a.startswith(\"ES\"):\n",
        "    return \"Spain\"\n",
        "  if a.startswith(\"HR\"):\n",
        "    return \"Croatia\"\n",
        "  if a.startswith(\"IT\"):\n",
        "    return \"Italy\"\n",
        "  if a.startswith(\"LV\"):\n",
        "    return \"Latvia\"\n",
        "  if a.startswith(\"LT\"):\n",
        "    return \"Lithuania\"\n",
        "  if a.startswith(\"HU\"):\n",
        "    return \"Hungary\"\n",
        "  if a.startswith(\"NL\"):\n",
        "    return \"Netherlands\"\n",
        "  if a.startswith(\"AT\"):\n",
        "    return \"Austria\"\n",
        "  if a.startswith(\"PL\"):\n",
        "    return \"Poland\"\n",
        "  if a.startswith(\"PT\"):\n",
        "    return \"Portugal\"\n",
        "  if a.startswith(\"RO\"):\n",
        "    return \"Romania\"\n",
        "  if a.startswith(\"SI\"):\n",
        "    return \"Slovenia\"\n",
        "  if a.startswith(\"SK\"):\n",
        "    return \"Slovakia\"\n",
        "  if a.startswith(\"FI\"):\n",
        "    return \"Finland\"\n",
        "  if a.startswith(\"SE\"):\n",
        "    return \"Sweden\"\n",
        "  if a.startswith(\"UK\"):\n",
        "    return \"United Kingdom\"\n",
        "  if a.startswith(\"TR\"):\n",
        "    return \"Turkey\"\n",
        "  else:\n",
        "    return \"Others\""
      ],
      "execution_count": null,
      "outputs": []
    },
    {
      "cell_type": "code",
      "metadata": {
        "id": "bDVYFESxfMcj"
      },
      "source": [
        "new_heating['NUTS_CODE'] = new_heating['NUTS_CODE'].apply(nuts)"
      ],
      "execution_count": null,
      "outputs": []
    },
    {
      "cell_type": "code",
      "metadata": {
        "id": "nV0nDp8JhcQ6"
      },
      "source": [
        "new_heating = new_heating[new_heating['NUTS_CODE']!= 'Others']"
      ],
      "execution_count": null,
      "outputs": []
    },
    {
      "cell_type": "code",
      "metadata": {
        "id": "7iAH7kWLkF_J"
      },
      "source": [
        "new_heating['DAY'] = np.ones(len(new_heating))"
      ],
      "execution_count": null,
      "outputs": []
    },
    {
      "cell_type": "code",
      "metadata": {
        "id": "9pp36ncZfd2u"
      },
      "source": [
        "new_heating['month'] = pd.to_datetime(new_heating[[\"YEAR\", \"MONTH\", \"DAY\"]]).dt.to_period(\"M\")"
      ],
      "execution_count": null,
      "outputs": []
    },
    {
      "cell_type": "code",
      "metadata": {
        "id": "06AJMjyckeJp"
      },
      "source": [
        "new_heating = new_heating[['NUTS_CODE', 'HDD', 'month']]"
      ],
      "execution_count": null,
      "outputs": []
    },
    {
      "cell_type": "code",
      "metadata": {
        "id": "sMiB1sQigTMu"
      },
      "source": [
        "new_heating = new_heating.groupby(\"month\").sum()"
      ],
      "execution_count": null,
      "outputs": []
    },
    {
      "cell_type": "code",
      "metadata": {
        "colab": {
          "base_uri": "https://localhost:8080/",
          "height": 454
        },
        "id": "OtZeMFJaqexb",
        "outputId": "ff2516f1-8c62-46e7-8730-a3b7b023257c"
      },
      "source": [
        "new_heating"
      ],
      "execution_count": null,
      "outputs": [
        {
          "output_type": "execute_result",
          "data": {
            "text/html": [
              "<div>\n",
              "<style scoped>\n",
              "    .dataframe tbody tr th:only-of-type {\n",
              "        vertical-align: middle;\n",
              "    }\n",
              "\n",
              "    .dataframe tbody tr th {\n",
              "        vertical-align: top;\n",
              "    }\n",
              "\n",
              "    .dataframe thead th {\n",
              "        text-align: right;\n",
              "    }\n",
              "</style>\n",
              "<table border=\"1\" class=\"dataframe\">\n",
              "  <thead>\n",
              "    <tr style=\"text-align: right;\">\n",
              "      <th></th>\n",
              "      <th>HDD</th>\n",
              "    </tr>\n",
              "    <tr>\n",
              "      <th>month</th>\n",
              "      <th></th>\n",
              "    </tr>\n",
              "  </thead>\n",
              "  <tbody>\n",
              "    <tr>\n",
              "      <th>2014-01</th>\n",
              "      <td>738711.31</td>\n",
              "    </tr>\n",
              "    <tr>\n",
              "      <th>2014-02</th>\n",
              "      <td>587986.16</td>\n",
              "    </tr>\n",
              "    <tr>\n",
              "      <th>2014-03</th>\n",
              "      <td>515924.23</td>\n",
              "    </tr>\n",
              "    <tr>\n",
              "      <th>2014-04</th>\n",
              "      <td>324909.11</td>\n",
              "    </tr>\n",
              "    <tr>\n",
              "      <th>2014-05</th>\n",
              "      <td>228717.86</td>\n",
              "    </tr>\n",
              "    <tr>\n",
              "      <th>...</th>\n",
              "      <td>...</td>\n",
              "    </tr>\n",
              "    <tr>\n",
              "      <th>2020-08</th>\n",
              "      <td>21848.55</td>\n",
              "    </tr>\n",
              "    <tr>\n",
              "      <th>2020-09</th>\n",
              "      <td>107619.75</td>\n",
              "    </tr>\n",
              "    <tr>\n",
              "      <th>2020-10</th>\n",
              "      <td>324946.57</td>\n",
              "    </tr>\n",
              "    <tr>\n",
              "      <th>2020-11</th>\n",
              "      <td>502258.24</td>\n",
              "    </tr>\n",
              "    <tr>\n",
              "      <th>2020-12</th>\n",
              "      <td>697384.96</td>\n",
              "    </tr>\n",
              "  </tbody>\n",
              "</table>\n",
              "<p>84 rows × 1 columns</p>\n",
              "</div>"
            ],
            "text/plain": [
              "               HDD\n",
              "month             \n",
              "2014-01  738711.31\n",
              "2014-02  587986.16\n",
              "2014-03  515924.23\n",
              "2014-04  324909.11\n",
              "2014-05  228717.86\n",
              "...            ...\n",
              "2020-08   21848.55\n",
              "2020-09  107619.75\n",
              "2020-10  324946.57\n",
              "2020-11  502258.24\n",
              "2020-12  697384.96\n",
              "\n",
              "[84 rows x 1 columns]"
            ]
          },
          "metadata": {
            "tags": []
          },
          "execution_count": 99
        }
      ]
    },
    {
      "cell_type": "code",
      "metadata": {
        "id": "dvtog68-qe3u"
      },
      "source": [
        ""
      ],
      "execution_count": null,
      "outputs": []
    },
    {
      "cell_type": "code",
      "metadata": {
        "id": "0hweTFYjg7OV"
      },
      "source": [
        "new_heating.to_csv(\"new_heating.csv\")"
      ],
      "execution_count": null,
      "outputs": []
    },
    {
      "cell_type": "code",
      "metadata": {
        "colab": {
          "base_uri": "https://localhost:8080/",
          "height": 17
        },
        "id": "GhSMlImGlQ67",
        "outputId": "4dc27887-67ca-4fbf-b540-d3942d2f915b"
      },
      "source": [
        "files.download('new_heating.csv')"
      ],
      "execution_count": null,
      "outputs": [
        {
          "output_type": "display_data",
          "data": {
            "application/javascript": [
              "\n",
              "    async function download(id, filename, size) {\n",
              "      if (!google.colab.kernel.accessAllowed) {\n",
              "        return;\n",
              "      }\n",
              "      const div = document.createElement('div');\n",
              "      const label = document.createElement('label');\n",
              "      label.textContent = `Downloading \"${filename}\": `;\n",
              "      div.appendChild(label);\n",
              "      const progress = document.createElement('progress');\n",
              "      progress.max = size;\n",
              "      div.appendChild(progress);\n",
              "      document.body.appendChild(div);\n",
              "\n",
              "      const buffers = [];\n",
              "      let downloaded = 0;\n",
              "\n",
              "      const channel = await google.colab.kernel.comms.open(id);\n",
              "      // Send a message to notify the kernel that we're ready.\n",
              "      channel.send({})\n",
              "\n",
              "      for await (const message of channel.messages) {\n",
              "        // Send a message to notify the kernel that we're ready.\n",
              "        channel.send({})\n",
              "        if (message.buffers) {\n",
              "          for (const buffer of message.buffers) {\n",
              "            buffers.push(buffer);\n",
              "            downloaded += buffer.byteLength;\n",
              "            progress.value = downloaded;\n",
              "          }\n",
              "        }\n",
              "      }\n",
              "      const blob = new Blob(buffers, {type: 'application/binary'});\n",
              "      const a = document.createElement('a');\n",
              "      a.href = window.URL.createObjectURL(blob);\n",
              "      a.download = filename;\n",
              "      div.appendChild(a);\n",
              "      a.click();\n",
              "      div.remove();\n",
              "    }\n",
              "  "
            ],
            "text/plain": [
              "<IPython.core.display.Javascript object>"
            ]
          },
          "metadata": {
            "tags": []
          }
        },
        {
          "output_type": "display_data",
          "data": {
            "application/javascript": [
              "download(\"download_84a0f350-97a6-4cfb-ac25-3cf4ae34cac5\", \"new_heating.csv\", 2207)"
            ],
            "text/plain": [
              "<IPython.core.display.Javascript object>"
            ]
          },
          "metadata": {
            "tags": []
          }
        }
      ]
    },
    {
      "cell_type": "code",
      "metadata": {
        "id": "cyvAde1Yk3qg"
      },
      "source": [
        ""
      ],
      "execution_count": null,
      "outputs": []
    }
  ]
}