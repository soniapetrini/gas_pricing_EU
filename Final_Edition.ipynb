{
 "cells": [
  {
   "cell_type": "markdown",
   "metadata": {
    "colab_type": "text",
    "id": "view-in-github"
   },
   "source": [
    "<a href=\"https://colab.research.google.com/github/soniapetrini/macro_project/blob/main/Final_Edition.ipynb\" target=\"_parent\"><img src=\"https://colab.research.google.com/assets/colab-badge.svg\" alt=\"Open In Colab\"/></a>"
   ]
  },
  {
   "cell_type": "markdown",
   "metadata": {},
   "source": [
    "# Natural Gas Pricing Mechanism in Europe"
   ]
  },
  {
   "cell_type": "markdown",
   "metadata": {
    "id": "9mVlSHMRumC6"
   },
   "source": [
    "## **Data Loading**"
   ]
  },
  {
   "cell_type": "code",
   "execution_count": 3,
   "metadata": {
    "id": "bScbNPKAPqqa"
   },
   "outputs": [],
   "source": [
    "import numpy as np\n",
    "import pandas as pd\n",
    "from google.colab import files\n",
    "import matplotlib\n",
    "import matplotlib.pyplot as plt\n",
    "%matplotlib inline\n",
    "import seaborn as sns"
   ]
  },
  {
   "cell_type": "code",
   "execution_count": 2,
   "metadata": {
    "colab": {
     "base_uri": "https://localhost:8080/"
    },
    "id": "3eMgNHGMQZVb",
    "outputId": "1b6fb0a7-d024-4473-f768-74fab0c86796"
   },
   "outputs": [
    {
     "name": "stdout",
     "output_type": "stream",
     "text": [
      "Drive already mounted at /content/drive; to attempt to forcibly remount, call drive.mount(\"/content/drive\", force_remount=True).\n",
      "fatal: destination path 'test' already exists and is not an empty directory.\n",
      "/content/test\n"
     ]
    }
   ],
   "source": [
    "from google.colab import drive\n",
    "drive.mount('/content/drive')\n",
    "!git clone https://github.com/Serafina-Z/test.git\n",
    "path = '/content/'\n",
    "%cd test"
   ]
  },
  {
   "cell_type": "code",
   "execution_count": 102,
   "metadata": {
    "colab": {
     "base_uri": "https://localhost:8080/"
    },
    "id": "gbcAzHrXdzhq",
    "outputId": "ec61a049-130e-4c27-ff57-cc4efa54470f"
   },
   "outputs": [
    {
     "name": "stdout",
     "output_type": "stream",
     "text": [
      "remote: Enumerating objects: 4, done.\u001b[K\n",
      "remote: Counting objects:  25% (1/4)\u001b[K\r",
      "remote: Counting objects:  50% (2/4)\u001b[K\r",
      "remote: Counting objects:  75% (3/4)\u001b[K\r",
      "remote: Counting objects: 100% (4/4)\u001b[K\r",
      "remote: Counting objects: 100% (4/4), done.\u001b[K\n",
      "remote: Compressing objects:  33% (1/3)\u001b[K\r",
      "remote: Compressing objects:  66% (2/3)\u001b[K\r",
      "remote: Compressing objects: 100% (3/3)\u001b[K\r",
      "remote: Compressing objects: 100% (3/3), done.\u001b[K\n",
      "Unpacking objects:  33% (1/3)   \r",
      "Unpacking objects:  66% (2/3)   \r",
      "remote: Total 3 (delta 1), reused 0 (delta 0), pack-reused 0\u001b[K\n",
      "Unpacking objects: 100% (3/3)   \r",
      "Unpacking objects: 100% (3/3), done.\n",
      "From https://github.com/Serafina-Z/test\n",
      "   f4dffb3..67498df  main       -> origin/main\n",
      "Updating f4dffb3..67498df\n",
      "Fast-forward\n",
      " eurusd.csv | 1804 \u001b[32m++++++++++++++++++++++++++++++++++++++++++++++++++++++++++++\u001b[m\n",
      " 1 file changed, 1804 insertions(+)\n",
      " create mode 100644 eurusd.csv\n"
     ]
    }
   ],
   "source": [
    " #!git pull"
   ]
  },
  {
   "cell_type": "markdown",
   "metadata": {
    "id": "PzQcvIPSPfom"
   },
   "source": [
    "# **Price Data**"
   ]
  },
  {
   "cell_type": "code",
   "execution_count": 4,
   "metadata": {
    "id": "L1l_MSoBerlt"
   },
   "outputs": [],
   "source": [
    "brent = pd.read_csv(\"/content/test/brent_oil_all.csv\")"
   ]
  },
  {
   "cell_type": "code",
   "execution_count": 5,
   "metadata": {
    "id": "T5ycLPA0eyBY"
   },
   "outputs": [],
   "source": [
    "brent['month']= pd.to_datetime(brent['Date']).dt.to_period(\"M\")"
   ]
  },
  {
   "cell_type": "code",
   "execution_count": 6,
   "metadata": {
    "id": "gL4JYoxffPz6"
   },
   "outputs": [],
   "source": [
    "brent = brent.groupby('month').mean()"
   ]
  },
  {
   "cell_type": "code",
   "execution_count": 7,
   "metadata": {
    "colab": {
     "base_uri": "https://localhost:8080/",
     "height": 450
    },
    "id": "TvicbaEDgNHx",
    "outputId": "7cd2edda-9019-428b-de61-56b155ea2093"
   },
   "outputs": [
    {
     "data": {
      "text/html": [
       "<div>\n",
       "<style scoped>\n",
       "    .dataframe tbody tr th:only-of-type {\n",
       "        vertical-align: middle;\n",
       "    }\n",
       "\n",
       "    .dataframe tbody tr th {\n",
       "        vertical-align: top;\n",
       "    }\n",
       "\n",
       "    .dataframe thead th {\n",
       "        text-align: right;\n",
       "    }\n",
       "</style>\n",
       "<table border=\"1\" class=\"dataframe\">\n",
       "  <thead>\n",
       "    <tr style=\"text-align: right;\">\n",
       "      <th></th>\n",
       "      <th>Open</th>\n",
       "      <th>High</th>\n",
       "      <th>Low</th>\n",
       "      <th>Close</th>\n",
       "      <th>Volume</th>\n",
       "      <th>Dividends</th>\n",
       "      <th>Stock Splits</th>\n",
       "    </tr>\n",
       "    <tr>\n",
       "      <th>month</th>\n",
       "      <th></th>\n",
       "      <th></th>\n",
       "      <th></th>\n",
       "      <th></th>\n",
       "      <th></th>\n",
       "      <th></th>\n",
       "      <th></th>\n",
       "    </tr>\n",
       "  </thead>\n",
       "  <tbody>\n",
       "    <tr>\n",
       "      <th>2007-07</th>\n",
       "      <td>75.775000</td>\n",
       "      <td>76.850000</td>\n",
       "      <td>75.555000</td>\n",
       "      <td>76.395000</td>\n",
       "      <td>3044.000000</td>\n",
       "      <td>0.0</td>\n",
       "      <td>0.0</td>\n",
       "    </tr>\n",
       "    <tr>\n",
       "      <th>2007-08</th>\n",
       "      <td>71.391304</td>\n",
       "      <td>72.037826</td>\n",
       "      <td>70.489130</td>\n",
       "      <td>71.258696</td>\n",
       "      <td>4436.173913</td>\n",
       "      <td>0.0</td>\n",
       "      <td>0.0</td>\n",
       "    </tr>\n",
       "    <tr>\n",
       "      <th>2007-09</th>\n",
       "      <td>76.680526</td>\n",
       "      <td>77.599474</td>\n",
       "      <td>76.128947</td>\n",
       "      <td>77.135263</td>\n",
       "      <td>3265.368421</td>\n",
       "      <td>0.0</td>\n",
       "      <td>0.0</td>\n",
       "    </tr>\n",
       "    <tr>\n",
       "      <th>2007-10</th>\n",
       "      <td>81.946522</td>\n",
       "      <td>82.999130</td>\n",
       "      <td>81.205652</td>\n",
       "      <td>82.456957</td>\n",
       "      <td>3216.260870</td>\n",
       "      <td>0.0</td>\n",
       "      <td>0.0</td>\n",
       "    </tr>\n",
       "    <tr>\n",
       "      <th>2007-11</th>\n",
       "      <td>92.202500</td>\n",
       "      <td>93.004000</td>\n",
       "      <td>90.880500</td>\n",
       "      <td>91.876000</td>\n",
       "      <td>2011.700000</td>\n",
       "      <td>0.0</td>\n",
       "      <td>0.0</td>\n",
       "    </tr>\n",
       "    <tr>\n",
       "      <th>...</th>\n",
       "      <td>...</td>\n",
       "      <td>...</td>\n",
       "      <td>...</td>\n",
       "      <td>...</td>\n",
       "      <td>...</td>\n",
       "      <td>...</td>\n",
       "      <td>...</td>\n",
       "    </tr>\n",
       "    <tr>\n",
       "      <th>2020-11</th>\n",
       "      <td>43.002105</td>\n",
       "      <td>44.049474</td>\n",
       "      <td>42.529474</td>\n",
       "      <td>43.478421</td>\n",
       "      <td>33261.000000</td>\n",
       "      <td>0.0</td>\n",
       "      <td>0.0</td>\n",
       "    </tr>\n",
       "    <tr>\n",
       "      <th>2020-12</th>\n",
       "      <td>49.883500</td>\n",
       "      <td>50.609500</td>\n",
       "      <td>49.309500</td>\n",
       "      <td>50.095000</td>\n",
       "      <td>25824.400000</td>\n",
       "      <td>0.0</td>\n",
       "      <td>0.0</td>\n",
       "    </tr>\n",
       "    <tr>\n",
       "      <th>2021-01</th>\n",
       "      <td>55.077895</td>\n",
       "      <td>55.982632</td>\n",
       "      <td>54.490526</td>\n",
       "      <td>55.351579</td>\n",
       "      <td>30851.842105</td>\n",
       "      <td>0.0</td>\n",
       "      <td>0.0</td>\n",
       "    </tr>\n",
       "    <tr>\n",
       "      <th>2021-02</th>\n",
       "      <td>61.775789</td>\n",
       "      <td>62.756316</td>\n",
       "      <td>61.218947</td>\n",
       "      <td>62.203158</td>\n",
       "      <td>32176.736842</td>\n",
       "      <td>0.0</td>\n",
       "      <td>0.0</td>\n",
       "    </tr>\n",
       "    <tr>\n",
       "      <th>2021-03</th>\n",
       "      <td>65.858571</td>\n",
       "      <td>67.554286</td>\n",
       "      <td>65.094286</td>\n",
       "      <td>66.341429</td>\n",
       "      <td>40982.714286</td>\n",
       "      <td>0.0</td>\n",
       "      <td>0.0</td>\n",
       "    </tr>\n",
       "  </tbody>\n",
       "</table>\n",
       "<p>165 rows × 7 columns</p>\n",
       "</div>"
      ],
      "text/plain": [
       "              Open       High        Low  ...        Volume  Dividends  Stock Splits\n",
       "month                                     ...                                       \n",
       "2007-07  75.775000  76.850000  75.555000  ...   3044.000000        0.0           0.0\n",
       "2007-08  71.391304  72.037826  70.489130  ...   4436.173913        0.0           0.0\n",
       "2007-09  76.680526  77.599474  76.128947  ...   3265.368421        0.0           0.0\n",
       "2007-10  81.946522  82.999130  81.205652  ...   3216.260870        0.0           0.0\n",
       "2007-11  92.202500  93.004000  90.880500  ...   2011.700000        0.0           0.0\n",
       "...            ...        ...        ...  ...           ...        ...           ...\n",
       "2020-11  43.002105  44.049474  42.529474  ...  33261.000000        0.0           0.0\n",
       "2020-12  49.883500  50.609500  49.309500  ...  25824.400000        0.0           0.0\n",
       "2021-01  55.077895  55.982632  54.490526  ...  30851.842105        0.0           0.0\n",
       "2021-02  61.775789  62.756316  61.218947  ...  32176.736842        0.0           0.0\n",
       "2021-03  65.858571  67.554286  65.094286  ...  40982.714286        0.0           0.0\n",
       "\n",
       "[165 rows x 7 columns]"
      ]
     },
     "execution_count": 7,
     "metadata": {
      "tags": []
     },
     "output_type": "execute_result"
    }
   ],
   "source": [
    "brent"
   ]
  },
  {
   "cell_type": "code",
   "execution_count": 8,
   "metadata": {
    "id": "aFd8nqoVfETt"
   },
   "outputs": [],
   "source": [
    "ttf = pd.read_csv('/content/test/TTF_Quandl.csv')"
   ]
  },
  {
   "cell_type": "code",
   "execution_count": 9,
   "metadata": {
    "id": "nAmE78x4fKsu"
   },
   "outputs": [],
   "source": [
    "ttf['month'] = pd.to_datetime(ttf['Date']).dt.to_period(\"M\")"
   ]
  },
  {
   "cell_type": "code",
   "execution_count": 10,
   "metadata": {
    "id": "rbe0BYfUfgG4"
   },
   "outputs": [],
   "source": [
    "ttf = ttf.groupby(\"month\").mean()"
   ]
  },
  {
   "cell_type": "code",
   "execution_count": 11,
   "metadata": {
    "id": "t7XlUkCsgKOG"
   },
   "outputs": [],
   "source": [
    "import_price = pd.read_csv(\"/content/test/import_price_month.csv\")"
   ]
  },
  {
   "cell_type": "code",
   "execution_count": 12,
   "metadata": {
    "id": "kO1ytIgWhFjd"
   },
   "outputs": [],
   "source": [
    "import_price['month'] = pd.to_datetime(import_price['month']).dt.to_period(\"M\")"
   ]
  },
  {
   "cell_type": "code",
   "execution_count": 13,
   "metadata": {
    "id": "rdvQSZppiPSw"
   },
   "outputs": [],
   "source": [
    "import_price.index = import_price['month']"
   ]
  },
  {
   "cell_type": "code",
   "execution_count": 14,
   "metadata": {
    "id": "h1GizLEsi1lq"
   },
   "outputs": [],
   "source": [
    "coal = pd.read_csv('coal.csv')"
   ]
  },
  {
   "cell_type": "code",
   "execution_count": 15,
   "metadata": {
    "id": "GUf1fVmOjKNT"
   },
   "outputs": [],
   "source": [
    "coal['month'] = pd.to_datetime(coal['Date']).dt.to_period(\"M\")"
   ]
  },
  {
   "cell_type": "code",
   "execution_count": 16,
   "metadata": {
    "id": "6VcdPvIFjaxO"
   },
   "outputs": [],
   "source": [
    "coal.index = coal['month']"
   ]
  },
  {
   "cell_type": "code",
   "execution_count": 103,
   "metadata": {
    "id": "qjK2SIh2TvVo"
   },
   "outputs": [],
   "source": [
    "exchange = pd.read_csv(\"/content/test/eurusd.csv\")"
   ]
  },
  {
   "cell_type": "code",
   "execution_count": 106,
   "metadata": {
    "id": "-UmCP8B2TvVp"
   },
   "outputs": [],
   "source": [
    "exchange['month']= pd.to_datetime(exchange['Date']).dt.to_period(\"M\")"
   ]
  },
  {
   "cell_type": "code",
   "execution_count": 107,
   "metadata": {
    "id": "oRvU_Oe1TvVp"
   },
   "outputs": [],
   "source": [
    "exchange = exchange.groupby('month').mean()"
   ]
  },
  {
   "cell_type": "code",
   "execution_count": 108,
   "metadata": {
    "colab": {
     "base_uri": "https://localhost:8080/",
     "height": 450
    },
    "id": "qgHPBXioTvVq",
    "outputId": "b315737b-fbed-4b73-ba38-f9941cc2f2e2"
   },
   "outputs": [
    {
     "data": {
      "text/html": [
       "<div>\n",
       "<style scoped>\n",
       "    .dataframe tbody tr th:only-of-type {\n",
       "        vertical-align: middle;\n",
       "    }\n",
       "\n",
       "    .dataframe tbody tr th {\n",
       "        vertical-align: top;\n",
       "    }\n",
       "\n",
       "    .dataframe thead th {\n",
       "        text-align: right;\n",
       "    }\n",
       "</style>\n",
       "<table border=\"1\" class=\"dataframe\">\n",
       "  <thead>\n",
       "    <tr style=\"text-align: right;\">\n",
       "      <th></th>\n",
       "      <th>eurusd_close</th>\n",
       "    </tr>\n",
       "    <tr>\n",
       "      <th>month</th>\n",
       "      <th></th>\n",
       "    </tr>\n",
       "  </thead>\n",
       "  <tbody>\n",
       "    <tr>\n",
       "      <th>2014-02</th>\n",
       "      <td>1.365286</td>\n",
       "    </tr>\n",
       "    <tr>\n",
       "      <th>2014-03</th>\n",
       "      <td>1.382566</td>\n",
       "    </tr>\n",
       "    <tr>\n",
       "      <th>2014-04</th>\n",
       "      <td>1.380623</td>\n",
       "    </tr>\n",
       "    <tr>\n",
       "      <th>2014-05</th>\n",
       "      <td>1.374598</td>\n",
       "    </tr>\n",
       "    <tr>\n",
       "      <th>2014-06</th>\n",
       "      <td>1.359689</td>\n",
       "    </tr>\n",
       "    <tr>\n",
       "      <th>...</th>\n",
       "      <td>...</td>\n",
       "    </tr>\n",
       "    <tr>\n",
       "      <th>2020-10</th>\n",
       "      <td>1.176977</td>\n",
       "    </tr>\n",
       "    <tr>\n",
       "      <th>2020-11</th>\n",
       "      <td>1.182952</td>\n",
       "    </tr>\n",
       "    <tr>\n",
       "      <th>2020-12</th>\n",
       "      <td>1.216249</td>\n",
       "    </tr>\n",
       "    <tr>\n",
       "      <th>2021-01</th>\n",
       "      <td>1.217785</td>\n",
       "    </tr>\n",
       "    <tr>\n",
       "      <th>2021-02</th>\n",
       "      <td>1.212386</td>\n",
       "    </tr>\n",
       "  </tbody>\n",
       "</table>\n",
       "<p>85 rows × 1 columns</p>\n",
       "</div>"
      ],
      "text/plain": [
       "         eurusd_close\n",
       "month                \n",
       "2014-02      1.365286\n",
       "2014-03      1.382566\n",
       "2014-04      1.380623\n",
       "2014-05      1.374598\n",
       "2014-06      1.359689\n",
       "...               ...\n",
       "2020-10      1.176977\n",
       "2020-11      1.182952\n",
       "2020-12      1.216249\n",
       "2021-01      1.217785\n",
       "2021-02      1.212386\n",
       "\n",
       "[85 rows x 1 columns]"
      ]
     },
     "execution_count": 108,
     "metadata": {
      "tags": []
     },
     "output_type": "execute_result"
    }
   ],
   "source": [
    "exchange"
   ]
  },
  {
   "cell_type": "code",
   "execution_count": null,
   "metadata": {
    "id": "lYKw48XcRlup"
   },
   "outputs": [],
   "source": [
    "data_p = pd.concat([ttf['Settle'], brent['Close'], import_price['import_price_gas'],coal['coal'],exchange['eurusd_close']], axis =1)\n",
    "data_p.columns = ['ttf', 'brent', 'import_price_gas', 'coal_price', 'exchange_rate']"
   ]
  },
  {
   "cell_type": "code",
   "execution_count": null,
   "metadata": {
    "colab": {
     "base_uri": "https://localhost:8080/",
     "height": 450
    },
    "id": "dNUg74mDRu7R",
    "outputId": "6f809e1b-b91e-42a5-82da-3fb94454e1af"
   },
   "outputs": [
    {
     "data": {
      "text/html": [
       "<div>\n",
       "<style scoped>\n",
       "    .dataframe tbody tr th:only-of-type {\n",
       "        vertical-align: middle;\n",
       "    }\n",
       "\n",
       "    .dataframe tbody tr th {\n",
       "        vertical-align: top;\n",
       "    }\n",
       "\n",
       "    .dataframe thead th {\n",
       "        text-align: right;\n",
       "    }\n",
       "</style>\n",
       "<table border=\"1\" class=\"dataframe\">\n",
       "  <thead>\n",
       "    <tr style=\"text-align: right;\">\n",
       "      <th></th>\n",
       "      <th>ttf</th>\n",
       "      <th>brent</th>\n",
       "      <th>import_price_gas</th>\n",
       "      <th>coal_price</th>\n",
       "    </tr>\n",
       "    <tr>\n",
       "      <th>month</th>\n",
       "      <th></th>\n",
       "      <th></th>\n",
       "      <th></th>\n",
       "      <th></th>\n",
       "    </tr>\n",
       "  </thead>\n",
       "  <tbody>\n",
       "    <tr>\n",
       "      <th>1960-01</th>\n",
       "      <td>NaN</td>\n",
       "      <td>NaN</td>\n",
       "      <td>0.4048</td>\n",
       "      <td>NaN</td>\n",
       "    </tr>\n",
       "    <tr>\n",
       "      <th>1960-02</th>\n",
       "      <td>NaN</td>\n",
       "      <td>NaN</td>\n",
       "      <td>0.4048</td>\n",
       "      <td>NaN</td>\n",
       "    </tr>\n",
       "    <tr>\n",
       "      <th>1960-03</th>\n",
       "      <td>NaN</td>\n",
       "      <td>NaN</td>\n",
       "      <td>0.4048</td>\n",
       "      <td>NaN</td>\n",
       "    </tr>\n",
       "    <tr>\n",
       "      <th>1960-04</th>\n",
       "      <td>NaN</td>\n",
       "      <td>NaN</td>\n",
       "      <td>0.4048</td>\n",
       "      <td>NaN</td>\n",
       "    </tr>\n",
       "    <tr>\n",
       "      <th>1960-05</th>\n",
       "      <td>NaN</td>\n",
       "      <td>NaN</td>\n",
       "      <td>0.4048</td>\n",
       "      <td>NaN</td>\n",
       "    </tr>\n",
       "    <tr>\n",
       "      <th>...</th>\n",
       "      <td>...</td>\n",
       "      <td>...</td>\n",
       "      <td>...</td>\n",
       "      <td>...</td>\n",
       "    </tr>\n",
       "    <tr>\n",
       "      <th>2021-01</th>\n",
       "      <td>20.34480</td>\n",
       "      <td>55.351579</td>\n",
       "      <td>7.2683</td>\n",
       "      <td>68.392105</td>\n",
       "    </tr>\n",
       "    <tr>\n",
       "      <th>2021-02</th>\n",
       "      <td>17.36515</td>\n",
       "      <td>62.203158</td>\n",
       "      <td>6.1585</td>\n",
       "      <td>65.239474</td>\n",
       "    </tr>\n",
       "    <tr>\n",
       "      <th>2021-03</th>\n",
       "      <td>15.82600</td>\n",
       "      <td>66.341429</td>\n",
       "      <td>6.1271</td>\n",
       "      <td>NaN</td>\n",
       "    </tr>\n",
       "    <tr>\n",
       "      <th>2021-04</th>\n",
       "      <td>NaN</td>\n",
       "      <td>NaN</td>\n",
       "      <td>7.1468</td>\n",
       "      <td>NaN</td>\n",
       "    </tr>\n",
       "    <tr>\n",
       "      <th>2021-05</th>\n",
       "      <td>NaN</td>\n",
       "      <td>NaN</td>\n",
       "      <td>8.9088</td>\n",
       "      <td>NaN</td>\n",
       "    </tr>\n",
       "  </tbody>\n",
       "</table>\n",
       "<p>737 rows × 4 columns</p>\n",
       "</div>"
      ],
      "text/plain": [
       "              ttf      brent  import_price_gas  coal_price\n",
       "month                                                     \n",
       "1960-01       NaN        NaN            0.4048         NaN\n",
       "1960-02       NaN        NaN            0.4048         NaN\n",
       "1960-03       NaN        NaN            0.4048         NaN\n",
       "1960-04       NaN        NaN            0.4048         NaN\n",
       "1960-05       NaN        NaN            0.4048         NaN\n",
       "...           ...        ...               ...         ...\n",
       "2021-01  20.34480  55.351579            7.2683   68.392105\n",
       "2021-02  17.36515  62.203158            6.1585   65.239474\n",
       "2021-03  15.82600  66.341429            6.1271         NaN\n",
       "2021-04       NaN        NaN            7.1468         NaN\n",
       "2021-05       NaN        NaN            8.9088         NaN\n",
       "\n",
       "[737 rows x 4 columns]"
      ]
     },
     "execution_count": 18,
     "metadata": {
      "tags": []
     },
     "output_type": "execute_result"
    }
   ],
   "source": [
    "data_p"
   ]
  },
  {
   "cell_type": "markdown",
   "metadata": {
    "id": "Es819AD3RXRF"
   },
   "source": [
    "# **Seasonal Data**"
   ]
  },
  {
   "cell_type": "code",
   "execution_count": 19,
   "metadata": {
    "id": "TNyJerwHAk0k"
   },
   "outputs": [],
   "source": [
    "def country_name(a):\n",
    "  if a == \"BE\":\n",
    "    return \"Belgium\"\n",
    "  if a == \"BG\":\n",
    "    return \"Bulgaria\"\n",
    "  if a == \"CZ\":\n",
    "    return \"Czechia\"\n",
    "  if a == \"DK\":\n",
    "    return \"Denmark\"\n",
    "  if a == \"DE\":\n",
    "    return \"Germany\"\n",
    "  if a == \"EE\":\n",
    "    return \"Estonia\"\n",
    "  if a == \"IE\":\n",
    "    return \"Ireland\"\n",
    "  if a == \"EL\":\n",
    "    return \"Greece\"\n",
    "  if a == \"FR\":\n",
    "    return \"France\"\n",
    "  if a == \"ES\":\n",
    "    return \"Spain\"\n",
    "  if a == \"HR\":\n",
    "    return \"Croatia\"\n",
    "  if a == \"IT\":\n",
    "    return \"Italy\"\n",
    "  if a == \"LV\":\n",
    "    return \"Latvia\"\n",
    "  if a == \"LT\":\n",
    "    return \"Lithuania\"\n",
    "  if a == \"HU\":\n",
    "    return \"Hungary\"\n",
    "  if a == \"NL\":\n",
    "    return \"Netherlands\"\n",
    "  if a == \"AT\":\n",
    "    return \"Austria\"\n",
    "  if a == \"PL\":\n",
    "    return \"Poland\"\n",
    "  if a == \"PT\":\n",
    "    return \"Portugal\"\n",
    "  if a == \"RO\":\n",
    "    return \"Romania\"\n",
    "  if a == \"SI\":\n",
    "    return \"Slovenia\"\n",
    "  if a == \"SK\":\n",
    "    return \"Slovakia\"\n",
    "  if a == \"FI\":\n",
    "    return \"Finland\"\n",
    "  if a == \"SE\":\n",
    "    return \"Sweden\"\n",
    "  if a == \"UK\":\n",
    "    return \"United Kingdom\"\n",
    "  if a == \"TR\":\n",
    "    return \"Turkey\"\n",
    "  else:\n",
    "    return \"Others\""
   ]
  },
  {
   "cell_type": "code",
   "execution_count": 128,
   "metadata": {
    "id": "p124M8qhTKiA"
   },
   "outputs": [],
   "source": [
    "def clean_mean(df):\n",
    "  df['geo'] = df['geo'].apply(country_name) # select 26 countries\n",
    "  df['month'] = pd.to_datetime(df['TIME_PERIOD']).dt.to_period(\"M\")\n",
    "  df = df[df['geo']!= 'Others']\n",
    "  df = df.groupby(\"month\").mean()\n",
    "  df['month'] = df.index\n",
    "  return df"
   ]
  },
  {
   "cell_type": "code",
   "execution_count": 129,
   "metadata": {
    "id": "hhk1fzfDWvGT"
   },
   "outputs": [],
   "source": [
    "def clean_sum(df):\n",
    "  df['geo'] = df['geo'].apply(country_name) # select 26 countries\n",
    "  df['month'] = pd.to_datetime(df['TIME_PERIOD']).dt.to_period(\"M\")\n",
    "  df = df[df['geo']!= 'Others']\n",
    "  df = df.groupby(\"month\").sum()\n",
    "  df['month'] = df.index\n",
    "  return df"
   ]
  },
  {
   "cell_type": "markdown",
   "metadata": {
    "id": "oRvkFxSdeGcW"
   },
   "source": [
    "## Heating Data"
   ]
  },
  {
   "cell_type": "code",
   "execution_count": 127,
   "metadata": {
    "id": "Du3g1kMynBbn"
   },
   "outputs": [],
   "source": [
    "from dateutil.parser import parse\n",
    "heating = pd.read_csv(\"/content/test/heating_degree.csv\")"
   ]
  },
  {
   "cell_type": "code",
   "execution_count": 130,
   "metadata": {
    "id": "qCU6eH8xTxyr"
   },
   "outputs": [],
   "source": [
    "heating = clean_mean(heating)"
   ]
  },
  {
   "cell_type": "code",
   "execution_count": 131,
   "metadata": {
    "id": "4FHtpF8rYVvj"
   },
   "outputs": [],
   "source": [
    "heating.to_csv(\"heating.csv\")"
   ]
  },
  {
   "cell_type": "code",
   "execution_count": 132,
   "metadata": {
    "id": "wCzct3QopqbT"
   },
   "outputs": [],
   "source": [
    "from dateutil.parser import parse\n",
    "heating = pd.read_csv('heating.csv', parse_dates=['month'], index_col='month')"
   ]
  },
  {
   "cell_type": "code",
   "execution_count": 133,
   "metadata": {
    "id": "-1cgPuWlnBqC"
   },
   "outputs": [],
   "source": [
    "from statsmodels.tsa.seasonal import seasonal_decompose\n",
    "result_add_heating = seasonal_decompose(heating['OBS_VALUE'], model='additive', extrapolate_trend='freq') # Additive Decomposition\n",
    "des_heating = pd.DataFrame(heating.OBS_VALUE.values - result_add_heating.seasonal)"
   ]
  },
  {
   "cell_type": "code",
   "execution_count": 134,
   "metadata": {
    "colab": {
     "base_uri": "https://localhost:8080/",
     "height": 729
    },
    "id": "0AAOMBhMfrCP",
    "outputId": "b2d2d2ab-4294-40eb-8d59-9985c159d37b"
   },
   "outputs": [
    {
     "data": {
      "image/png": "[encoded data removed]",
      "text/plain": [
       "<Figure size 720x720 with 4 Axes>"
      ]
     },
     "metadata": {
      "needs_background": "light",
      "tags": []
     },
     "output_type": "display_data"
    }
   ],
   "source": [
    "import matplotlib.pyplot as plt\n",
    "plt.rcParams.update({'figure.figsize': (10,10)})\n",
    "result_add_heating.plot().suptitle('Additive Decompose', fontsize=22)\n",
    "plt.show()"
   ]
  },
  {
   "cell_type": "code",
   "execution_count": 135,
   "metadata": {
    "id": "CIwk_T6GZpLp"
   },
   "outputs": [],
   "source": [
    "des_heating = des_heating.reset_index()\n",
    "des_heating['month'] = des_heating['month'].dt.to_period(\"M\")"
   ]
  },
  {
   "cell_type": "code",
   "execution_count": 136,
   "metadata": {
    "id": "4yd4U9eJaYvL"
   },
   "outputs": [],
   "source": [
    "des_heating.columns = ['month', 'des_heating']\n",
    "des_heating.index = des_heating['month']"
   ]
  },
  {
   "cell_type": "code",
   "execution_count": 137,
   "metadata": {
    "id": "xVzjWFnLrkTE"
   },
   "outputs": [],
   "source": [
    "heating.index = des_heating.index"
   ]
  },
  {
   "cell_type": "code",
   "execution_count": 138,
   "metadata": {
    "id": "zxhjSd-krFrw"
   },
   "outputs": [],
   "source": [
    "des_heating['heating'] = heating['OBS_VALUE']"
   ]
  },
  {
   "cell_type": "markdown",
   "metadata": {
    "id": "eoS1UhQdePBw"
   },
   "source": [
    "## Storage Data"
   ]
  },
  {
   "cell_type": "code",
   "execution_count": 141,
   "metadata": {
    "id": "DJYtnYV5eTQx"
   },
   "outputs": [],
   "source": [
    "storage = pd.read_csv(\"storage.csv\")"
   ]
  },
  {
   "cell_type": "code",
   "execution_count": 142,
   "metadata": {
    "id": "z-ystpNjeTVi"
   },
   "outputs": [],
   "source": [
    "storage = clean_sum(storage)"
   ]
  },
  {
   "cell_type": "code",
   "execution_count": 143,
   "metadata": {
    "id": "gnZjAzytfCgp"
   },
   "outputs": [],
   "source": [
    "storage.to_csv(\"for_storage.csv\")\n",
    "storage = pd.read_csv('for_storage.csv', parse_dates=['month'], index_col='month')"
   ]
  },
  {
   "cell_type": "code",
   "execution_count": 144,
   "metadata": {
    "id": "osVrbOeteTcL"
   },
   "outputs": [],
   "source": [
    "result_add_storage = seasonal_decompose(storage['OBS_VALUE'], model='additive', extrapolate_trend='freq') # Additive Decomposition\n",
    "des_storage = pd.DataFrame(storage.OBS_VALUE.values - result_add_storage.seasonal)"
   ]
  },
  {
   "cell_type": "code",
   "execution_count": 145,
   "metadata": {
    "colab": {
     "base_uri": "https://localhost:8080/",
     "height": 729
    },
    "id": "8vlbt_YefyUa",
    "outputId": "dae89c86-d053-41f8-aaca-5a7a6a680ccf"
   },
   "outputs": [
    {
     "data": {
      "image/png": "[encoded data removed]",
      "text/plain": [
       "<Figure size 720x720 with 4 Axes>"
      ]
     },
     "metadata": {
      "needs_background": "light",
      "tags": []
     },
     "output_type": "display_data"
    }
   ],
   "source": [
    "plt.rcParams.update({'figure.figsize': (10,10)})\n",
    "result_add_storage.plot().suptitle('Additive Decompose', fontsize=22)\n",
    "plt.show()"
   ]
  },
  {
   "cell_type": "code",
   "execution_count": 146,
   "metadata": {
    "id": "XhczNsCAeTfo"
   },
   "outputs": [],
   "source": [
    "des_storage = des_storage.reset_index()\n",
    "des_storage['month'] = des_storage['month'].dt.to_period(\"M\")\n",
    "des_storage.columns = ['month', 'des_storage']"
   ]
  },
  {
   "cell_type": "code",
   "execution_count": 147,
   "metadata": {
    "collapsed": true,
    "id": "0aMdvtx8fWy8"
   },
   "outputs": [],
   "source": [
    "des_storage.index = des_storage['month']"
   ]
  },
  {
   "cell_type": "code",
   "execution_count": 148,
   "metadata": {
    "id": "GPW6szWwr2M_"
   },
   "outputs": [],
   "source": [
    "storage.index = des_storage.index"
   ]
  },
  {
   "cell_type": "code",
   "execution_count": 149,
   "metadata": {
    "id": "4OuSHoEMsAl_"
   },
   "outputs": [],
   "source": [
    "des_storage['storage'] = storage['OBS_VALUE']"
   ]
  },
  {
   "cell_type": "markdown",
   "metadata": {
    "id": "bSMWOsKOffd0"
   },
   "source": [
    "## Demand Data"
   ]
  },
  {
   "cell_type": "code",
   "execution_count": 40,
   "metadata": {
    "id": "OFFk0So8gCYL"
   },
   "outputs": [],
   "source": [
    "c = pd.read_csv(\"/content/test/supply, transformation and consumption.csv\")\n",
    "e = pd.read_csv(\"/content/test/export.csv\")\n",
    "i = pd.read_csv(\"/content/test/import.csv\")"
   ]
  },
  {
   "cell_type": "code",
   "execution_count": 41,
   "metadata": {
    "id": "ElBsxncBgCcm"
   },
   "outputs": [],
   "source": [
    "c = clean_sum(c)\n",
    "e = clean_sum(e)\n",
    "i = clean_sum(i)"
   ]
  },
  {
   "cell_type": "code",
   "execution_count": 42,
   "metadata": {
    "id": "UYvl8ttXgCg-"
   },
   "outputs": [],
   "source": [
    "demand = pd.concat([c['OBS_VALUE'], e['OBS_VALUE'], i['OBS_VALUE'], c['month']],axis =1)"
   ]
  },
  {
   "cell_type": "code",
   "execution_count": 43,
   "metadata": {
    "id": "Ew4L9o0IgC91"
   },
   "outputs": [],
   "source": [
    "demand.columns = ['consumption', 'export', 'import', 'month']"
   ]
  },
  {
   "cell_type": "code",
   "execution_count": 44,
   "metadata": {
    "id": "OIdI9fYQgDLX"
   },
   "outputs": [],
   "source": [
    "demand['demand'] = demand['consumption'] + demand['export'] - demand['import']"
   ]
  },
  {
   "cell_type": "code",
   "execution_count": 45,
   "metadata": {
    "id": "b7_n2m6fgDYs"
   },
   "outputs": [],
   "source": [
    "demand.to_csv(\"demand.csv\")\n",
    "demand = pd.read_csv('demand.csv', parse_dates=['month'], index_col='month')"
   ]
  },
  {
   "cell_type": "code",
   "execution_count": 46,
   "metadata": {
    "id": "mt7d1qzBgDdG"
   },
   "outputs": [],
   "source": [
    "result_add_demand = seasonal_decompose(demand['demand'], model='additive', extrapolate_trend='freq') # Additive Decomposition\n",
    "des_demand = pd.DataFrame(demand.demand.values - result_add_demand.seasonal)"
   ]
  },
  {
   "cell_type": "code",
   "execution_count": 47,
   "metadata": {
    "colab": {
     "base_uri": "https://localhost:8080/",
     "height": 729
    },
    "id": "ChwGm5fKh3Jn",
    "outputId": "600c236b-ca81-43a8-b327-4509e4235590"
   },
   "outputs": [
    {
     "data": {
      "image/png": "[encoded data removed]",
      "text/plain": [
       "<Figure size 720x720 with 4 Axes>"
      ]
     },
     "metadata": {
      "needs_background": "light",
      "tags": []
     },
     "output_type": "display_data"
    }
   ],
   "source": [
    "plt.rcParams.update({'figure.figsize': (10,10)})\n",
    "result_add_demand.plot().suptitle('Additive Decompose', fontsize=22)\n",
    "plt.show()"
   ]
  },
  {
   "cell_type": "code",
   "execution_count": 48,
   "metadata": {
    "id": "L25K0UDciFJj"
   },
   "outputs": [],
   "source": [
    "des_demand = des_demand.reset_index()\n",
    "des_demand['month'] = des_demand['month'].dt.to_period(\"M\")\n",
    "des_demand.columns = ['month', 'des_demand']"
   ]
  },
  {
   "cell_type": "code",
   "execution_count": 49,
   "metadata": {
    "id": "9ZD8-uSejxVO"
   },
   "outputs": [],
   "source": [
    "des_demand.index = des_demand['month']"
   ]
  },
  {
   "cell_type": "code",
   "execution_count": 50,
   "metadata": {
    "id": "qbIp8eJUsRph"
   },
   "outputs": [],
   "source": [
    "demand.index = des_demand.index"
   ]
  },
  {
   "cell_type": "code",
   "execution_count": 51,
   "metadata": {
    "id": "SVs4yh5PsWOc"
   },
   "outputs": [],
   "source": [
    "des_demand['demand'] = demand['demand']"
   ]
  },
  {
   "cell_type": "markdown",
   "metadata": {
    "id": "9RIUaJTVlJrj"
   },
   "source": [
    "# **Data Summary**"
   ]
  },
  {
   "cell_type": "code",
   "execution_count": 150,
   "metadata": {
    "id": "_a_wxNuliR3k"
   },
   "outputs": [],
   "source": [
    "data_season = pd.concat([des_heating[['des_heating', 'heating']], des_storage[['des_storage','storage']], des_demand[['des_demand', 'demand']]], axis =1)"
   ]
  },
  {
   "cell_type": "code",
   "execution_count": 151,
   "metadata": {
    "id": "wfpLlqARkGnw"
   },
   "outputs": [],
   "source": [
    "data_season = data_season.dropna()"
   ]
  },
  {
   "cell_type": "code",
   "execution_count": 152,
   "metadata": {
    "id": "UsglAXIaihBt"
   },
   "outputs": [],
   "source": [
    "data_p = data_p.dropna()"
   ]
  },
  {
   "cell_type": "code",
   "execution_count": 153,
   "metadata": {
    "colab": {
     "base_uri": "https://localhost:8080/",
     "height": 450
    },
    "id": "Ds89Q0-ji6Cx",
    "outputId": "286a5649-cc84-40ad-9678-0ff516afd355"
   },
   "outputs": [
    {
     "data": {
      "text/html": [
       "<div>\n",
       "<style scoped>\n",
       "    .dataframe tbody tr th:only-of-type {\n",
       "        vertical-align: middle;\n",
       "    }\n",
       "\n",
       "    .dataframe tbody tr th {\n",
       "        vertical-align: top;\n",
       "    }\n",
       "\n",
       "    .dataframe thead th {\n",
       "        text-align: right;\n",
       "    }\n",
       "</style>\n",
       "<table border=\"1\" class=\"dataframe\">\n",
       "  <thead>\n",
       "    <tr style=\"text-align: right;\">\n",
       "      <th></th>\n",
       "      <th>des_heating</th>\n",
       "      <th>heating</th>\n",
       "      <th>des_storage</th>\n",
       "      <th>storage</th>\n",
       "      <th>des_demand</th>\n",
       "      <th>demand</th>\n",
       "    </tr>\n",
       "    <tr>\n",
       "      <th>month</th>\n",
       "      <th></th>\n",
       "      <th></th>\n",
       "      <th></th>\n",
       "      <th></th>\n",
       "      <th></th>\n",
       "      <th></th>\n",
       "    </tr>\n",
       "  </thead>\n",
       "  <tbody>\n",
       "    <tr>\n",
       "      <th>2014-01</th>\n",
       "      <td>112.136333</td>\n",
       "      <td>251.661667</td>\n",
       "      <td>61448.314207</td>\n",
       "      <td>68691.000</td>\n",
       "      <td>288.334359</td>\n",
       "      <td>1102.747692</td>\n",
       "    </tr>\n",
       "    <tr>\n",
       "      <th>2014-02</th>\n",
       "      <td>89.758708</td>\n",
       "      <td>191.655417</td>\n",
       "      <td>70578.293818</td>\n",
       "      <td>58677.000</td>\n",
       "      <td>352.489012</td>\n",
       "      <td>898.576923</td>\n",
       "    </tr>\n",
       "    <tr>\n",
       "      <th>2014-03</th>\n",
       "      <td>94.716456</td>\n",
       "      <td>165.501250</td>\n",
       "      <td>75730.837814</td>\n",
       "      <td>49656.000</td>\n",
       "      <td>364.027330</td>\n",
       "      <td>609.346154</td>\n",
       "    </tr>\n",
       "    <tr>\n",
       "      <th>2014-04</th>\n",
       "      <td>109.484086</td>\n",
       "      <td>109.102083</td>\n",
       "      <td>80780.065509</td>\n",
       "      <td>46999.000</td>\n",
       "      <td>499.223059</td>\n",
       "      <td>253.615385</td>\n",
       "    </tr>\n",
       "    <tr>\n",
       "      <th>2014-05</th>\n",
       "      <td>135.508462</td>\n",
       "      <td>71.290833</td>\n",
       "      <td>77124.449256</td>\n",
       "      <td>52790.000</td>\n",
       "      <td>546.123982</td>\n",
       "      <td>132.884615</td>\n",
       "    </tr>\n",
       "    <tr>\n",
       "      <th>...</th>\n",
       "      <td>...</td>\n",
       "      <td>...</td>\n",
       "      <td>...</td>\n",
       "      <td>...</td>\n",
       "      <td>...</td>\n",
       "      <td>...</td>\n",
       "    </tr>\n",
       "    <tr>\n",
       "      <th>2020-08</th>\n",
       "      <td>133.660994</td>\n",
       "      <td>26.067917</td>\n",
       "      <td>93277.231339</td>\n",
       "      <td>100794.186</td>\n",
       "      <td>566.492671</td>\n",
       "      <td>127.177594</td>\n",
       "    </tr>\n",
       "    <tr>\n",
       "      <th>2020-09</th>\n",
       "      <td>121.295249</td>\n",
       "      <td>38.826250</td>\n",
       "      <td>87429.251535</td>\n",
       "      <td>107954.830</td>\n",
       "      <td>500.820834</td>\n",
       "      <td>202.861537</td>\n",
       "    </tr>\n",
       "    <tr>\n",
       "      <th>2020-10</th>\n",
       "      <td>119.282031</td>\n",
       "      <td>101.838958</td>\n",
       "      <td>84745.235398</td>\n",
       "      <td>112281.744</td>\n",
       "      <td>522.992916</td>\n",
       "      <td>441.466063</td>\n",
       "    </tr>\n",
       "    <tr>\n",
       "      <th>2020-11</th>\n",
       "      <td>108.879249</td>\n",
       "      <td>164.028750</td>\n",
       "      <td>81126.482427</td>\n",
       "      <td>109806.650</td>\n",
       "      <td>340.527595</td>\n",
       "      <td>621.333029</td>\n",
       "    </tr>\n",
       "    <tr>\n",
       "      <th>2020-12</th>\n",
       "      <td>103.743673</td>\n",
       "      <td>220.888333</td>\n",
       "      <td>80624.643446</td>\n",
       "      <td>102136.638</td>\n",
       "      <td>368.983302</td>\n",
       "      <td>870.508784</td>\n",
       "    </tr>\n",
       "  </tbody>\n",
       "</table>\n",
       "<p>84 rows × 6 columns</p>\n",
       "</div>"
      ],
      "text/plain": [
       "         des_heating     heating  ...  des_demand       demand\n",
       "month                             ...                         \n",
       "2014-01   112.136333  251.661667  ...  288.334359  1102.747692\n",
       "2014-02    89.758708  191.655417  ...  352.489012   898.576923\n",
       "2014-03    94.716456  165.501250  ...  364.027330   609.346154\n",
       "2014-04   109.484086  109.102083  ...  499.223059   253.615385\n",
       "2014-05   135.508462   71.290833  ...  546.123982   132.884615\n",
       "...              ...         ...  ...         ...          ...\n",
       "2020-08   133.660994   26.067917  ...  566.492671   127.177594\n",
       "2020-09   121.295249   38.826250  ...  500.820834   202.861537\n",
       "2020-10   119.282031  101.838958  ...  522.992916   441.466063\n",
       "2020-11   108.879249  164.028750  ...  340.527595   621.333029\n",
       "2020-12   103.743673  220.888333  ...  368.983302   870.508784\n",
       "\n",
       "[84 rows x 6 columns]"
      ]
     },
     "execution_count": 153,
     "metadata": {
      "tags": []
     },
     "output_type": "execute_result"
    }
   ],
   "source": [
    "data_season"
   ]
  },
  {
   "cell_type": "code",
   "execution_count": 154,
   "metadata": {
    "id": "v4y1b2IdkTON"
   },
   "outputs": [],
   "source": [
    "data = pd.concat([data_p, data_season], axis =1)"
   ]
  },
  {
   "cell_type": "code",
   "execution_count": 155,
   "metadata": {
    "id": "y51dhu0ykfIW"
   },
   "outputs": [],
   "source": [
    "data = data.dropna()"
   ]
  },
  {
   "cell_type": "code",
   "execution_count": 156,
   "metadata": {
    "colab": {
     "base_uri": "https://localhost:8080/",
     "height": 450
    },
    "id": "JnUfPLgxNKRL",
    "outputId": "989141ba-cbde-4c68-dac1-14bfb3bb3d6a"
   },
   "outputs": [
    {
     "data": {
      "text/html": [
       "<div>\n",
       "<style scoped>\n",
       "    .dataframe tbody tr th:only-of-type {\n",
       "        vertical-align: middle;\n",
       "    }\n",
       "\n",
       "    .dataframe tbody tr th {\n",
       "        vertical-align: top;\n",
       "    }\n",
       "\n",
       "    .dataframe thead th {\n",
       "        text-align: right;\n",
       "    }\n",
       "</style>\n",
       "<table border=\"1\" class=\"dataframe\">\n",
       "  <thead>\n",
       "    <tr style=\"text-align: right;\">\n",
       "      <th></th>\n",
       "      <th>ttf</th>\n",
       "      <th>brent</th>\n",
       "      <th>import_price_gas</th>\n",
       "      <th>coal_price</th>\n",
       "      <th>exchange_rate</th>\n",
       "      <th>des_heating</th>\n",
       "      <th>heating</th>\n",
       "      <th>des_storage</th>\n",
       "      <th>storage</th>\n",
       "      <th>des_demand</th>\n",
       "      <th>demand</th>\n",
       "    </tr>\n",
       "    <tr>\n",
       "      <th>month</th>\n",
       "      <th></th>\n",
       "      <th></th>\n",
       "      <th></th>\n",
       "      <th></th>\n",
       "      <th></th>\n",
       "      <th></th>\n",
       "      <th></th>\n",
       "      <th></th>\n",
       "      <th></th>\n",
       "      <th></th>\n",
       "      <th></th>\n",
       "    </tr>\n",
       "  </thead>\n",
       "  <tbody>\n",
       "    <tr>\n",
       "      <th>2014-02</th>\n",
       "      <td>24.006737</td>\n",
       "      <td>108.706111</td>\n",
       "      <td>11.3000</td>\n",
       "      <td>73.700000</td>\n",
       "      <td>1.365286</td>\n",
       "      <td>89.758708</td>\n",
       "      <td>191.655417</td>\n",
       "      <td>70578.293818</td>\n",
       "      <td>58677.000</td>\n",
       "      <td>352.489012</td>\n",
       "      <td>898.576923</td>\n",
       "    </tr>\n",
       "    <tr>\n",
       "      <th>2014-03</th>\n",
       "      <td>23.150048</td>\n",
       "      <td>107.857619</td>\n",
       "      <td>10.8800</td>\n",
       "      <td>75.800000</td>\n",
       "      <td>1.382566</td>\n",
       "      <td>94.716456</td>\n",
       "      <td>165.501250</td>\n",
       "      <td>75730.837814</td>\n",
       "      <td>49656.000</td>\n",
       "      <td>364.027330</td>\n",
       "      <td>609.346154</td>\n",
       "    </tr>\n",
       "    <tr>\n",
       "      <th>2014-04</th>\n",
       "      <td>20.649762</td>\n",
       "      <td>108.051905</td>\n",
       "      <td>10.7300</td>\n",
       "      <td>75.592857</td>\n",
       "      <td>1.380623</td>\n",
       "      <td>109.484086</td>\n",
       "      <td>109.102083</td>\n",
       "      <td>80780.065509</td>\n",
       "      <td>46999.000</td>\n",
       "      <td>499.223059</td>\n",
       "      <td>253.615385</td>\n",
       "    </tr>\n",
       "    <tr>\n",
       "      <th>2014-05</th>\n",
       "      <td>19.502909</td>\n",
       "      <td>109.219524</td>\n",
       "      <td>10.2000</td>\n",
       "      <td>75.559524</td>\n",
       "      <td>1.374598</td>\n",
       "      <td>135.508462</td>\n",
       "      <td>71.290833</td>\n",
       "      <td>77124.449256</td>\n",
       "      <td>52790.000</td>\n",
       "      <td>546.123982</td>\n",
       "      <td>132.884615</td>\n",
       "    </tr>\n",
       "    <tr>\n",
       "      <th>2014-06</th>\n",
       "      <td>17.533000</td>\n",
       "      <td>111.980476</td>\n",
       "      <td>9.7700</td>\n",
       "      <td>73.140476</td>\n",
       "      <td>1.359689</td>\n",
       "      <td>133.200103</td>\n",
       "      <td>31.794375</td>\n",
       "      <td>75129.993531</td>\n",
       "      <td>61207.000</td>\n",
       "      <td>525.338989</td>\n",
       "      <td>56.076923</td>\n",
       "    </tr>\n",
       "    <tr>\n",
       "      <th>...</th>\n",
       "      <td>...</td>\n",
       "      <td>...</td>\n",
       "      <td>...</td>\n",
       "      <td>...</td>\n",
       "      <td>...</td>\n",
       "      <td>...</td>\n",
       "      <td>...</td>\n",
       "      <td>...</td>\n",
       "      <td>...</td>\n",
       "      <td>...</td>\n",
       "      <td>...</td>\n",
       "    </tr>\n",
       "    <tr>\n",
       "      <th>2020-08</th>\n",
       "      <td>8.321619</td>\n",
       "      <td>44.969048</td>\n",
       "      <td>2.8619</td>\n",
       "      <td>50.078571</td>\n",
       "      <td>1.182762</td>\n",
       "      <td>133.660994</td>\n",
       "      <td>26.067917</td>\n",
       "      <td>93277.231339</td>\n",
       "      <td>100794.186</td>\n",
       "      <td>566.492671</td>\n",
       "      <td>127.177594</td>\n",
       "    </tr>\n",
       "    <tr>\n",
       "      <th>2020-09</th>\n",
       "      <td>11.495636</td>\n",
       "      <td>41.681500</td>\n",
       "      <td>3.9521</td>\n",
       "      <td>53.990476</td>\n",
       "      <td>1.179660</td>\n",
       "      <td>121.295249</td>\n",
       "      <td>38.826250</td>\n",
       "      <td>87429.251535</td>\n",
       "      <td>107954.830</td>\n",
       "      <td>500.820834</td>\n",
       "      <td>202.861537</td>\n",
       "    </tr>\n",
       "    <tr>\n",
       "      <th>2020-10</th>\n",
       "      <td>14.181091</td>\n",
       "      <td>41.525455</td>\n",
       "      <td>4.8896</td>\n",
       "      <td>56.556818</td>\n",
       "      <td>1.176977</td>\n",
       "      <td>119.282031</td>\n",
       "      <td>101.838958</td>\n",
       "      <td>84745.235398</td>\n",
       "      <td>112281.744</td>\n",
       "      <td>522.992916</td>\n",
       "      <td>441.466063</td>\n",
       "    </tr>\n",
       "    <tr>\n",
       "      <th>2020-11</th>\n",
       "      <td>13.946333</td>\n",
       "      <td>43.478421</td>\n",
       "      <td>4.8358</td>\n",
       "      <td>54.347500</td>\n",
       "      <td>1.182952</td>\n",
       "      <td>108.879249</td>\n",
       "      <td>164.028750</td>\n",
       "      <td>81126.482427</td>\n",
       "      <td>109806.650</td>\n",
       "      <td>340.527595</td>\n",
       "      <td>621.333029</td>\n",
       "    </tr>\n",
       "    <tr>\n",
       "      <th>2020-12</th>\n",
       "      <td>16.422227</td>\n",
       "      <td>50.095000</td>\n",
       "      <td>5.8561</td>\n",
       "      <td>66.861364</td>\n",
       "      <td>1.216249</td>\n",
       "      <td>103.743673</td>\n",
       "      <td>220.888333</td>\n",
       "      <td>80624.643446</td>\n",
       "      <td>102136.638</td>\n",
       "      <td>368.983302</td>\n",
       "      <td>870.508784</td>\n",
       "    </tr>\n",
       "  </tbody>\n",
       "</table>\n",
       "<p>83 rows × 11 columns</p>\n",
       "</div>"
      ],
      "text/plain": [
       "               ttf       brent  ...  des_demand      demand\n",
       "month                           ...                        \n",
       "2014-02  24.006737  108.706111  ...  352.489012  898.576923\n",
       "2014-03  23.150048  107.857619  ...  364.027330  609.346154\n",
       "2014-04  20.649762  108.051905  ...  499.223059  253.615385\n",
       "2014-05  19.502909  109.219524  ...  546.123982  132.884615\n",
       "2014-06  17.533000  111.980476  ...  525.338989   56.076923\n",
       "...            ...         ...  ...         ...         ...\n",
       "2020-08   8.321619   44.969048  ...  566.492671  127.177594\n",
       "2020-09  11.495636   41.681500  ...  500.820834  202.861537\n",
       "2020-10  14.181091   41.525455  ...  522.992916  441.466063\n",
       "2020-11  13.946333   43.478421  ...  340.527595  621.333029\n",
       "2020-12  16.422227   50.095000  ...  368.983302  870.508784\n",
       "\n",
       "[83 rows x 11 columns]"
      ]
     },
     "execution_count": 156,
     "metadata": {
      "tags": []
     },
     "output_type": "execute_result"
    }
   ],
   "source": [
    "data"
   ]
  },
  {
   "cell_type": "code",
   "execution_count": 180,
   "metadata": {
    "id": "90DtAnEkitWO"
   },
   "outputs": [],
   "source": [
    "data.to_csv('full_data.csv')"
   ]
  },
  {
   "cell_type": "code",
   "execution_count": 184,
   "metadata": {
    "colab": {
     "base_uri": "https://localhost:8080/",
     "height": 17
    },
    "id": "OyQKVpVBaSOs",
    "outputId": "4b98de1c-cc2d-4b14-9900-69cbaed4e612"
   },
   "outputs": [
    {
     "data": {
      "application/javascript": [
       "\n",
       "    async function download(id, filename, size) {\n",
       "      if (!google.colab.kernel.accessAllowed) {\n",
       "        return;\n",
       "      }\n",
       "      const div = document.createElement('div');\n",
       "      const label = document.createElement('label');\n",
       "      label.textContent = `Downloading \"${filename}\": `;\n",
       "      div.appendChild(label);\n",
       "      const progress = document.createElement('progress');\n",
       "      progress.max = size;\n",
       "      div.appendChild(progress);\n",
       "      document.body.appendChild(div);\n",
       "\n",
       "      const buffers = [];\n",
       "      let downloaded = 0;\n",
       "\n",
       "      const channel = await google.colab.kernel.comms.open(id);\n",
       "      // Send a message to notify the kernel that we're ready.\n",
       "      channel.send({})\n",
       "\n",
       "      for await (const message of channel.messages) {\n",
       "        // Send a message to notify the kernel that we're ready.\n",
       "        channel.send({})\n",
       "        if (message.buffers) {\n",
       "          for (const buffer of message.buffers) {\n",
       "            buffers.push(buffer);\n",
       "            downloaded += buffer.byteLength;\n",
       "            progress.value = downloaded;\n",
       "          }\n",
       "        }\n",
       "      }\n",
       "      const blob = new Blob(buffers, {type: 'application/binary'});\n",
       "      const a = document.createElement('a');\n",
       "      a.href = window.URL.createObjectURL(blob);\n",
       "      a.download = filename;\n",
       "      div.appendChild(a);\n",
       "      a.click();\n",
       "      div.remove();\n",
       "    }\n",
       "  "
      ],
      "text/plain": [
       "<IPython.core.display.Javascript object>"
      ]
     },
     "metadata": {
      "tags": []
     },
     "output_type": "display_data"
    },
    {
     "data": {
      "application/javascript": [
       "download(\"download_02422505-bb6e-4029-b164-967225fd100e\", \"full_data.csv\", 15404)"
      ],
      "text/plain": [
       "<IPython.core.display.Javascript object>"
      ]
     },
     "metadata": {
      "tags": []
     },
     "output_type": "display_data"
    }
   ],
   "source": [
    "files.download(\"full_data.csv\")"
   ]
  },
  {
   "cell_type": "markdown",
   "metadata": {
    "id": "5eFhFeaUllQ6"
   },
   "source": [
    "# **Testing Stationarity**"
   ]
  },
  {
   "cell_type": "markdown",
   "metadata": {},
   "source": [
    "New data with exchange rates and WTI oil price."
   ]
  },
  {
   "cell_type": "code",
   "execution_count": 9,
   "metadata": {},
   "outputs": [],
   "source": [
    "data = pd.read_csv('full_data_new.csv')\n",
    "del data['Unnamed: 0']"
   ]
  },
  {
   "cell_type": "code",
   "execution_count": 10,
   "metadata": {},
   "outputs": [
    {
     "data": {
      "text/html": [
       "<div>\n",
       "<style scoped>\n",
       "    .dataframe tbody tr th:only-of-type {\n",
       "        vertical-align: middle;\n",
       "    }\n",
       "\n",
       "    .dataframe tbody tr th {\n",
       "        vertical-align: top;\n",
       "    }\n",
       "\n",
       "    .dataframe thead th {\n",
       "        text-align: right;\n",
       "    }\n",
       "</style>\n",
       "<table border=\"1\" class=\"dataframe\">\n",
       "  <thead>\n",
       "    <tr style=\"text-align: right;\">\n",
       "      <th></th>\n",
       "      <th>month</th>\n",
       "      <th>ttf</th>\n",
       "      <th>brent</th>\n",
       "      <th>coal_price</th>\n",
       "      <th>exchange_rate</th>\n",
       "      <th>des_heating</th>\n",
       "      <th>heating</th>\n",
       "      <th>des_storage</th>\n",
       "      <th>storage</th>\n",
       "      <th>WTI_oil</th>\n",
       "    </tr>\n",
       "  </thead>\n",
       "  <tbody>\n",
       "    <tr>\n",
       "      <th>0</th>\n",
       "      <td>2014-02</td>\n",
       "      <td>24.006737</td>\n",
       "      <td>108.706111</td>\n",
       "      <td>73.700000</td>\n",
       "      <td>1.365286</td>\n",
       "      <td>89.758708</td>\n",
       "      <td>191.655417</td>\n",
       "      <td>705.782938</td>\n",
       "      <td>586.77</td>\n",
       "      <td>100.090500</td>\n",
       "    </tr>\n",
       "    <tr>\n",
       "      <th>1</th>\n",
       "      <td>2014-03</td>\n",
       "      <td>23.150048</td>\n",
       "      <td>107.857619</td>\n",
       "      <td>75.800000</td>\n",
       "      <td>1.382566</td>\n",
       "      <td>94.716456</td>\n",
       "      <td>165.501250</td>\n",
       "      <td>757.308378</td>\n",
       "      <td>496.56</td>\n",
       "      <td>99.840476</td>\n",
       "    </tr>\n",
       "    <tr>\n",
       "      <th>2</th>\n",
       "      <td>2014-04</td>\n",
       "      <td>20.649762</td>\n",
       "      <td>108.051905</td>\n",
       "      <td>75.592857</td>\n",
       "      <td>1.380623</td>\n",
       "      <td>109.484086</td>\n",
       "      <td>109.102083</td>\n",
       "      <td>807.800655</td>\n",
       "      <td>469.99</td>\n",
       "      <td>101.228095</td>\n",
       "    </tr>\n",
       "    <tr>\n",
       "      <th>3</th>\n",
       "      <td>2014-05</td>\n",
       "      <td>19.502909</td>\n",
       "      <td>109.219524</td>\n",
       "      <td>75.559524</td>\n",
       "      <td>1.374598</td>\n",
       "      <td>135.508462</td>\n",
       "      <td>71.290833</td>\n",
       "      <td>771.244493</td>\n",
       "      <td>527.90</td>\n",
       "      <td>101.047826</td>\n",
       "    </tr>\n",
       "    <tr>\n",
       "      <th>4</th>\n",
       "      <td>2014-06</td>\n",
       "      <td>17.533000</td>\n",
       "      <td>111.980476</td>\n",
       "      <td>73.140476</td>\n",
       "      <td>1.359689</td>\n",
       "      <td>133.200103</td>\n",
       "      <td>31.794375</td>\n",
       "      <td>751.299935</td>\n",
       "      <td>612.07</td>\n",
       "      <td>104.402857</td>\n",
       "    </tr>\n",
       "  </tbody>\n",
       "</table>\n",
       "</div>"
      ],
      "text/plain": [
       "     month        ttf       brent  coal_price  exchange_rate  des_heating  \\\n",
       "0  2014-02  24.006737  108.706111   73.700000       1.365286    89.758708   \n",
       "1  2014-03  23.150048  107.857619   75.800000       1.382566    94.716456   \n",
       "2  2014-04  20.649762  108.051905   75.592857       1.380623   109.484086   \n",
       "3  2014-05  19.502909  109.219524   75.559524       1.374598   135.508462   \n",
       "4  2014-06  17.533000  111.980476   73.140476       1.359689   133.200103   \n",
       "\n",
       "      heating  des_storage  storage     WTI_oil  \n",
       "0  191.655417   705.782938   586.77  100.090500  \n",
       "1  165.501250   757.308378   496.56   99.840476  \n",
       "2  109.102083   807.800655   469.99  101.228095  \n",
       "3   71.290833   771.244493   527.90  101.047826  \n",
       "4   31.794375   751.299935   612.07  104.402857  "
      ]
     },
     "execution_count": 10,
     "metadata": {},
     "output_type": "execute_result"
    }
   ],
   "source": [
    "data.head()"
   ]
  },
  {
   "cell_type": "code",
   "execution_count": 7,
   "metadata": {
    "id": "bXrzbkMhK2jI"
   },
   "outputs": [],
   "source": [
    "from statsmodels.tsa.stattools import adfuller, acovf, acf, grangercausalitytests, coint\n",
    "from statsmodels.graphics.tsaplots import plot_acf"
   ]
  },
  {
   "cell_type": "code",
   "execution_count": 12,
   "metadata": {
    "id": "h7zEDb8uKXbo"
   },
   "outputs": [],
   "source": [
    "def test_stationary(x):\n",
    "  test = adfuller(x, regression = 'ct', autolag='AIC')\n",
    "\n",
    "  alfa = test[4]\n",
    "  print(f'ADF Statistic: {test[0]}')\n",
    "  print(f'p-value: {test[1]}')\n",
    "  if test[0] <= alfa['5%']:\n",
    "    print('The null hypothesis can be rejected with a 95% confidence level: the series does not have a unit root')\n",
    "  else:\n",
    "    print(\"The null hypothesis cannot be rejected with a 95% confidence level: the series has a unit root\")"
   ]
  },
  {
   "cell_type": "code",
   "execution_count": 13,
   "metadata": {
    "colab": {
     "base_uri": "https://localhost:8080/"
    },
    "id": "xOd4NK5snqT9",
    "outputId": "9e370bee-6f6d-4c69-ec90-75d63dddbdd0",
    "scrolled": false
   },
   "outputs": [
    {
     "name": "stdout",
     "output_type": "stream",
     "text": [
      "--Variable--: ttf\n",
      "ADF Statistic: -2.8447660199721656\n",
      "p-value: 0.18098849137069267\n",
      "The null hypothesis cannot be rejected with a 95% confidence level: the series has a unit root\n",
      "  \n",
      "--Variable--: brent\n",
      "ADF Statistic: -2.7528247784138897\n",
      "p-value: 0.21481002518388903\n",
      "The null hypothesis cannot be rejected with a 95% confidence level: the series has a unit root\n",
      "  \n",
      "--Variable--: coal_price\n",
      "ADF Statistic: -2.3207115146081203\n",
      "p-value: 0.42252943626880934\n",
      "The null hypothesis cannot be rejected with a 95% confidence level: the series has a unit root\n",
      "  \n",
      "--Variable--: exchange_rate\n",
      "ADF Statistic: -2.4682024158057154\n",
      "p-value: 0.34403790942392815\n",
      "The null hypothesis cannot be rejected with a 95% confidence level: the series has a unit root\n",
      "  \n",
      "--Variable--: des_heating\n",
      "ADF Statistic: -6.864891368793034\n",
      "p-value: 2.849919392595926e-08\n",
      "The null hypothesis can be rejected with a 95% confidence level: the series does not have a unit root\n",
      "  \n",
      "--Variable--: heating\n",
      "ADF Statistic: -2.759456443730452\n",
      "p-value: 0.2122336619038664\n",
      "The null hypothesis cannot be rejected with a 95% confidence level: the series has a unit root\n",
      "  \n",
      "--Variable--: des_storage\n",
      "ADF Statistic: -3.4061347854354205\n",
      "p-value: 0.05057365947735155\n",
      "The null hypothesis cannot be rejected with a 95% confidence level: the series has a unit root\n",
      "  \n",
      "--Variable--: storage\n",
      "ADF Statistic: -2.71430559908674\n",
      "p-value: 0.2301908676825693\n",
      "The null hypothesis cannot be rejected with a 95% confidence level: the series has a unit root\n",
      "  \n",
      "--Variable--: WTI_oil\n",
      "ADF Statistic: -2.847608591686389\n",
      "p-value: 0.18000813192045284\n",
      "The null hypothesis cannot be rejected with a 95% confidence level: the series has a unit root\n",
      "  \n"
     ]
    }
   ],
   "source": [
    "for i in data.columns[1:]:\n",
    "  print(\"--Variable--: \" + i)\n",
    "  test_stationary(data[i])\n",
    "  print('  ')"
   ]
  },
  {
   "cell_type": "markdown",
   "metadata": {},
   "source": [
    "Johansen cointegration test is performed in Eviews"
   ]
  },
  {
   "cell_type": "markdown",
   "metadata": {
    "id": "lA9rvHATtd6l"
   },
   "source": [
    "# **First Differences** "
   ]
  },
  {
   "cell_type": "code",
   "execution_count": 14,
   "metadata": {},
   "outputs": [
    {
     "data": {
      "text/html": [
       "<div>\n",
       "<style scoped>\n",
       "    .dataframe tbody tr th:only-of-type {\n",
       "        vertical-align: middle;\n",
       "    }\n",
       "\n",
       "    .dataframe tbody tr th {\n",
       "        vertical-align: top;\n",
       "    }\n",
       "\n",
       "    .dataframe thead th {\n",
       "        text-align: right;\n",
       "    }\n",
       "</style>\n",
       "<table border=\"1\" class=\"dataframe\">\n",
       "  <thead>\n",
       "    <tr style=\"text-align: right;\">\n",
       "      <th></th>\n",
       "      <th>month</th>\n",
       "      <th>ttf</th>\n",
       "      <th>brent</th>\n",
       "      <th>coal_price</th>\n",
       "      <th>exchange_rate</th>\n",
       "      <th>des_heating</th>\n",
       "      <th>heating</th>\n",
       "      <th>des_storage</th>\n",
       "      <th>storage</th>\n",
       "      <th>WTI_oil</th>\n",
       "    </tr>\n",
       "  </thead>\n",
       "  <tbody>\n",
       "    <tr>\n",
       "      <th>0</th>\n",
       "      <td>2014-02</td>\n",
       "      <td>24.006737</td>\n",
       "      <td>108.706111</td>\n",
       "      <td>73.700000</td>\n",
       "      <td>1.365286</td>\n",
       "      <td>89.758708</td>\n",
       "      <td>191.655417</td>\n",
       "      <td>705.782938</td>\n",
       "      <td>586.77000</td>\n",
       "      <td>100.090500</td>\n",
       "    </tr>\n",
       "    <tr>\n",
       "      <th>1</th>\n",
       "      <td>2014-03</td>\n",
       "      <td>23.150048</td>\n",
       "      <td>107.857619</td>\n",
       "      <td>75.800000</td>\n",
       "      <td>1.382566</td>\n",
       "      <td>94.716456</td>\n",
       "      <td>165.501250</td>\n",
       "      <td>757.308378</td>\n",
       "      <td>496.56000</td>\n",
       "      <td>99.840476</td>\n",
       "    </tr>\n",
       "    <tr>\n",
       "      <th>2</th>\n",
       "      <td>2014-04</td>\n",
       "      <td>20.649762</td>\n",
       "      <td>108.051905</td>\n",
       "      <td>75.592857</td>\n",
       "      <td>1.380623</td>\n",
       "      <td>109.484086</td>\n",
       "      <td>109.102083</td>\n",
       "      <td>807.800655</td>\n",
       "      <td>469.99000</td>\n",
       "      <td>101.228095</td>\n",
       "    </tr>\n",
       "    <tr>\n",
       "      <th>3</th>\n",
       "      <td>2014-05</td>\n",
       "      <td>19.502909</td>\n",
       "      <td>109.219524</td>\n",
       "      <td>75.559524</td>\n",
       "      <td>1.374598</td>\n",
       "      <td>135.508462</td>\n",
       "      <td>71.290833</td>\n",
       "      <td>771.244493</td>\n",
       "      <td>527.90000</td>\n",
       "      <td>101.047826</td>\n",
       "    </tr>\n",
       "    <tr>\n",
       "      <th>4</th>\n",
       "      <td>2014-06</td>\n",
       "      <td>17.533000</td>\n",
       "      <td>111.980476</td>\n",
       "      <td>73.140476</td>\n",
       "      <td>1.359689</td>\n",
       "      <td>133.200103</td>\n",
       "      <td>31.794375</td>\n",
       "      <td>751.299935</td>\n",
       "      <td>612.07000</td>\n",
       "      <td>104.402857</td>\n",
       "    </tr>\n",
       "    <tr>\n",
       "      <th>...</th>\n",
       "      <td>...</td>\n",
       "      <td>...</td>\n",
       "      <td>...</td>\n",
       "      <td>...</td>\n",
       "      <td>...</td>\n",
       "      <td>...</td>\n",
       "      <td>...</td>\n",
       "      <td>...</td>\n",
       "      <td>...</td>\n",
       "      <td>...</td>\n",
       "    </tr>\n",
       "    <tr>\n",
       "      <th>78</th>\n",
       "      <td>2020-08</td>\n",
       "      <td>8.321619</td>\n",
       "      <td>44.969048</td>\n",
       "      <td>50.078571</td>\n",
       "      <td>1.182762</td>\n",
       "      <td>133.660994</td>\n",
       "      <td>26.067917</td>\n",
       "      <td>932.772313</td>\n",
       "      <td>1007.94186</td>\n",
       "      <td>42.681905</td>\n",
       "    </tr>\n",
       "    <tr>\n",
       "      <th>79</th>\n",
       "      <td>2020-09</td>\n",
       "      <td>11.495636</td>\n",
       "      <td>41.681500</td>\n",
       "      <td>53.990476</td>\n",
       "      <td>1.179660</td>\n",
       "      <td>121.295249</td>\n",
       "      <td>38.826250</td>\n",
       "      <td>874.292515</td>\n",
       "      <td>1079.54830</td>\n",
       "      <td>39.926818</td>\n",
       "    </tr>\n",
       "    <tr>\n",
       "      <th>80</th>\n",
       "      <td>2020-10</td>\n",
       "      <td>14.181091</td>\n",
       "      <td>41.525455</td>\n",
       "      <td>56.556818</td>\n",
       "      <td>1.176977</td>\n",
       "      <td>119.282031</td>\n",
       "      <td>101.838958</td>\n",
       "      <td>847.452354</td>\n",
       "      <td>1122.81744</td>\n",
       "      <td>39.870909</td>\n",
       "    </tr>\n",
       "    <tr>\n",
       "      <th>81</th>\n",
       "      <td>2020-11</td>\n",
       "      <td>13.946333</td>\n",
       "      <td>43.478421</td>\n",
       "      <td>54.347500</td>\n",
       "      <td>1.182952</td>\n",
       "      <td>108.879249</td>\n",
       "      <td>164.028750</td>\n",
       "      <td>811.264824</td>\n",
       "      <td>1098.06650</td>\n",
       "      <td>41.797619</td>\n",
       "    </tr>\n",
       "    <tr>\n",
       "      <th>82</th>\n",
       "      <td>2020-12</td>\n",
       "      <td>16.422227</td>\n",
       "      <td>50.095000</td>\n",
       "      <td>66.861364</td>\n",
       "      <td>1.216249</td>\n",
       "      <td>103.743673</td>\n",
       "      <td>220.888333</td>\n",
       "      <td>806.246434</td>\n",
       "      <td>1021.36638</td>\n",
       "      <td>47.238636</td>\n",
       "    </tr>\n",
       "  </tbody>\n",
       "</table>\n",
       "<p>83 rows × 10 columns</p>\n",
       "</div>"
      ],
      "text/plain": [
       "      month        ttf       brent  coal_price  exchange_rate  des_heating  \\\n",
       "0   2014-02  24.006737  108.706111   73.700000       1.365286    89.758708   \n",
       "1   2014-03  23.150048  107.857619   75.800000       1.382566    94.716456   \n",
       "2   2014-04  20.649762  108.051905   75.592857       1.380623   109.484086   \n",
       "3   2014-05  19.502909  109.219524   75.559524       1.374598   135.508462   \n",
       "4   2014-06  17.533000  111.980476   73.140476       1.359689   133.200103   \n",
       "..      ...        ...         ...         ...            ...          ...   \n",
       "78  2020-08   8.321619   44.969048   50.078571       1.182762   133.660994   \n",
       "79  2020-09  11.495636   41.681500   53.990476       1.179660   121.295249   \n",
       "80  2020-10  14.181091   41.525455   56.556818       1.176977   119.282031   \n",
       "81  2020-11  13.946333   43.478421   54.347500       1.182952   108.879249   \n",
       "82  2020-12  16.422227   50.095000   66.861364       1.216249   103.743673   \n",
       "\n",
       "       heating  des_storage     storage     WTI_oil  \n",
       "0   191.655417   705.782938   586.77000  100.090500  \n",
       "1   165.501250   757.308378   496.56000   99.840476  \n",
       "2   109.102083   807.800655   469.99000  101.228095  \n",
       "3    71.290833   771.244493   527.90000  101.047826  \n",
       "4    31.794375   751.299935   612.07000  104.402857  \n",
       "..         ...          ...         ...         ...  \n",
       "78   26.067917   932.772313  1007.94186   42.681905  \n",
       "79   38.826250   874.292515  1079.54830   39.926818  \n",
       "80  101.838958   847.452354  1122.81744   39.870909  \n",
       "81  164.028750   811.264824  1098.06650   41.797619  \n",
       "82  220.888333   806.246434  1021.36638   47.238636  \n",
       "\n",
       "[83 rows x 10 columns]"
      ]
     },
     "execution_count": 14,
     "metadata": {},
     "output_type": "execute_result"
    }
   ],
   "source": [
    "data"
   ]
  },
  {
   "cell_type": "code",
   "execution_count": 15,
   "metadata": {
    "id": "9_8Xe-ac50Oo"
   },
   "outputs": [],
   "source": [
    "data1 = data.drop(['heating', 'storage'], axis =1)"
   ]
  },
  {
   "cell_type": "code",
   "execution_count": 16,
   "metadata": {
    "id": "5_OXzfjjZeLF"
   },
   "outputs": [],
   "source": [
    "data2 = data[['ttf', 'brent', 'coal_price', \"exchange_rate\",'des_storage','WTI_oil']]"
   ]
  },
  {
   "cell_type": "code",
   "execution_count": 18,
   "metadata": {
    "id": "a86xanrXaDKL"
   },
   "outputs": [
    {
     "data": {
      "text/html": [
       "<div>\n",
       "<style scoped>\n",
       "    .dataframe tbody tr th:only-of-type {\n",
       "        vertical-align: middle;\n",
       "    }\n",
       "\n",
       "    .dataframe tbody tr th {\n",
       "        vertical-align: top;\n",
       "    }\n",
       "\n",
       "    .dataframe thead th {\n",
       "        text-align: right;\n",
       "    }\n",
       "</style>\n",
       "<table border=\"1\" class=\"dataframe\">\n",
       "  <thead>\n",
       "    <tr style=\"text-align: right;\">\n",
       "      <th></th>\n",
       "      <th>month</th>\n",
       "      <th>ttf</th>\n",
       "      <th>brent</th>\n",
       "      <th>coal_price</th>\n",
       "      <th>exchange_rate</th>\n",
       "      <th>des_storage</th>\n",
       "      <th>WTI_oil</th>\n",
       "      <th>des_heating</th>\n",
       "    </tr>\n",
       "  </thead>\n",
       "  <tbody>\n",
       "    <tr>\n",
       "      <th>1</th>\n",
       "      <td>2014-03</td>\n",
       "      <td>-0.856689</td>\n",
       "      <td>-0.848492</td>\n",
       "      <td>2.100000</td>\n",
       "      <td>0.017280</td>\n",
       "      <td>51.525440</td>\n",
       "      <td>-0.250024</td>\n",
       "      <td>94.716456</td>\n",
       "    </tr>\n",
       "    <tr>\n",
       "      <th>2</th>\n",
       "      <td>2014-04</td>\n",
       "      <td>-2.500286</td>\n",
       "      <td>0.194286</td>\n",
       "      <td>-0.207143</td>\n",
       "      <td>-0.001943</td>\n",
       "      <td>50.492277</td>\n",
       "      <td>1.387619</td>\n",
       "      <td>109.484086</td>\n",
       "    </tr>\n",
       "    <tr>\n",
       "      <th>3</th>\n",
       "      <td>2014-05</td>\n",
       "      <td>-1.146853</td>\n",
       "      <td>1.167619</td>\n",
       "      <td>-0.033333</td>\n",
       "      <td>-0.006025</td>\n",
       "      <td>-36.556163</td>\n",
       "      <td>-0.180269</td>\n",
       "      <td>135.508462</td>\n",
       "    </tr>\n",
       "    <tr>\n",
       "      <th>4</th>\n",
       "      <td>2014-06</td>\n",
       "      <td>-1.969909</td>\n",
       "      <td>2.760952</td>\n",
       "      <td>-2.419048</td>\n",
       "      <td>-0.014908</td>\n",
       "      <td>-19.944557</td>\n",
       "      <td>3.355031</td>\n",
       "      <td>133.200103</td>\n",
       "    </tr>\n",
       "    <tr>\n",
       "      <th>5</th>\n",
       "      <td>2014-07</td>\n",
       "      <td>-0.867652</td>\n",
       "      <td>-4.138095</td>\n",
       "      <td>1.568615</td>\n",
       "      <td>-0.004587</td>\n",
       "      <td>-24.247438</td>\n",
       "      <td>-2.965031</td>\n",
       "      <td>124.495491</td>\n",
       "    </tr>\n",
       "    <tr>\n",
       "      <th>...</th>\n",
       "      <td>...</td>\n",
       "      <td>...</td>\n",
       "      <td>...</td>\n",
       "      <td>...</td>\n",
       "      <td>...</td>\n",
       "      <td>...</td>\n",
       "      <td>...</td>\n",
       "      <td>...</td>\n",
       "    </tr>\n",
       "    <tr>\n",
       "      <th>78</th>\n",
       "      <td>2020-08</td>\n",
       "      <td>2.925967</td>\n",
       "      <td>1.768593</td>\n",
       "      <td>-0.219156</td>\n",
       "      <td>0.037287</td>\n",
       "      <td>-47.520704</td>\n",
       "      <td>1.754513</td>\n",
       "      <td>133.660994</td>\n",
       "    </tr>\n",
       "    <tr>\n",
       "      <th>79</th>\n",
       "      <td>2020-09</td>\n",
       "      <td>3.174017</td>\n",
       "      <td>-3.287548</td>\n",
       "      <td>3.911905</td>\n",
       "      <td>-0.003102</td>\n",
       "      <td>-58.479798</td>\n",
       "      <td>-2.755087</td>\n",
       "      <td>121.295249</td>\n",
       "    </tr>\n",
       "    <tr>\n",
       "      <th>80</th>\n",
       "      <td>2020-10</td>\n",
       "      <td>2.685455</td>\n",
       "      <td>-0.156045</td>\n",
       "      <td>2.566342</td>\n",
       "      <td>-0.002683</td>\n",
       "      <td>-26.840161</td>\n",
       "      <td>-0.055909</td>\n",
       "      <td>119.282031</td>\n",
       "    </tr>\n",
       "    <tr>\n",
       "      <th>81</th>\n",
       "      <td>2020-11</td>\n",
       "      <td>-0.234758</td>\n",
       "      <td>1.952967</td>\n",
       "      <td>-2.209318</td>\n",
       "      <td>0.005975</td>\n",
       "      <td>-36.187530</td>\n",
       "      <td>1.926710</td>\n",
       "      <td>108.879249</td>\n",
       "    </tr>\n",
       "    <tr>\n",
       "      <th>82</th>\n",
       "      <td>2020-12</td>\n",
       "      <td>2.475894</td>\n",
       "      <td>6.616579</td>\n",
       "      <td>12.513864</td>\n",
       "      <td>0.033298</td>\n",
       "      <td>-5.018390</td>\n",
       "      <td>5.441017</td>\n",
       "      <td>103.743673</td>\n",
       "    </tr>\n",
       "  </tbody>\n",
       "</table>\n",
       "<p>82 rows × 8 columns</p>\n",
       "</div>"
      ],
      "text/plain": [
       "      month       ttf     brent  coal_price  exchange_rate  des_storage  \\\n",
       "1   2014-03 -0.856689 -0.848492    2.100000       0.017280    51.525440   \n",
       "2   2014-04 -2.500286  0.194286   -0.207143      -0.001943    50.492277   \n",
       "3   2014-05 -1.146853  1.167619   -0.033333      -0.006025   -36.556163   \n",
       "4   2014-06 -1.969909  2.760952   -2.419048      -0.014908   -19.944557   \n",
       "5   2014-07 -0.867652 -4.138095    1.568615      -0.004587   -24.247438   \n",
       "..      ...       ...       ...         ...            ...          ...   \n",
       "78  2020-08  2.925967  1.768593   -0.219156       0.037287   -47.520704   \n",
       "79  2020-09  3.174017 -3.287548    3.911905      -0.003102   -58.479798   \n",
       "80  2020-10  2.685455 -0.156045    2.566342      -0.002683   -26.840161   \n",
       "81  2020-11 -0.234758  1.952967   -2.209318       0.005975   -36.187530   \n",
       "82  2020-12  2.475894  6.616579   12.513864       0.033298    -5.018390   \n",
       "\n",
       "     WTI_oil  des_heating  \n",
       "1  -0.250024    94.716456  \n",
       "2   1.387619   109.484086  \n",
       "3  -0.180269   135.508462  \n",
       "4   3.355031   133.200103  \n",
       "5  -2.965031   124.495491  \n",
       "..       ...          ...  \n",
       "78  1.754513   133.660994  \n",
       "79 -2.755087   121.295249  \n",
       "80 -0.055909   119.282031  \n",
       "81  1.926710   108.879249  \n",
       "82  5.441017   103.743673  \n",
       "\n",
       "[82 rows x 8 columns]"
      ]
     },
     "execution_count": 18,
     "metadata": {},
     "output_type": "execute_result"
    }
   ],
   "source": [
    "data_diff = pd.concat([data['month'], data2.diff(),data['des_heating']], axis=1).dropna()\n"
   ]
  },
  {
   "cell_type": "code",
   "execution_count": 19,
   "metadata": {},
   "outputs": [
    {
     "data": {
      "text/html": [
       "<div>\n",
       "<style scoped>\n",
       "    .dataframe tbody tr th:only-of-type {\n",
       "        vertical-align: middle;\n",
       "    }\n",
       "\n",
       "    .dataframe tbody tr th {\n",
       "        vertical-align: top;\n",
       "    }\n",
       "\n",
       "    .dataframe thead th {\n",
       "        text-align: right;\n",
       "    }\n",
       "</style>\n",
       "<table border=\"1\" class=\"dataframe\">\n",
       "  <thead>\n",
       "    <tr style=\"text-align: right;\">\n",
       "      <th></th>\n",
       "      <th>month</th>\n",
       "      <th>D_ttf</th>\n",
       "      <th>D_brent</th>\n",
       "      <th>D_coal</th>\n",
       "      <th>D_exchange_rate</th>\n",
       "      <th>D_des_storage</th>\n",
       "      <th>D_WTI</th>\n",
       "      <th>des_heating</th>\n",
       "    </tr>\n",
       "  </thead>\n",
       "  <tbody>\n",
       "    <tr>\n",
       "      <th>1</th>\n",
       "      <td>2014-03</td>\n",
       "      <td>-0.856689</td>\n",
       "      <td>-0.848492</td>\n",
       "      <td>2.100000</td>\n",
       "      <td>0.017280</td>\n",
       "      <td>51.525440</td>\n",
       "      <td>-0.250024</td>\n",
       "      <td>94.716456</td>\n",
       "    </tr>\n",
       "    <tr>\n",
       "      <th>2</th>\n",
       "      <td>2014-04</td>\n",
       "      <td>-2.500286</td>\n",
       "      <td>0.194286</td>\n",
       "      <td>-0.207143</td>\n",
       "      <td>-0.001943</td>\n",
       "      <td>50.492277</td>\n",
       "      <td>1.387619</td>\n",
       "      <td>109.484086</td>\n",
       "    </tr>\n",
       "    <tr>\n",
       "      <th>3</th>\n",
       "      <td>2014-05</td>\n",
       "      <td>-1.146853</td>\n",
       "      <td>1.167619</td>\n",
       "      <td>-0.033333</td>\n",
       "      <td>-0.006025</td>\n",
       "      <td>-36.556163</td>\n",
       "      <td>-0.180269</td>\n",
       "      <td>135.508462</td>\n",
       "    </tr>\n",
       "    <tr>\n",
       "      <th>4</th>\n",
       "      <td>2014-06</td>\n",
       "      <td>-1.969909</td>\n",
       "      <td>2.760952</td>\n",
       "      <td>-2.419048</td>\n",
       "      <td>-0.014908</td>\n",
       "      <td>-19.944557</td>\n",
       "      <td>3.355031</td>\n",
       "      <td>133.200103</td>\n",
       "    </tr>\n",
       "    <tr>\n",
       "      <th>5</th>\n",
       "      <td>2014-07</td>\n",
       "      <td>-0.867652</td>\n",
       "      <td>-4.138095</td>\n",
       "      <td>1.568615</td>\n",
       "      <td>-0.004587</td>\n",
       "      <td>-24.247438</td>\n",
       "      <td>-2.965031</td>\n",
       "      <td>124.495491</td>\n",
       "    </tr>\n",
       "    <tr>\n",
       "      <th>...</th>\n",
       "      <td>...</td>\n",
       "      <td>...</td>\n",
       "      <td>...</td>\n",
       "      <td>...</td>\n",
       "      <td>...</td>\n",
       "      <td>...</td>\n",
       "      <td>...</td>\n",
       "      <td>...</td>\n",
       "    </tr>\n",
       "    <tr>\n",
       "      <th>78</th>\n",
       "      <td>2020-08</td>\n",
       "      <td>2.925967</td>\n",
       "      <td>1.768593</td>\n",
       "      <td>-0.219156</td>\n",
       "      <td>0.037287</td>\n",
       "      <td>-47.520704</td>\n",
       "      <td>1.754513</td>\n",
       "      <td>133.660994</td>\n",
       "    </tr>\n",
       "    <tr>\n",
       "      <th>79</th>\n",
       "      <td>2020-09</td>\n",
       "      <td>3.174017</td>\n",
       "      <td>-3.287548</td>\n",
       "      <td>3.911905</td>\n",
       "      <td>-0.003102</td>\n",
       "      <td>-58.479798</td>\n",
       "      <td>-2.755087</td>\n",
       "      <td>121.295249</td>\n",
       "    </tr>\n",
       "    <tr>\n",
       "      <th>80</th>\n",
       "      <td>2020-10</td>\n",
       "      <td>2.685455</td>\n",
       "      <td>-0.156045</td>\n",
       "      <td>2.566342</td>\n",
       "      <td>-0.002683</td>\n",
       "      <td>-26.840161</td>\n",
       "      <td>-0.055909</td>\n",
       "      <td>119.282031</td>\n",
       "    </tr>\n",
       "    <tr>\n",
       "      <th>81</th>\n",
       "      <td>2020-11</td>\n",
       "      <td>-0.234758</td>\n",
       "      <td>1.952967</td>\n",
       "      <td>-2.209318</td>\n",
       "      <td>0.005975</td>\n",
       "      <td>-36.187530</td>\n",
       "      <td>1.926710</td>\n",
       "      <td>108.879249</td>\n",
       "    </tr>\n",
       "    <tr>\n",
       "      <th>82</th>\n",
       "      <td>2020-12</td>\n",
       "      <td>2.475894</td>\n",
       "      <td>6.616579</td>\n",
       "      <td>12.513864</td>\n",
       "      <td>0.033298</td>\n",
       "      <td>-5.018390</td>\n",
       "      <td>5.441017</td>\n",
       "      <td>103.743673</td>\n",
       "    </tr>\n",
       "  </tbody>\n",
       "</table>\n",
       "<p>82 rows × 8 columns</p>\n",
       "</div>"
      ],
      "text/plain": [
       "      month     D_ttf   D_brent     D_coal  D_exchange_rate  D_des_storage  \\\n",
       "1   2014-03 -0.856689 -0.848492   2.100000         0.017280      51.525440   \n",
       "2   2014-04 -2.500286  0.194286  -0.207143        -0.001943      50.492277   \n",
       "3   2014-05 -1.146853  1.167619  -0.033333        -0.006025     -36.556163   \n",
       "4   2014-06 -1.969909  2.760952  -2.419048        -0.014908     -19.944557   \n",
       "5   2014-07 -0.867652 -4.138095   1.568615        -0.004587     -24.247438   \n",
       "..      ...       ...       ...        ...              ...            ...   \n",
       "78  2020-08  2.925967  1.768593  -0.219156         0.037287     -47.520704   \n",
       "79  2020-09  3.174017 -3.287548   3.911905        -0.003102     -58.479798   \n",
       "80  2020-10  2.685455 -0.156045   2.566342        -0.002683     -26.840161   \n",
       "81  2020-11 -0.234758  1.952967  -2.209318         0.005975     -36.187530   \n",
       "82  2020-12  2.475894  6.616579  12.513864         0.033298      -5.018390   \n",
       "\n",
       "       D_WTI  des_heating  \n",
       "1  -0.250024    94.716456  \n",
       "2   1.387619   109.484086  \n",
       "3  -0.180269   135.508462  \n",
       "4   3.355031   133.200103  \n",
       "5  -2.965031   124.495491  \n",
       "..       ...          ...  \n",
       "78  1.754513   133.660994  \n",
       "79 -2.755087   121.295249  \n",
       "80 -0.055909   119.282031  \n",
       "81  1.926710   108.879249  \n",
       "82  5.441017   103.743673  \n",
       "\n",
       "[82 rows x 8 columns]"
      ]
     },
     "execution_count": 19,
     "metadata": {},
     "output_type": "execute_result"
    }
   ],
   "source": [
    "data_diff.columns = ['month','D_ttf','D_brent','D_coal','D_exchange_rate','D_des_storage','D_WTI','des_heating']\n",
    "data_diff"
   ]
  },
  {
   "cell_type": "code",
   "execution_count": 20,
   "metadata": {
    "colab": {
     "base_uri": "https://localhost:8080/"
    },
    "id": "eBiMoC0DaHWy",
    "outputId": "471d20c0-89ca-48f5-d576-c50973c28600"
   },
   "outputs": [
    {
     "name": "stdout",
     "output_type": "stream",
     "text": [
      "ADF Statistic: -5.506034511413797\n",
      "p-value: 2.242087443449445e-05\n",
      "The null hypothesis can be rejected with a 95% confidence level: the series does not have a unit root\n",
      "ADF Statistic: -5.580826987120643\n",
      "p-value: 1.5919099169745452e-05\n",
      "The null hypothesis can be rejected with a 95% confidence level: the series does not have a unit root\n",
      "ADF Statistic: -6.630102300139725\n",
      "p-value: 9.527743141840916e-08\n",
      "The null hypothesis can be rejected with a 95% confidence level: the series does not have a unit root\n",
      "ADF Statistic: -6.4049233149315805\n",
      "p-value: 2.9796757076426887e-07\n",
      "The null hypothesis can be rejected with a 95% confidence level: the series does not have a unit root\n",
      "ADF Statistic: -7.559595683695507\n",
      "p-value: 7.431049722337566e-10\n",
      "The null hypothesis can be rejected with a 95% confidence level: the series does not have a unit root\n",
      "ADF Statistic: -5.6954019039782695\n",
      "p-value: 9.35745561347288e-06\n",
      "The null hypothesis can be rejected with a 95% confidence level: the series does not have a unit root\n",
      "ADF Statistic: -7.029096392312561\n",
      "p-value: 1.2141418794828476e-08\n",
      "The null hypothesis can be rejected with a 95% confidence level: the series does not have a unit root\n"
     ]
    }
   ],
   "source": [
    "for i in data_diff.columns[1:]:\n",
    "  test_stationary(data_diff[i])"
   ]
  },
  {
   "cell_type": "code",
   "execution_count": 21,
   "metadata": {
    "id": "w7folw-1aWjT"
   },
   "outputs": [],
   "source": [
    "data_diff.to_csv('data_diff.csv')"
   ]
  },
  {
   "cell_type": "markdown",
   "metadata": {
    "id": "sgq-y5TtqoHC"
   },
   "source": [
    "# **OLS regression**"
   ]
  },
  {
   "cell_type": "markdown",
   "metadata": {
    "id": "TsonbHAkhNkA"
   },
   "source": [
    "## Correlation matrix"
   ]
  },
  {
   "cell_type": "code",
   "execution_count": 22,
   "metadata": {
    "colab": {
     "base_uri": "https://localhost:8080/",
     "height": 640
    },
    "id": "BSg3HmGQqm-_",
    "outputId": "94d2972e-e95d-427b-d207-0555a186601e"
   },
   "outputs": [
    {
     "data": {
      "text/plain": [
       "<AxesSubplot:>"
      ]
     },
     "execution_count": 22,
     "metadata": {},
     "output_type": "execute_result"
    },
    {
     "data": {
      "image/png": "[encoded data removed]",
      "text/plain": [
       "<Figure size 432x288 with 2 Axes>"
      ]
     },
     "metadata": {
      "needs_background": "light"
     },
     "output_type": "display_data"
    }
   ],
   "source": [
    "# create an array like the argument, but made of zeros\n",
    "corrs = data[[\"ttf\",\"brent\",\"coal_price\",\"des_heating\",\"des_storage\",\"exchange_rate\"]].corr()\n",
    "mask_corr = np.zeros_like(corrs)\n",
    "\n",
    "# map True onto the upper triangle of the mask\n",
    "mask_corr[np.triu_indices_from(mask_corr)] = True\n",
    "\n",
    "#sns allows not to show the cells for which mask is true\n",
    "sns.heatmap(corrs,vmin=-1,vmax=1,mask=mask_corr,cmap=\"YlGnBu\",square=True)"
   ]
  },
  {
   "cell_type": "markdown",
   "metadata": {
    "id": "QAaOmafXhV-v"
   },
   "source": [
    "## Normality check"
   ]
  },
  {
   "cell_type": "code",
   "execution_count": 24,
   "metadata": {
    "colab": {
     "base_uri": "https://localhost:8080/",
     "height": 592
    },
    "id": "Vh_03dS_hI5R",
    "outputId": "c42dbc88-afa5-4f51-b742-4dad90e6d753"
   },
   "outputs": [
    {
     "data": {
      "image/png": "[encoded data removed]",
      "text/plain": [
       "<Figure size 432x288 with 1 Axes>"
      ]
     },
     "metadata": {
      "needs_background": "light"
     },
     "output_type": "display_data"
    }
   ],
   "source": [
    "plt.hist(data[\"ttf\"])\n",
    "plt.show()"
   ]
  },
  {
   "cell_type": "code",
   "execution_count": 25,
   "metadata": {
    "colab": {
     "base_uri": "https://localhost:8080/",
     "height": 606
    },
    "id": "F9cdsMd7hlqr",
    "outputId": "27aa8145-4cf8-451b-fce5-b1145feaddc1"
   },
   "outputs": [
    {
     "data": {
      "image/png": "[encoded data removed]",
      "text/plain": [
       "<Figure size 432x288 with 1 Axes>"
      ]
     },
     "metadata": {
      "needs_background": "light"
     },
     "output_type": "display_data"
    }
   ],
   "source": [
    "from statsmodels.graphics.gofplots import qqplot\n",
    "qqplot(data[\"ttf\"], line='s')\n",
    "plt.show()"
   ]
  },
  {
   "cell_type": "markdown",
   "metadata": {},
   "source": [
    "Dummy for LNG need in Europe"
   ]
  },
  {
   "cell_type": "code",
   "execution_count": 26,
   "metadata": {
    "colab": {
     "base_uri": "https://localhost:8080/",
     "height": 419
    },
    "id": "nKAHx37pigxJ",
    "outputId": "505e1835-be3a-4f30-df73-8f8c32c8f86c"
   },
   "outputs": [
    {
     "data": {
      "text/html": [
       "<div>\n",
       "<style scoped>\n",
       "    .dataframe tbody tr th:only-of-type {\n",
       "        vertical-align: middle;\n",
       "    }\n",
       "\n",
       "    .dataframe tbody tr th {\n",
       "        vertical-align: top;\n",
       "    }\n",
       "\n",
       "    .dataframe thead th {\n",
       "        text-align: right;\n",
       "    }\n",
       "</style>\n",
       "<table border=\"1\" class=\"dataframe\">\n",
       "  <thead>\n",
       "    <tr style=\"text-align: right;\">\n",
       "      <th></th>\n",
       "      <th>month</th>\n",
       "      <th>D_ttf</th>\n",
       "      <th>D_brent</th>\n",
       "      <th>D_coal</th>\n",
       "      <th>D_exchange_rate</th>\n",
       "      <th>D_des_storage</th>\n",
       "      <th>D_WTI</th>\n",
       "      <th>des_heating</th>\n",
       "      <th>LNG_dummy</th>\n",
       "    </tr>\n",
       "  </thead>\n",
       "  <tbody>\n",
       "    <tr>\n",
       "      <th>1</th>\n",
       "      <td>2014-03</td>\n",
       "      <td>-0.856689</td>\n",
       "      <td>-0.848492</td>\n",
       "      <td>2.100000</td>\n",
       "      <td>0.017280</td>\n",
       "      <td>51.525440</td>\n",
       "      <td>-0.250024</td>\n",
       "      <td>94.716456</td>\n",
       "      <td>0</td>\n",
       "    </tr>\n",
       "    <tr>\n",
       "      <th>2</th>\n",
       "      <td>2014-04</td>\n",
       "      <td>-2.500286</td>\n",
       "      <td>0.194286</td>\n",
       "      <td>-0.207143</td>\n",
       "      <td>-0.001943</td>\n",
       "      <td>50.492277</td>\n",
       "      <td>1.387619</td>\n",
       "      <td>109.484086</td>\n",
       "      <td>0</td>\n",
       "    </tr>\n",
       "    <tr>\n",
       "      <th>3</th>\n",
       "      <td>2014-05</td>\n",
       "      <td>-1.146853</td>\n",
       "      <td>1.167619</td>\n",
       "      <td>-0.033333</td>\n",
       "      <td>-0.006025</td>\n",
       "      <td>-36.556163</td>\n",
       "      <td>-0.180269</td>\n",
       "      <td>135.508462</td>\n",
       "      <td>0</td>\n",
       "    </tr>\n",
       "    <tr>\n",
       "      <th>4</th>\n",
       "      <td>2014-06</td>\n",
       "      <td>-1.969909</td>\n",
       "      <td>2.760952</td>\n",
       "      <td>-2.419048</td>\n",
       "      <td>-0.014908</td>\n",
       "      <td>-19.944557</td>\n",
       "      <td>3.355031</td>\n",
       "      <td>133.200103</td>\n",
       "      <td>0</td>\n",
       "    </tr>\n",
       "    <tr>\n",
       "      <th>5</th>\n",
       "      <td>2014-07</td>\n",
       "      <td>-0.867652</td>\n",
       "      <td>-4.138095</td>\n",
       "      <td>1.568615</td>\n",
       "      <td>-0.004587</td>\n",
       "      <td>-24.247438</td>\n",
       "      <td>-2.965031</td>\n",
       "      <td>124.495491</td>\n",
       "      <td>0</td>\n",
       "    </tr>\n",
       "    <tr>\n",
       "      <th>...</th>\n",
       "      <td>...</td>\n",
       "      <td>...</td>\n",
       "      <td>...</td>\n",
       "      <td>...</td>\n",
       "      <td>...</td>\n",
       "      <td>...</td>\n",
       "      <td>...</td>\n",
       "      <td>...</td>\n",
       "      <td>...</td>\n",
       "    </tr>\n",
       "    <tr>\n",
       "      <th>78</th>\n",
       "      <td>2020-08</td>\n",
       "      <td>2.925967</td>\n",
       "      <td>1.768593</td>\n",
       "      <td>-0.219156</td>\n",
       "      <td>0.037287</td>\n",
       "      <td>-47.520704</td>\n",
       "      <td>1.754513</td>\n",
       "      <td>133.660994</td>\n",
       "      <td>1</td>\n",
       "    </tr>\n",
       "    <tr>\n",
       "      <th>79</th>\n",
       "      <td>2020-09</td>\n",
       "      <td>3.174017</td>\n",
       "      <td>-3.287548</td>\n",
       "      <td>3.911905</td>\n",
       "      <td>-0.003102</td>\n",
       "      <td>-58.479798</td>\n",
       "      <td>-2.755087</td>\n",
       "      <td>121.295249</td>\n",
       "      <td>1</td>\n",
       "    </tr>\n",
       "    <tr>\n",
       "      <th>80</th>\n",
       "      <td>2020-10</td>\n",
       "      <td>2.685455</td>\n",
       "      <td>-0.156045</td>\n",
       "      <td>2.566342</td>\n",
       "      <td>-0.002683</td>\n",
       "      <td>-26.840161</td>\n",
       "      <td>-0.055909</td>\n",
       "      <td>119.282031</td>\n",
       "      <td>1</td>\n",
       "    </tr>\n",
       "    <tr>\n",
       "      <th>81</th>\n",
       "      <td>2020-11</td>\n",
       "      <td>-0.234758</td>\n",
       "      <td>1.952967</td>\n",
       "      <td>-2.209318</td>\n",
       "      <td>0.005975</td>\n",
       "      <td>-36.187530</td>\n",
       "      <td>1.926710</td>\n",
       "      <td>108.879249</td>\n",
       "      <td>1</td>\n",
       "    </tr>\n",
       "    <tr>\n",
       "      <th>82</th>\n",
       "      <td>2020-12</td>\n",
       "      <td>2.475894</td>\n",
       "      <td>6.616579</td>\n",
       "      <td>12.513864</td>\n",
       "      <td>0.033298</td>\n",
       "      <td>-5.018390</td>\n",
       "      <td>5.441017</td>\n",
       "      <td>103.743673</td>\n",
       "      <td>1</td>\n",
       "    </tr>\n",
       "  </tbody>\n",
       "</table>\n",
       "<p>82 rows × 9 columns</p>\n",
       "</div>"
      ],
      "text/plain": [
       "      month     D_ttf   D_brent     D_coal  D_exchange_rate  D_des_storage  \\\n",
       "1   2014-03 -0.856689 -0.848492   2.100000         0.017280      51.525440   \n",
       "2   2014-04 -2.500286  0.194286  -0.207143        -0.001943      50.492277   \n",
       "3   2014-05 -1.146853  1.167619  -0.033333        -0.006025     -36.556163   \n",
       "4   2014-06 -1.969909  2.760952  -2.419048        -0.014908     -19.944557   \n",
       "5   2014-07 -0.867652 -4.138095   1.568615        -0.004587     -24.247438   \n",
       "..      ...       ...       ...        ...              ...            ...   \n",
       "78  2020-08  2.925967  1.768593  -0.219156         0.037287     -47.520704   \n",
       "79  2020-09  3.174017 -3.287548   3.911905        -0.003102     -58.479798   \n",
       "80  2020-10  2.685455 -0.156045   2.566342        -0.002683     -26.840161   \n",
       "81  2020-11 -0.234758  1.952967  -2.209318         0.005975     -36.187530   \n",
       "82  2020-12  2.475894  6.616579  12.513864         0.033298      -5.018390   \n",
       "\n",
       "       D_WTI  des_heating  LNG_dummy  \n",
       "1  -0.250024    94.716456          0  \n",
       "2   1.387619   109.484086          0  \n",
       "3  -0.180269   135.508462          0  \n",
       "4   3.355031   133.200103          0  \n",
       "5  -2.965031   124.495491          0  \n",
       "..       ...          ...        ...  \n",
       "78  1.754513   133.660994          1  \n",
       "79 -2.755087   121.295249          1  \n",
       "80 -0.055909   119.282031          1  \n",
       "81  1.926710   108.879249          1  \n",
       "82  5.441017   103.743673          1  \n",
       "\n",
       "[82 rows x 9 columns]"
      ]
     },
     "execution_count": 26,
     "metadata": {},
     "output_type": "execute_result"
    }
   ],
   "source": [
    "data_diff['LNG_dummy'] = (data_diff[\"month\"] >= \"2016-9-01\" ).astype(int)"
   ]
  },
  {
   "cell_type": "markdown",
   "metadata": {
    "id": "4TSAYHfAit3W"
   },
   "source": [
    "# Regression"
   ]
  },
  {
   "cell_type": "code",
   "execution_count": null,
   "metadata": {},
   "outputs": [],
   "source": [
    "import statsmodels.api as sm"
   ]
  },
  {
   "cell_type": "markdown",
   "metadata": {},
   "source": [
    "### Full model"
   ]
  },
  {
   "cell_type": "code",
   "execution_count": 42,
   "metadata": {
    "colab": {
     "base_uri": "https://localhost:8080/"
    },
    "id": "5PHsQboKir2V",
    "outputId": "5eb54354-4542-4c69-c541-ea819131384a"
   },
   "outputs": [
    {
     "name": "stdout",
     "output_type": "stream",
     "text": [
      "                            OLS Regression Results                            \n",
      "==============================================================================\n",
      "Dep. Variable:                  D_ttf   R-squared:                       0.492\n",
      "Model:                            OLS   Adj. R-squared:                  0.451\n",
      "Method:                 Least Squares   F-statistic:                     12.08\n",
      "Date:                Sun, 04 Jul 2021   Prob (F-statistic):           1.87e-09\n",
      "Time:                        17:43:45   Log-Likelihood:                -132.30\n",
      "No. Observations:                  82   AIC:                             278.6\n",
      "Df Residuals:                      75   BIC:                             295.4\n",
      "Df Model:                           6                                         \n",
      "Covariance Type:            nonrobust                                         \n",
      "===================================================================================\n",
      "                      coef    std err          t      P>|t|      [0.025      0.975]\n",
      "-----------------------------------------------------------------------------------\n",
      "const              -2.7698      1.059     -2.616      0.011      -4.879      -0.661\n",
      "D_brent             0.0007      0.028      0.027      0.979      -0.054       0.056\n",
      "D_coal              0.2224      0.033      6.704      0.000       0.156       0.289\n",
      "D_des_storage      -0.0082      0.004     -2.188      0.032      -0.016      -0.001\n",
      "des_heating         0.0194      0.008      2.332      0.022       0.003       0.036\n",
      "D_exchange_rate   -16.7155      7.530     -2.220      0.029     -31.716      -1.715\n",
      "LNG_dummy           0.5102      0.303      1.687      0.096      -0.092       1.113\n",
      "==============================================================================\n",
      "Omnibus:                        9.097   Durbin-Watson:                   1.645\n",
      "Prob(Omnibus):                  0.011   Jarque-Bera (JB):                8.787\n",
      "Skew:                           0.755   Prob(JB):                       0.0124\n",
      "Kurtosis:                       3.538   Cond. No.                     6.66e+03\n",
      "==============================================================================\n",
      "\n",
      "Notes:\n",
      "[1] Standard Errors assume that the covariance matrix of the errors is correctly specified.\n",
      "[2] The condition number is large, 6.66e+03. This might indicate that there are\n",
      "strong multicollinearity or other numerical problems.\n"
     ]
    }
   ],
   "source": [
    "X = sm.add_constant(data_diff[[\"D_brent\",\"D_coal\",\"D_des_storage\",\"des_heating\",'D_exchange_rate',\"LNG_dummy\"]])\n",
    "model = sm.OLS(data_diff['D_ttf'],X)\n",
    "results = model.fit()\n",
    "print(results.summary())"
   ]
  },
  {
   "cell_type": "markdown",
   "metadata": {},
   "source": [
    "Check the normality of residuals"
   ]
  },
  {
   "cell_type": "code",
   "execution_count": 43,
   "metadata": {},
   "outputs": [
    {
     "data": {
      "image/png": "[encoded data removed]",
      "text/plain": [
       "<Figure size 432x288 with 1 Axes>"
      ]
     },
     "metadata": {
      "needs_background": "light"
     },
     "output_type": "display_data"
    },
    {
     "data": {
      "image/png": "[encoded data removed]",
      "text/plain": [
       "<Figure size 432x288 with 1 Axes>"
      ]
     },
     "metadata": {
      "needs_background": "light"
     },
     "output_type": "display_data"
    }
   ],
   "source": [
    "plt.hist(results.resid)\n",
    "plt.show()\n",
    "\n",
    "from statsmodels.graphics.gofplots import qqplot\n",
    "qqplot(results.resid, line='s')\n",
    "plt.show()"
   ]
  },
  {
   "cell_type": "markdown",
   "metadata": {},
   "source": [
    "### Restricted model"
   ]
  },
  {
   "cell_type": "code",
   "execution_count": 29,
   "metadata": {},
   "outputs": [
    {
     "name": "stdout",
     "output_type": "stream",
     "text": [
      "                            OLS Regression Results                            \n",
      "==============================================================================\n",
      "Dep. Variable:                  D_ttf   R-squared:                       0.472\n",
      "Model:                            OLS   Adj. R-squared:                  0.438\n",
      "Method:                 Least Squares   F-statistic:                     13.60\n",
      "Date:                Sun, 04 Jul 2021   Prob (F-statistic):           1.78e-09\n",
      "Time:                        17:33:08   Log-Likelihood:                -133.82\n",
      "No. Observations:                  82   AIC:                             279.6\n",
      "Df Residuals:                      76   BIC:                             294.1\n",
      "Df Model:                           5                                         \n",
      "Covariance Type:            nonrobust                                         \n",
      "===================================================================================\n",
      "                      coef    std err          t      P>|t|      [0.025      0.975]\n",
      "-----------------------------------------------------------------------------------\n",
      "const              -2.3450      1.041     -2.253      0.027      -4.418      -0.272\n",
      "D_brent             0.0053      0.028      0.192      0.849      -0.050       0.061\n",
      "D_coal              0.2162      0.033      6.478      0.000       0.150       0.283\n",
      "D_des_storage      -0.0081      0.004     -2.131      0.036      -0.016      -0.001\n",
      "des_heating         0.0184      0.008      2.197      0.031       0.002       0.035\n",
      "D_exchange_rate   -12.9569      7.279     -1.780      0.079     -27.455       1.541\n",
      "==============================================================================\n",
      "Omnibus:                        9.730   Durbin-Watson:                   1.547\n",
      "Prob(Omnibus):                  0.008   Jarque-Bera (JB):                9.608\n",
      "Skew:                           0.802   Prob(JB):                      0.00820\n",
      "Kurtosis:                       3.492   Cond. No.                     6.36e+03\n",
      "==============================================================================\n",
      "\n",
      "Notes:\n",
      "[1] Standard Errors assume that the covariance matrix of the errors is correctly specified.\n",
      "[2] The condition number is large, 6.36e+03. This might indicate that there are\n",
      "strong multicollinearity or other numerical problems.\n"
     ]
    }
   ],
   "source": [
    "X = sm.add_constant(data_diff[[\"D_brent\",\"D_coal\",\"D_des_storage\",\"des_heating\",'D_exchange_rate']])\n",
    "model = sm.OLS(data_diff['D_ttf'],X)\n",
    "results = model.fit()\n",
    "print(results.summary())"
   ]
  },
  {
   "cell_type": "markdown",
   "metadata": {},
   "source": [
    "### Using WTI for oil price"
   ]
  },
  {
   "cell_type": "code",
   "execution_count": 30,
   "metadata": {},
   "outputs": [
    {
     "name": "stdout",
     "output_type": "stream",
     "text": [
      "                            OLS Regression Results                            \n",
      "==============================================================================\n",
      "Dep. Variable:                  D_ttf   R-squared:                       0.492\n",
      "Model:                            OLS   Adj. R-squared:                  0.451\n",
      "Method:                 Least Squares   F-statistic:                     12.08\n",
      "Date:                Sun, 04 Jul 2021   Prob (F-statistic):           1.87e-09\n",
      "Time:                        17:33:50   Log-Likelihood:                -132.30\n",
      "No. Observations:                  82   AIC:                             278.6\n",
      "Df Residuals:                      75   BIC:                             295.4\n",
      "Df Model:                           6                                         \n",
      "Covariance Type:            nonrobust                                         \n",
      "===================================================================================\n",
      "                      coef    std err          t      P>|t|      [0.025      0.975]\n",
      "-----------------------------------------------------------------------------------\n",
      "const              -2.7691      1.059     -2.616      0.011      -4.878      -0.660\n",
      "D_WTI               0.0016      0.030      0.052      0.958      -0.057       0.061\n",
      "D_coal              0.2222      0.033      6.783      0.000       0.157       0.287\n",
      "D_des_storage      -0.0082      0.004     -2.194      0.031      -0.016      -0.001\n",
      "des_heating         0.0194      0.008      2.332      0.022       0.003       0.036\n",
      "D_exchange_rate   -16.7635      7.581     -2.211      0.030     -31.865      -1.662\n",
      "LNG_dummy           0.5098      0.302      1.689      0.095      -0.091       1.111\n",
      "==============================================================================\n",
      "Omnibus:                        9.086   Durbin-Watson:                   1.644\n",
      "Prob(Omnibus):                  0.011   Jarque-Bera (JB):                8.775\n",
      "Skew:                           0.755   Prob(JB):                       0.0124\n",
      "Kurtosis:                       3.537   Cond. No.                     6.71e+03\n",
      "==============================================================================\n",
      "\n",
      "Notes:\n",
      "[1] Standard Errors assume that the covariance matrix of the errors is correctly specified.\n",
      "[2] The condition number is large, 6.71e+03. This might indicate that there are\n",
      "strong multicollinearity or other numerical problems.\n"
     ]
    }
   ],
   "source": [
    "X = sm.add_constant(data_diff[[\"D_WTI\",\"D_coal\",\"D_des_storage\",\"des_heating\",'D_exchange_rate','LNG_dummy']])\n",
    "model = sm.OLS(data_diff['D_ttf'],X)\n",
    "results = model.fit()\n",
    "print(results.summary())"
   ]
  },
  {
   "cell_type": "markdown",
   "metadata": {
    "id": "dRCGEjxwZ-P6"
   },
   "source": [
    "# **Granger Causality**"
   ]
  },
  {
   "cell_type": "code",
   "execution_count": 38,
   "metadata": {},
   "outputs": [],
   "source": [
    "data_var = data_diff[['D_ttf','D_brent','D_coal','D_des_storage']]"
   ]
  },
  {
   "cell_type": "code",
   "execution_count": 40,
   "metadata": {
    "colab": {
     "base_uri": "https://localhost:8080/",
     "height": 205
    },
    "id": "8hLDIG-6aEQf",
    "outputId": "651aac98-52d9-466a-eb4d-c8184622f6e7",
    "scrolled": true
   },
   "outputs": [
    {
     "data": {
      "text/html": [
       "<div>\n",
       "<style scoped>\n",
       "    .dataframe tbody tr th:only-of-type {\n",
       "        vertical-align: middle;\n",
       "    }\n",
       "\n",
       "    .dataframe tbody tr th {\n",
       "        vertical-align: top;\n",
       "    }\n",
       "\n",
       "    .dataframe thead th {\n",
       "        text-align: right;\n",
       "    }\n",
       "</style>\n",
       "<table border=\"1\" class=\"dataframe\">\n",
       "  <thead>\n",
       "    <tr style=\"text-align: right;\">\n",
       "      <th></th>\n",
       "      <th>D_ttf_x</th>\n",
       "      <th>D_brent_x</th>\n",
       "      <th>D_coal_x</th>\n",
       "      <th>D_des_storage_x</th>\n",
       "    </tr>\n",
       "  </thead>\n",
       "  <tbody>\n",
       "    <tr>\n",
       "      <th>D_ttf_y</th>\n",
       "      <td>1.0000</td>\n",
       "      <td>0.0305</td>\n",
       "      <td>0.0001</td>\n",
       "      <td>0.0002</td>\n",
       "    </tr>\n",
       "    <tr>\n",
       "      <th>D_brent_y</th>\n",
       "      <td>0.0716</td>\n",
       "      <td>1.0000</td>\n",
       "      <td>0.0002</td>\n",
       "      <td>0.1535</td>\n",
       "    </tr>\n",
       "    <tr>\n",
       "      <th>D_coal_y</th>\n",
       "      <td>0.0062</td>\n",
       "      <td>0.1299</td>\n",
       "      <td>1.0000</td>\n",
       "      <td>0.0625</td>\n",
       "    </tr>\n",
       "    <tr>\n",
       "      <th>D_des_storage_y</th>\n",
       "      <td>0.0003</td>\n",
       "      <td>0.0002</td>\n",
       "      <td>0.0097</td>\n",
       "      <td>1.0000</td>\n",
       "    </tr>\n",
       "  </tbody>\n",
       "</table>\n",
       "</div>"
      ],
      "text/plain": [
       "                 D_ttf_x  D_brent_x  D_coal_x  D_des_storage_x\n",
       "D_ttf_y           1.0000     0.0305    0.0001           0.0002\n",
       "D_brent_y         0.0716     1.0000    0.0002           0.1535\n",
       "D_coal_y          0.0062     0.1299    1.0000           0.0625\n",
       "D_des_storage_y   0.0003     0.0002    0.0097           1.0000"
      ]
     },
     "execution_count": 40,
     "metadata": {},
     "output_type": "execute_result"
    }
   ],
   "source": [
    "maxlag=12\n",
    "test = 'ssr_chi2test'\n",
    "def grangers_causation_matrix(data, variables, test='ssr_chi2test', verbose=False):    \n",
    "    \"\"\"Check Granger Causality of all possible combinations of the Time series.\n",
    "    The rows are the response variable, columns are predictors. The values in the table \n",
    "    are the P-Values. P-Values lesser than the significance level (0.05), implies \n",
    "    the Null Hypothesis that the coefficients of the corresponding past values is \n",
    "    zero, that is, the X does not granger cause Y can be rejected.\n",
    "\n",
    "    data      : pandas dataframe containing the time series variables\n",
    "    variables : list containing names of the time series variables.\n",
    "    \"\"\"\n",
    "    df = pd.DataFrame(np.zeros((len(variables), len(variables))), columns=variables, index=variables)\n",
    "    for c in df.columns:\n",
    "        for r in df.index:\n",
    "            test_result = grangercausalitytests(data[[r, c]], maxlag=maxlag, verbose=False)\n",
    "            p_values = [round(test_result[i+1][0][test][1],4) for i in range(maxlag)]\n",
    "            if verbose: print(f'Y = {r}, X = {c}, P Values = {p_values}')\n",
    "            min_p_value = np.min(p_values)\n",
    "            df.loc[r, c] = min_p_value\n",
    "    df.columns = [var + '_x' for var in variables]\n",
    "    df.index = [var + '_y' for var in variables]\n",
    "    return df\n",
    "\n",
    "grangers_causation_matrix(data_var, variables = data_var.columns)"
   ]
  },
  {
   "cell_type": "code",
   "execution_count": null,
   "metadata": {},
   "outputs": [],
   "source": []
  }
 ],
 "metadata": {
  "colab": {
   "authorship_tag": "ABX9TyOuyWyxdzigzLKQXhk6TGeu",
   "collapsed_sections": [],
   "include_colab_link": true,
   "name": "Final Edition.ipynb",
   "provenance": []
  },
  "kernelspec": {
   "display_name": "Python 3",
   "language": "python",
   "name": "python3"
  },
  "language_info": {
   "codemirror_mode": {
    "name": "ipython",
    "version": 3
   },
   "file_extension": ".py",
   "mimetype": "text/x-python",
   "name": "python",
   "nbconvert_exporter": "python",
   "pygments_lexer": "ipython3",
   "version": "3.8.8"
  }
 },
 "nbformat": 4,
 "nbformat_minor": 1
}
